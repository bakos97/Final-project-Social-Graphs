{
 "cells": [
  {
   "cell_type": "code",
   "execution_count": 1,
   "metadata": {},
   "outputs": [],
   "source": [
    "# imports\n",
    "import numpy as np\n",
    "import pandas as pd\n",
    "from collections import Counter\n",
    "import math\n",
    "import re\n",
    "import networkx as nx\n",
    "import csv\n",
    "\n",
    "import matplotlib.pyplot as plt"
   ]
  },
  {
   "cell_type": "markdown",
   "metadata": {},
   "source": [
    "We started by generating a sample of 50% of users from initial dataset."
   ]
  },
  {
   "cell_type": "code",
   "execution_count": 4,
   "metadata": {},
   "outputs": [
    {
     "data": {
      "text/html": [
       "<div>\n",
       "<style scoped>\n",
       "    .dataframe tbody tr th:only-of-type {\n",
       "        vertical-align: middle;\n",
       "    }\n",
       "\n",
       "    .dataframe tbody tr th {\n",
       "        vertical-align: top;\n",
       "    }\n",
       "\n",
       "    .dataframe thead th {\n",
       "        text-align: right;\n",
       "    }\n",
       "</style>\n",
       "<table border=\"1\" class=\"dataframe\">\n",
       "  <thead>\n",
       "    <tr style=\"text-align: right;\">\n",
       "      <th></th>\n",
       "      <th>user_id</th>\n",
       "      <th>artistname</th>\n",
       "      <th>trackname</th>\n",
       "      <th>playlistname</th>\n",
       "    </tr>\n",
       "  </thead>\n",
       "  <tbody>\n",
       "    <tr>\n",
       "      <th>0</th>\n",
       "      <td>0007f3dd09c91198371454c608d47f22</td>\n",
       "      <td>Evanescence</td>\n",
       "      <td>My Immortal</td>\n",
       "      <td>Fav songs</td>\n",
       "    </tr>\n",
       "    <tr>\n",
       "      <th>1</th>\n",
       "      <td>0007f3dd09c91198371454c608d47f22</td>\n",
       "      <td>Plain White T's</td>\n",
       "      <td>Hey There Delilah</td>\n",
       "      <td>Fav songs</td>\n",
       "    </tr>\n",
       "    <tr>\n",
       "      <th>2</th>\n",
       "      <td>0007f3dd09c91198371454c608d47f22</td>\n",
       "      <td>Colourshop</td>\n",
       "      <td>2014</td>\n",
       "      <td>2014</td>\n",
       "    </tr>\n",
       "    <tr>\n",
       "      <th>3</th>\n",
       "      <td>000b0f32b5739f052b9d40fcc5c41079</td>\n",
       "      <td>Samuel Ljungblahd</td>\n",
       "      <td>I'm Sorry</td>\n",
       "      <td>Gospel</td>\n",
       "    </tr>\n",
       "    <tr>\n",
       "      <th>4</th>\n",
       "      <td>000c11a16c89aa4b14b328080f5954ee</td>\n",
       "      <td>Miles Davis</td>\n",
       "      <td>Stella By Starlight</td>\n",
       "      <td>Liked from Radio</td>\n",
       "    </tr>\n",
       "  </tbody>\n",
       "</table>\n",
       "</div>"
      ],
      "text/plain": [
       "                            user_id         artistname            trackname  \\\n",
       "0  0007f3dd09c91198371454c608d47f22        Evanescence          My Immortal   \n",
       "1  0007f3dd09c91198371454c608d47f22    Plain White T's    Hey There Delilah   \n",
       "2  0007f3dd09c91198371454c608d47f22         Colourshop                 2014   \n",
       "3  000b0f32b5739f052b9d40fcc5c41079  Samuel Ljungblahd            I'm Sorry   \n",
       "4  000c11a16c89aa4b14b328080f5954ee        Miles Davis  Stella By Starlight   \n",
       "\n",
       "       playlistname  \n",
       "0         Fav songs  \n",
       "1         Fav songs  \n",
       "2              2014  \n",
       "3            Gospel  \n",
       "4  Liked from Radio  "
      ]
     },
     "execution_count": 4,
     "metadata": {},
     "output_type": "execute_result"
    }
   ],
   "source": [
    "df = pd.read_csv('../datasets/spotify_dataset.csv', \n",
    "                         skiprows=1,\n",
    "                         names=['user_id', 'artistname', 'trackname', 'playlistname'],\n",
    "                         on_bad_lines='skip')\n",
    "                         \n",
    "# keep only 50% of the data\n",
    "spotify_df = df.sample(frac=0.01, random_state=0)\n",
    "spotify_df.dropna(inplace=True)\n",
    "spotify_df.sort_values(by=['user_id'], inplace=True)\n",
    "spotify_df.reset_index(inplace=True, drop=True)\n",
    "spotify_df.head()"
   ]
  },
  {
   "cell_type": "markdown",
   "metadata": {},
   "source": [
    "One problem with the dataset is how the names of artists who collaborated on the same song are delimited. Since there is not a standard deminitation, we split the `artistiname` using multiple delimitators: \"&\", \",\",  \"/\", \"and\", \"feat.\", \"ft.\", \"featuring\", \"with\" and check if it is a true collaboration and not the name of an artistic group."
   ]
  },
  {
   "cell_type": "code",
   "execution_count": 5,
   "metadata": {},
   "outputs": [
    {
     "data": {
      "text/html": [
       "<div>\n",
       "<style scoped>\n",
       "    .dataframe tbody tr th:only-of-type {\n",
       "        vertical-align: middle;\n",
       "    }\n",
       "\n",
       "    .dataframe tbody tr th {\n",
       "        vertical-align: top;\n",
       "    }\n",
       "\n",
       "    .dataframe thead th {\n",
       "        text-align: right;\n",
       "    }\n",
       "</style>\n",
       "<table border=\"1\" class=\"dataframe\">\n",
       "  <thead>\n",
       "    <tr style=\"text-align: right;\">\n",
       "      <th></th>\n",
       "      <th>user_id</th>\n",
       "      <th>artistname</th>\n",
       "      <th>trackname</th>\n",
       "      <th>playlistname</th>\n",
       "    </tr>\n",
       "  </thead>\n",
       "  <tbody>\n",
       "    <tr>\n",
       "      <th>0</th>\n",
       "      <td>0007f3dd09c91198371454c608d47f22</td>\n",
       "      <td>Evanescence</td>\n",
       "      <td>My Immortal</td>\n",
       "      <td>Fav songs</td>\n",
       "    </tr>\n",
       "    <tr>\n",
       "      <th>1</th>\n",
       "      <td>0007f3dd09c91198371454c608d47f22</td>\n",
       "      <td>Plain White T's</td>\n",
       "      <td>Hey There Delilah</td>\n",
       "      <td>Fav songs</td>\n",
       "    </tr>\n",
       "    <tr>\n",
       "      <th>2</th>\n",
       "      <td>0007f3dd09c91198371454c608d47f22</td>\n",
       "      <td>Colourshop</td>\n",
       "      <td>2014</td>\n",
       "      <td>2014</td>\n",
       "    </tr>\n",
       "    <tr>\n",
       "      <th>3</th>\n",
       "      <td>000b0f32b5739f052b9d40fcc5c41079</td>\n",
       "      <td>Samuel Ljungblahd</td>\n",
       "      <td>I'm Sorry</td>\n",
       "      <td>Gospel</td>\n",
       "    </tr>\n",
       "    <tr>\n",
       "      <th>4</th>\n",
       "      <td>000c11a16c89aa4b14b328080f5954ee</td>\n",
       "      <td>Miles Davis</td>\n",
       "      <td>Stella By Starlight</td>\n",
       "      <td>Liked from Radio</td>\n",
       "    </tr>\n",
       "    <tr>\n",
       "      <th>...</th>\n",
       "      <td>...</td>\n",
       "      <td>...</td>\n",
       "      <td>...</td>\n",
       "      <td>...</td>\n",
       "    </tr>\n",
       "    <tr>\n",
       "      <th>128563</th>\n",
       "      <td>fff616055993498d6127f3f467cf9f2b</td>\n",
       "      <td>Fitz and The Tantrums</td>\n",
       "      <td>Out Of My League - TEPR Remix</td>\n",
       "      <td>bookstacks</td>\n",
       "    </tr>\n",
       "    <tr>\n",
       "      <th>128564</th>\n",
       "      <td>fff616055993498d6127f3f467cf9f2b</td>\n",
       "      <td>Sam Smith</td>\n",
       "      <td>Safe With Me</td>\n",
       "      <td>bookstacks</td>\n",
       "    </tr>\n",
       "    <tr>\n",
       "      <th>128565</th>\n",
       "      <td>fff77dadf8528083c920b9c018847e8b</td>\n",
       "      <td>Justin Timberlake</td>\n",
       "      <td>My Love</td>\n",
       "      <td>Liked from Radio</td>\n",
       "    </tr>\n",
       "    <tr>\n",
       "      <th>128566</th>\n",
       "      <td>fff77dadf8528083c920b9c018847e8b</td>\n",
       "      <td>Britney Spears</td>\n",
       "      <td>I'm a Slave 4 U</td>\n",
       "      <td>Liked from Radio</td>\n",
       "    </tr>\n",
       "    <tr>\n",
       "      <th>128567</th>\n",
       "      <td>fff77dadf8528083c920b9c018847e8b</td>\n",
       "      <td>The Smashing Pumpkins</td>\n",
       "      <td>Tonight, Tonight</td>\n",
       "      <td>Liked from Radio</td>\n",
       "    </tr>\n",
       "  </tbody>\n",
       "</table>\n",
       "<p>128568 rows × 4 columns</p>\n",
       "</div>"
      ],
      "text/plain": [
       "                                 user_id             artistname  \\\n",
       "0       0007f3dd09c91198371454c608d47f22            Evanescence   \n",
       "1       0007f3dd09c91198371454c608d47f22        Plain White T's   \n",
       "2       0007f3dd09c91198371454c608d47f22             Colourshop   \n",
       "3       000b0f32b5739f052b9d40fcc5c41079      Samuel Ljungblahd   \n",
       "4       000c11a16c89aa4b14b328080f5954ee            Miles Davis   \n",
       "...                                  ...                    ...   \n",
       "128563  fff616055993498d6127f3f467cf9f2b  Fitz and The Tantrums   \n",
       "128564  fff616055993498d6127f3f467cf9f2b              Sam Smith   \n",
       "128565  fff77dadf8528083c920b9c018847e8b      Justin Timberlake   \n",
       "128566  fff77dadf8528083c920b9c018847e8b         Britney Spears   \n",
       "128567  fff77dadf8528083c920b9c018847e8b  The Smashing Pumpkins   \n",
       "\n",
       "                            trackname      playlistname  \n",
       "0                         My Immortal         Fav songs  \n",
       "1                   Hey There Delilah         Fav songs  \n",
       "2                                2014              2014  \n",
       "3                           I'm Sorry            Gospel  \n",
       "4                 Stella By Starlight  Liked from Radio  \n",
       "...                               ...               ...  \n",
       "128563  Out Of My League - TEPR Remix        bookstacks  \n",
       "128564                   Safe With Me        bookstacks  \n",
       "128565                        My Love  Liked from Radio  \n",
       "128566                I'm a Slave 4 U  Liked from Radio  \n",
       "128567               Tonight, Tonight  Liked from Radio  \n",
       "\n",
       "[128568 rows x 4 columns]"
      ]
     },
     "execution_count": 5,
     "metadata": {},
     "output_type": "execute_result"
    }
   ],
   "source": [
    "spotify_df.drop_duplicates()"
   ]
  },
  {
   "cell_type": "code",
   "execution_count": 3,
   "metadata": {},
   "outputs": [
    {
     "name": "stdout",
     "output_type": "stream",
     "text": [
      "0\n",
      "1285606\n"
     ]
    }
   ],
   "source": [
    "# generate initial artists set\n",
    "artists_set = set(map(str.lower, spotify_df.artistname))\n",
    "\n",
    "for idx, entry in spotify_df.iterrows():\n",
    "    if (idx * 100 / len(spotify_df)) % 10 == 0:\n",
    "        print(idx)\n",
    "        \n",
    "    is_group = True\n",
    "\n",
    "    names = re.split('(?: and | & |, | \\/ | feat. | ft. | f. | featuring | with |- )', str(entry.artistname.lower()))\n",
    "    # check if artistname is not the name of an artistic group:\n",
    "    if set(names).issubset(artists_set):\n",
    "        # update the entry\n",
    "        entry.artistname = names\n",
    "    else:\n",
    "        entry.artistname = [entry.artistname.lower()]\n"
   ]
  },
  {
   "cell_type": "markdown",
   "metadata": {},
   "source": [
    "## Generate artists dataframe"
   ]
  },
  {
   "cell_type": "code",
   "execution_count": 5,
   "metadata": {},
   "outputs": [
    {
     "data": {
      "text/plain": [
       "140560"
      ]
     },
     "execution_count": 5,
     "metadata": {},
     "output_type": "execute_result"
    }
   ],
   "source": [
    "# update the artists set\n",
    "artists_set = set([artist for artists in spotify_df.artistname for artist in artists])\n",
    "len(artists_set)"
   ]
  },
  {
   "cell_type": "markdown",
   "metadata": {},
   "source": [
    "The resulted number of artists is too high to be processed, we have to extract the most relevant artists. Therefore, we computed a graph of collaborations and extracted the giant connected component."
   ]
  },
  {
   "cell_type": "markdown",
   "metadata": {},
   "source": [
    "### Extract artists"
   ]
  },
  {
   "cell_type": "code",
   "execution_count": 6,
   "metadata": {},
   "outputs": [],
   "source": [
    "collaborations_graph = nx.Graph()\n",
    "collaborations_graph.add_nodes_from(artists_set)"
   ]
  },
  {
   "cell_type": "code",
   "execution_count": 7,
   "metadata": {},
   "outputs": [],
   "source": [
    "# add nodes if two artists have collaborated to the same song\n",
    "for artists in spotify_df.artistname:\n",
    "    for i in range(len(artists) - 1):\n",
    "        for j in range(i+1, len(artists)):\n",
    "            collaborations_graph.add_edge(artists[i], artists[j])"
   ]
  },
  {
   "cell_type": "code",
   "execution_count": 8,
   "metadata": {},
   "outputs": [],
   "source": [
    "# extract the giant component\n",
    "Gcc = sorted(nx.connected_components(collaborations_graph), key=len, reverse=True)\n",
    "collaborations_graph = collaborations_graph.subgraph(Gcc[0])"
   ]
  },
  {
   "cell_type": "code",
   "execution_count": 9,
   "metadata": {},
   "outputs": [
    {
     "data": {
      "text/plain": [
       "2905"
      ]
     },
     "execution_count": 9,
     "metadata": {},
     "output_type": "execute_result"
    }
   ],
   "source": [
    "# update the artists set\n",
    "artists_set = set(collaborations_graph.nodes())\n",
    "len(artists_set)"
   ]
  },
  {
   "cell_type": "markdown",
   "metadata": {},
   "source": [
    "Remove the entries with artists who are not found in `artists_set` from `spotify_df`"
   ]
  },
  {
   "cell_type": "code",
   "execution_count": 10,
   "metadata": {},
   "outputs": [],
   "source": [
    "remove_idx = []\n",
    "for idx, entry in spotify_df.iterrows():\n",
    "    if not set(entry.artistname).issubset(artists_set):\n",
    "        remove_idx.append(idx)"
   ]
  },
  {
   "cell_type": "code",
   "execution_count": 11,
   "metadata": {},
   "outputs": [],
   "source": [
    "spotify_df.drop(remove_idx, axis=0, inplace=True)"
   ]
  },
  {
   "cell_type": "markdown",
   "metadata": {},
   "source": [
    "### Compute artist populariy"
   ]
  },
  {
   "cell_type": "code",
   "execution_count": 12,
   "metadata": {},
   "outputs": [
    {
     "data": {
      "text/plain": [
       "[('daft punk', 7313),\n",
       " ('coldplay', 7238),\n",
       " ('the rolling stones', 6178),\n",
       " ('kanye west', 5928),\n",
       " ('eminem', 5884)]"
      ]
     },
     "execution_count": 12,
     "metadata": {},
     "output_type": "execute_result"
    }
   ],
   "source": [
    "popularity = Counter(x for xs in spotify_df.artistname for x in set(xs))\n",
    "popularity.most_common(5)"
   ]
  },
  {
   "cell_type": "code",
   "execution_count": 13,
   "metadata": {},
   "outputs": [
    {
     "data": {
      "text/plain": [
       "[('tuface idibia', 2),\n",
       " ('the ripper', 2),\n",
       " ('tony sunshine', 2),\n",
       " ('jean', 2),\n",
       " ('richard hayman', 2),\n",
       " ('dorsey', 2),\n",
       " ('yak', 2),\n",
       " ('baobinga', 2),\n",
       " ('id', 2),\n",
       " ('john dankworth', 2),\n",
       " ('shankar-jaikishan', 2),\n",
       " ('jacksons', 2),\n",
       " ('gary nesta pine', 2),\n",
       " ('akon -', 2)]"
      ]
     },
     "execution_count": 13,
     "metadata": {},
     "output_type": "execute_result"
    }
   ],
   "source": [
    "popularity = Counter(x for xs in spotify_df.artistname for x in set(xs))\n",
    "popularity.most_common()[-15: -1]"
   ]
  },
  {
   "cell_type": "code",
   "execution_count": 103,
   "metadata": {},
   "outputs": [
    {
     "data": {
      "text/html": [
       "<div>\n",
       "<style scoped>\n",
       "    .dataframe tbody tr th:only-of-type {\n",
       "        vertical-align: middle;\n",
       "    }\n",
       "\n",
       "    .dataframe tbody tr th {\n",
       "        vertical-align: top;\n",
       "    }\n",
       "\n",
       "    .dataframe thead th {\n",
       "        text-align: right;\n",
       "    }\n",
       "</style>\n",
       "<table border=\"1\" class=\"dataframe\">\n",
       "  <thead>\n",
       "    <tr style=\"text-align: right;\">\n",
       "      <th></th>\n",
       "      <th>user_id</th>\n",
       "      <th>artistname</th>\n",
       "      <th>trackname</th>\n",
       "      <th>playlistname</th>\n",
       "    </tr>\n",
       "  </thead>\n",
       "  <tbody>\n",
       "    <tr>\n",
       "      <th>357</th>\n",
       "      <td>07f0fc3be95dcd878966b1f9572ff670</td>\n",
       "      <td>Daft Punk - Stardust</td>\n",
       "      <td>Human After All/Together/One More Time/Music S...</td>\n",
       "      <td>Daft Punk</td>\n",
       "    </tr>\n",
       "    <tr>\n",
       "      <th>1590</th>\n",
       "      <td>944c80d26922ae634d6ce445b1fdff7f</td>\n",
       "      <td>[500] Days Of Summer - Music From The Motion P...</td>\n",
       "      <td>A Story Of Boy Meets Girl</td>\n",
       "      <td>2014 beginning</td>\n",
       "    </tr>\n",
       "    <tr>\n",
       "      <th>1927</th>\n",
       "      <td>944c80d26922ae634d6ce445b1fdff7f</td>\n",
       "      <td>[500] Days Of Summer - Music From The Motion P...</td>\n",
       "      <td>A Story Of Boy Meets Girl</td>\n",
       "      <td>Starred</td>\n",
       "    </tr>\n",
       "    <tr>\n",
       "      <th>2138</th>\n",
       "      <td>944c80d26922ae634d6ce445b1fdff7f</td>\n",
       "      <td>Les Misérables - Original London Cast</td>\n",
       "      <td>Little People</td>\n",
       "      <td>Starred</td>\n",
       "    </tr>\n",
       "    <tr>\n",
       "      <th>9153</th>\n",
       "      <td>c50566d83fba17b20697039d5824db78</td>\n",
       "      <td>Various Artists - Azzurra Music</td>\n",
       "      <td>Sogno di un a notte di mezz'estate - Intermezzo</td>\n",
       "      <td>Everything at once</td>\n",
       "    </tr>\n",
       "    <tr>\n",
       "      <th>...</th>\n",
       "      <td>...</td>\n",
       "      <td>...</td>\n",
       "      <td>...</td>\n",
       "      <td>...</td>\n",
       "    </tr>\n",
       "    <tr>\n",
       "      <th>12875371</th>\n",
       "      <td>4a5b8338cbe3a8157b728dc8537fefbc</td>\n",
       "      <td>Various Artists - System Of A Down Tribute</td>\n",
       "      <td>Toxicity</td>\n",
       "      <td>System Of A Down</td>\n",
       "    </tr>\n",
       "    <tr>\n",
       "      <th>12876284</th>\n",
       "      <td>d10692996aa81d090bfbcf97a82e98b7</td>\n",
       "      <td>Diddy - Dirty Money &amp; Skylar Grey</td>\n",
       "      <td>Coming Home (feat. Skylar Grey)</td>\n",
       "      <td>Iphone music</td>\n",
       "    </tr>\n",
       "    <tr>\n",
       "      <th>12876514</th>\n",
       "      <td>d10692996aa81d090bfbcf97a82e98b7</td>\n",
       "      <td>Diddy - Dirty Money &amp; Skylar Grey</td>\n",
       "      <td>Coming Home (feat. Skylar Grey)</td>\n",
       "      <td>Marathon Music Son</td>\n",
       "    </tr>\n",
       "    <tr>\n",
       "      <th>12879445</th>\n",
       "      <td>a0e3321d33fb3c9d0a4d822978cf8882</td>\n",
       "      <td>Daddy's Groove - David Guetta</td>\n",
       "      <td>In My Head (feat. Nervo)</td>\n",
       "      <td>David Guetta - Nothing But the Beat Ultimate</td>\n",
       "    </tr>\n",
       "    <tr>\n",
       "      <th>12880249</th>\n",
       "      <td>bc01de2ad7bbe2b7c03845f5b08044b7</td>\n",
       "      <td>David Guetta - Joachim Garraud - Steve Angello...</td>\n",
       "      <td>Baby When The Light</td>\n",
       "      <td>***David Guetta***</td>\n",
       "    </tr>\n",
       "  </tbody>\n",
       "</table>\n",
       "<p>14244 rows × 4 columns</p>\n",
       "</div>"
      ],
      "text/plain": [
       "                                   user_id  \\\n",
       "357       07f0fc3be95dcd878966b1f9572ff670   \n",
       "1590      944c80d26922ae634d6ce445b1fdff7f   \n",
       "1927      944c80d26922ae634d6ce445b1fdff7f   \n",
       "2138      944c80d26922ae634d6ce445b1fdff7f   \n",
       "9153      c50566d83fba17b20697039d5824db78   \n",
       "...                                    ...   \n",
       "12875371  4a5b8338cbe3a8157b728dc8537fefbc   \n",
       "12876284  d10692996aa81d090bfbcf97a82e98b7   \n",
       "12876514  d10692996aa81d090bfbcf97a82e98b7   \n",
       "12879445  a0e3321d33fb3c9d0a4d822978cf8882   \n",
       "12880249  bc01de2ad7bbe2b7c03845f5b08044b7   \n",
       "\n",
       "                                                 artistname  \\\n",
       "357                                    Daft Punk - Stardust   \n",
       "1590      [500] Days Of Summer - Music From The Motion P...   \n",
       "1927      [500] Days Of Summer - Music From The Motion P...   \n",
       "2138                  Les Misérables - Original London Cast   \n",
       "9153                        Various Artists - Azzurra Music   \n",
       "...                                                     ...   \n",
       "12875371         Various Artists - System Of A Down Tribute   \n",
       "12876284                  Diddy - Dirty Money & Skylar Grey   \n",
       "12876514                  Diddy - Dirty Money & Skylar Grey   \n",
       "12879445                      Daddy's Groove - David Guetta   \n",
       "12880249  David Guetta - Joachim Garraud - Steve Angello...   \n",
       "\n",
       "                                                  trackname  \\\n",
       "357       Human After All/Together/One More Time/Music S...   \n",
       "1590                              A Story Of Boy Meets Girl   \n",
       "1927                              A Story Of Boy Meets Girl   \n",
       "2138                                          Little People   \n",
       "9153        Sogno di un a notte di mezz'estate - Intermezzo   \n",
       "...                                                     ...   \n",
       "12875371                                           Toxicity   \n",
       "12876284                    Coming Home (feat. Skylar Grey)   \n",
       "12876514                    Coming Home (feat. Skylar Grey)   \n",
       "12879445                           In My Head (feat. Nervo)   \n",
       "12880249                                Baby When The Light   \n",
       "\n",
       "                                          playlistname  \n",
       "357                                         Daft Punk   \n",
       "1590                                   2014 beginning   \n",
       "1927                                           Starred  \n",
       "2138                                           Starred  \n",
       "9153                                Everything at once  \n",
       "...                                                ...  \n",
       "12875371                              System Of A Down  \n",
       "12876284                                  Iphone music  \n",
       "12876514                            Marathon Music Son  \n",
       "12879445  David Guetta - Nothing But the Beat Ultimate  \n",
       "12880249                            ***David Guetta***  \n",
       "\n",
       "[14244 rows x 4 columns]"
      ]
     },
     "execution_count": 103,
     "metadata": {},
     "output_type": "execute_result"
    }
   ],
   "source": [
    "df.loc[df['artistname'].str.contains(\"- \", case=False, na=False)]"
   ]
  },
  {
   "cell_type": "markdown",
   "metadata": {},
   "source": [
    "Save `artists_set` as csv file"
   ]
  },
  {
   "cell_type": "code",
   "execution_count": 165,
   "metadata": {},
   "outputs": [],
   "source": [
    "with open('artists.csv', 'w') as f:      \n",
    "    # using csv.writer method from CSV package\n",
    "    write = csv.writer(f)\n",
    "      \n",
    "    write.writerow(artists_set)"
   ]
  },
  {
   "cell_type": "markdown",
   "metadata": {},
   "source": [
    "## User dataframe"
   ]
  },
  {
   "cell_type": "code",
   "execution_count": 14,
   "metadata": {},
   "outputs": [],
   "source": [
    "users_dict = dict((k, list()) for k in set(spotify_df.user_id))\n",
    "\n",
    "for _, entry in spotify_df.iterrows():\n",
    "    if (entry.trackname, entry.artistname) not in users_dict[entry.user_id]:\n",
    "        users_dict[entry.user_id].append((entry.trackname, entry.artistname))\n"
   ]
  },
  {
   "cell_type": "code",
   "execution_count": null,
   "metadata": {},
   "outputs": [],
   "source": [
    "len(users_dict)"
   ]
  },
  {
   "cell_type": "code",
   "execution_count": 190,
   "metadata": {},
   "outputs": [],
   "source": [
    "# Users number of songs\n",
    "users_tracks_no=Counter({k: len(v) for k, v in users_dict.items()})"
   ]
  },
  {
   "cell_type": "code",
   "execution_count": 197,
   "metadata": {},
   "outputs": [
    {
     "data": {
      "image/png": "[encoded data removed]",
      "text/plain": [
       "<Figure size 432x288 with 1 Axes>"
      ]
     },
     "metadata": {
      "needs_background": "light"
     },
     "output_type": "display_data"
    }
   ],
   "source": [
    "# Users track number distribution\n",
    "plt.title('Users number of tracks distribution')\n",
    "plt.figure(figsize=(15,5))\n",
    "plt.bar(users_tracks_no.keys(), users_tracks_no.values())\n",
    "plt.xlabel(\"Number of tracks\")\n",
    "plt.ylabel(\"Frequency\")\n",
    "\n",
    "plt.show()"
   ]
  },
  {
   "cell_type": "code",
   "execution_count": 176,
   "metadata": {},
   "outputs": [
    {
     "data": {
      "text/plain": [
       "7826"
      ]
     },
     "execution_count": 176,
     "metadata": {},
     "output_type": "execute_result"
    }
   ],
   "source": [
    "len(users_dict)"
   ]
  },
  {
   "cell_type": "code",
   "execution_count": 177,
   "metadata": {},
   "outputs": [],
   "source": [
    "# remove user with less that 30 tracks\n",
    "users_dict = {k: v for k, v in users_dict.items() if len(v) > 30}"
   ]
  },
  {
   "cell_type": "code",
   "execution_count": 183,
   "metadata": {},
   "outputs": [],
   "source": [
    "a=Counter({k: len(v) for k, v in users_dict.items()})"
   ]
  },
  {
   "cell_type": "markdown",
   "metadata": {},
   "source": [
    "Extract the most relevant users by computing the giant connecting componet"
   ]
  },
  {
   "cell_type": "code",
   "execution_count": 184,
   "metadata": {},
   "outputs": [
    {
     "data": {
      "text/plain": [
       "[('fa849dabeb14a2800ad5130907fc5018', 7462),\n",
       " ('7ee2b92c5bcf6133b8132363e5bda960', 5953),\n",
       " ('4398de6902abde3351347b048fcdc287', 5745),\n",
       " ('6b85a8076b4f3b1036ef15f09e2feeeb', 4086),\n",
       " ('99deafd9b792af8e6a535483088faef2', 3739)]"
      ]
     },
     "execution_count": 184,
     "metadata": {},
     "output_type": "execute_result"
    }
   ],
   "source": [
    "a.most_common(5)"
   ]
  },
  {
   "cell_type": "markdown",
   "metadata": {},
   "source": [
    "### Extract users"
   ]
  },
  {
   "cell_type": "code",
   "execution_count": 178,
   "metadata": {},
   "outputs": [],
   "source": [
    "users_graph = nx.Graph()\n",
    "users_graph.add_nodes_from(list(users_dict.keys()))"
   ]
  },
  {
   "cell_type": "code",
   "execution_count": 179,
   "metadata": {},
   "outputs": [],
   "source": [
    "users_set = list(users_dict.keys())"
   ]
  },
  {
   "cell_type": "code",
   "execution_count": 182,
   "metadata": {},
   "outputs": [
    {
     "name": "stdout",
     "output_type": "stream",
     "text": [
      "0\n"
     ]
    },
    {
     "ename": "KeyboardInterrupt",
     "evalue": "",
     "output_type": "error",
     "traceback": [
      "\u001b[1;31m---------------------------------------------------------------------------\u001b[0m",
      "\u001b[1;31mKeyboardInterrupt\u001b[0m                         Traceback (most recent call last)",
      "\u001b[1;32m~\\AppData\\Local\\Temp/ipykernel_37116/151471965.py\u001b[0m in \u001b[0;36m<module>\u001b[1;34m\u001b[0m\n\u001b[0;32m      8\u001b[0m         \u001b[0muser_B\u001b[0m \u001b[1;33m=\u001b[0m \u001b[0musers_set\u001b[0m\u001b[1;33m[\u001b[0m\u001b[0mj\u001b[0m\u001b[1;33m]\u001b[0m\u001b[1;33m\u001b[0m\u001b[1;33m\u001b[0m\u001b[0m\n\u001b[0;32m      9\u001b[0m \u001b[1;33m\u001b[0m\u001b[0m\n\u001b[1;32m---> 10\u001b[1;33m         \u001b[1;32mfor\u001b[0m \u001b[0mtrack_A\u001b[0m \u001b[1;32min\u001b[0m \u001b[0musers_dict\u001b[0m\u001b[1;33m[\u001b[0m\u001b[0muser_A\u001b[0m\u001b[1;33m]\u001b[0m\u001b[1;33m:\u001b[0m\u001b[1;33m\u001b[0m\u001b[1;33m\u001b[0m\u001b[0m\n\u001b[0m\u001b[0;32m     11\u001b[0m             \u001b[1;32mif\u001b[0m \u001b[0mtrack_A\u001b[0m \u001b[1;32min\u001b[0m \u001b[0musers_dict\u001b[0m\u001b[1;33m[\u001b[0m\u001b[0muser_B\u001b[0m\u001b[1;33m]\u001b[0m\u001b[1;33m:\u001b[0m\u001b[1;33m\u001b[0m\u001b[1;33m\u001b[0m\u001b[0m\n\u001b[0;32m     12\u001b[0m                 \u001b[0musers_graph\u001b[0m\u001b[1;33m.\u001b[0m\u001b[0madd_edge\u001b[0m\u001b[1;33m(\u001b[0m\u001b[0muser_A\u001b[0m\u001b[1;33m,\u001b[0m \u001b[0muser_B\u001b[0m\u001b[1;33m)\u001b[0m\u001b[1;33m\u001b[0m\u001b[1;33m\u001b[0m\u001b[0m\n",
      "\u001b[1;31mKeyboardInterrupt\u001b[0m: "
     ]
    }
   ],
   "source": [
    "users_no = len(users_set)\n",
    "\n",
    "for i in range(users_no - 1):\n",
    "    if i % 100 == 0:\n",
    "        print(i)\n",
    "    for j in range(i, users_no):\n",
    "        user_A = users_set[i]\n",
    "        user_B = users_set[j]\n",
    "\n",
    "        for track_A in users_dict[user_A]:\n",
    "            if track_A in users_dict[user_B]:\n",
    "                users_graph.add_edge(user_A, user_B)\n",
    "                break"
   ]
  },
  {
   "cell_type": "code",
   "execution_count": 144,
   "metadata": {},
   "outputs": [
    {
     "data": {
      "text/plain": [
       "14865"
      ]
     },
     "execution_count": 144,
     "metadata": {},
     "output_type": "execute_result"
    }
   ],
   "source": [
    "users_no"
   ]
  },
  {
   "cell_type": "code",
   "execution_count": null,
   "metadata": {},
   "outputs": [],
   "source": []
  }
 ],
 "metadata": {
  "kernelspec": {
   "display_name": "Python 3 (ipykernel)",
   "language": "python",
   "name": "python3"
  },
  "language_info": {
   "codemirror_mode": {
    "name": "ipython",
    "version": 3
   },
   "file_extension": ".py",
   "mimetype": "text/x-python",
   "name": "python",
   "nbconvert_exporter": "python",
   "pygments_lexer": "ipython3",
   "version": "3.9.13"
  },
  "vscode": {
   "interpreter": {
    "hash": "4e12b95feb72a2bcb1940fe7fb8289dcc3975b1b83ca4e8ecd400d3b43db31fa"
   }
  }
 },
 "nbformat": 4,
 "nbformat_minor": 2
}
