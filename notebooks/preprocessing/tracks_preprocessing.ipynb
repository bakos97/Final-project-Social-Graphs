{
  "nbformat": 4,
  "nbformat_minor": 0,
  "metadata": {
    "colab": {
      "provenance": []
    },
    "kernelspec": {
      "name": "python3",
      "display_name": "Python 3"
    },
    "language_info": {
      "name": "python"
    }
  },
  "cells": [
    {
      "cell_type": "code",
      "source": [
        "!pip install langdetect"
      ],
      "metadata": {
        "id": "khezTz8Es6KF"
      },
      "execution_count": null,
      "outputs": []
    },
    {
      "cell_type": "code",
      "execution_count": 8,
      "metadata": {
        "id": "fcEcpLPyeAyz",
        "colab": {
          "base_uri": "https://localhost:8080/"
        },
        "outputId": "5d71ec0d-7276-4987-9e00-658c5cb5d862"
      },
      "outputs": [
        {
          "output_type": "stream",
          "name": "stderr",
          "text": [
            "[nltk_data] Downloading package omw-1.4 to /root/nltk_data...\n",
            "[nltk_data]   Package omw-1.4 is already up-to-date!\n",
            "[nltk_data] Downloading package stopwords to /root/nltk_data...\n",
            "[nltk_data]   Package stopwords is already up-to-date!\n",
            "[nltk_data] Downloading package wordnet to /root/nltk_data...\n",
            "[nltk_data]   Package wordnet is already up-to-date!\n"
          ]
        }
      ],
      "source": [
        "# imports\n",
        "import pandas as pd\n",
        "import os\n",
        "import requests\n",
        "import urllib\n",
        "import re\n",
        "from bs4 import BeautifulSoup, UnicodeDammit\n",
        "from html import unescape\n",
        "from typing import Optional\n",
        "\n",
        "import numpy as np\n",
        "import matplotlib.pyplot as plt\n",
        "\n",
        "from langdetect import detect, DetectorFactory\n",
        "import nltk\n",
        "from nltk import FreqDist\n",
        "from nltk.tokenize import RegexpTokenizer\n",
        "from nltk.corpus import stopwords\n",
        "nltk.download('omw-1.4')\n",
        "nltk.download('stopwords')\n",
        "nltk.download('wordnet')\n",
        "\n",
        "tokenizer = RegexpTokenizer(r'\\w+')\n",
        "\n",
        "stop_words = set(stopwords.words('english'))\n",
        "wnl = nltk.WordNetLemmatizer() # The WordNet lemmatizer removes affixes if the resulting word is in its dictionary."
      ]
    },
    {
      "cell_type": "code",
      "source": [
        "# load artists dataset\n",
        "artists_df = pd.read_pickle(r\"/content/drive/MyDrive/SocialGraphs/Spotify_data/artists_dataset.pickle\")\n",
        "\n",
        "# load spotify dataset \n",
        "spotify_df = pd.read_pickle(r'/content/drive/MyDrive/SocialGraphs/spotify_dataset_processed.pickle')"
      ],
      "metadata": {
        "id": "cAG0EqezjaOh"
      },
      "execution_count": 3,
      "outputs": []
    },
    {
      "cell_type": "code",
      "source": [
        "# unroll the artist lists in order to associate each song with the corresponding artist\n",
        "spotify_df_exploded = spotify_df.explode('artistname')\n",
        "spotify_df_exploded = spotify_df_exploded.drop_duplicates([\"tracks\", \"artistname\"])\n",
        "\n",
        "# associate each song to the corresponding artist\n",
        "artists_df[\"tracks\"] = \"\"\n",
        "artists_df[\"top_tracks\"] = \"\"\n",
        "\n",
        "i = 0\n",
        "for _, artist in artists_df.iterrows():\n",
        "    if i % 100 == 0:\n",
        "        print(i, \"/\", len(artists_df))\n",
        "    i+=1\n",
        "    temp_df = spotify_df_exploded[spotify_df_exploded.artistname == artist.artistname]\n",
        "    artist.tracks = sorted(temp_df[['tracks', 'tracks_freq']].apply(tuple, axis=1), key=lambda t: t[1], reverse=True)\n",
        "    # get top 5 tracks from each artist\n",
        "    artist.top_tracks = artist.tracks[0:(5 if len(artist.tracks) > 5 else len(artist.tracks))]\n",
        "\n",
        "artists_df.head()"
      ],
      "metadata": {
        "id": "JwD-ddIyK6IC"
      },
      "execution_count": null,
      "outputs": []
    },
    {
      "cell_type": "markdown",
      "source": [
        "Create a tracks dataset, where each tracks will have the associated lyrics:"
      ],
      "metadata": {
        "id": "xqX__PH2MHFQ"
      }
    },
    {
      "cell_type": "code",
      "source": [
        "tracks_set = set([track for tracks in artists_df.top_tracks for track in tracks])\n",
        "data = {'track': list(tracks_set),\n",
        "        'lyrics': [None] * len(tracks_set)}\n",
        "\n",
        "# create tracks dataset\n",
        "tracks_df = pd.DataFrame(data)\n",
        "tracks_df[['track', 'trackfreq']] = pd.DataFrame(tracks_df['track'].tolist(), index=tracks_df.index)\n",
        "tracks_df[['trackname', 'artistname']] = pd.DataFrame(tracks_df['track'].tolist(), index=tracks_df.index)\n",
        "\n",
        "\n",
        "# filter tracks which have a frequency less that 50 in the spotify datase\n",
        "tracks_df = tracks_df[tracks_df.trackfreq > 50]\n",
        "tracks_df.head()"
      ],
      "metadata": {
        "colab": {
          "base_uri": "https://localhost:8080/",
          "height": 206
        },
        "id": "HFiaGnV4xOYW",
        "outputId": "0cce5d95-0a22-49b1-8d2b-a72afacde06b"
      },
      "execution_count": null,
      "outputs": [
        {
          "output_type": "execute_result",
          "data": {
            "text/plain": [
              "                                      track lyrics  trackfreq  \\\n",
              "2                    (Me Enamora, (juanes))   None         58   \n",
              "4               (Bump n' Grind, (r. kelly))   None        201   \n",
              "5                          (Ecstasy, (atb))   None         76   \n",
              "10  (Pro Nails (Rusko Remix), (kid sister))   None         53   \n",
              "13          (Money On My Mind, (sam smith))   None        573   \n",
              "\n",
              "                  trackname    artistname  \n",
              "2                Me Enamora      (juanes)  \n",
              "4             Bump n' Grind    (r. kelly)  \n",
              "5                   Ecstasy         (atb)  \n",
              "10  Pro Nails (Rusko Remix)  (kid sister)  \n",
              "13         Money On My Mind   (sam smith)  "
            ],
            "text/html": [
              "\n",
              "  <div id=\"df-11428d4f-4c7c-429d-a509-396a8d0f4f4d\">\n",
              "    <div class=\"colab-df-container\">\n",
              "      <div>\n",
              "<style scoped>\n",
              "    .dataframe tbody tr th:only-of-type {\n",
              "        vertical-align: middle;\n",
              "    }\n",
              "\n",
              "    .dataframe tbody tr th {\n",
              "        vertical-align: top;\n",
              "    }\n",
              "\n",
              "    .dataframe thead th {\n",
              "        text-align: right;\n",
              "    }\n",
              "</style>\n",
              "<table border=\"1\" class=\"dataframe\">\n",
              "  <thead>\n",
              "    <tr style=\"text-align: right;\">\n",
              "      <th></th>\n",
              "      <th>track</th>\n",
              "      <th>lyrics</th>\n",
              "      <th>trackfreq</th>\n",
              "      <th>trackname</th>\n",
              "      <th>artistname</th>\n",
              "    </tr>\n",
              "  </thead>\n",
              "  <tbody>\n",
              "    <tr>\n",
              "      <th>2</th>\n",
              "      <td>(Me Enamora, (juanes))</td>\n",
              "      <td>None</td>\n",
              "      <td>58</td>\n",
              "      <td>Me Enamora</td>\n",
              "      <td>(juanes)</td>\n",
              "    </tr>\n",
              "    <tr>\n",
              "      <th>4</th>\n",
              "      <td>(Bump n' Grind, (r. kelly))</td>\n",
              "      <td>None</td>\n",
              "      <td>201</td>\n",
              "      <td>Bump n' Grind</td>\n",
              "      <td>(r. kelly)</td>\n",
              "    </tr>\n",
              "    <tr>\n",
              "      <th>5</th>\n",
              "      <td>(Ecstasy, (atb))</td>\n",
              "      <td>None</td>\n",
              "      <td>76</td>\n",
              "      <td>Ecstasy</td>\n",
              "      <td>(atb)</td>\n",
              "    </tr>\n",
              "    <tr>\n",
              "      <th>10</th>\n",
              "      <td>(Pro Nails (Rusko Remix), (kid sister))</td>\n",
              "      <td>None</td>\n",
              "      <td>53</td>\n",
              "      <td>Pro Nails (Rusko Remix)</td>\n",
              "      <td>(kid sister)</td>\n",
              "    </tr>\n",
              "    <tr>\n",
              "      <th>13</th>\n",
              "      <td>(Money On My Mind, (sam smith))</td>\n",
              "      <td>None</td>\n",
              "      <td>573</td>\n",
              "      <td>Money On My Mind</td>\n",
              "      <td>(sam smith)</td>\n",
              "    </tr>\n",
              "  </tbody>\n",
              "</table>\n",
              "</div>\n",
              "      <button class=\"colab-df-convert\" onclick=\"convertToInteractive('df-11428d4f-4c7c-429d-a509-396a8d0f4f4d')\"\n",
              "              title=\"Convert this dataframe to an interactive table.\"\n",
              "              style=\"display:none;\">\n",
              "        \n",
              "  <svg xmlns=\"http://www.w3.org/2000/svg\" height=\"24px\"viewBox=\"0 0 24 24\"\n",
              "       width=\"24px\">\n",
              "    <path d=\"M0 0h24v24H0V0z\" fill=\"none\"/>\n",
              "    <path d=\"M18.56 5.44l.94 2.06.94-2.06 2.06-.94-2.06-.94-.94-2.06-.94 2.06-2.06.94zm-11 1L8.5 8.5l.94-2.06 2.06-.94-2.06-.94L8.5 2.5l-.94 2.06-2.06.94zm10 10l.94 2.06.94-2.06 2.06-.94-2.06-.94-.94-2.06-.94 2.06-2.06.94z\"/><path d=\"M17.41 7.96l-1.37-1.37c-.4-.4-.92-.59-1.43-.59-.52 0-1.04.2-1.43.59L10.3 9.45l-7.72 7.72c-.78.78-.78 2.05 0 2.83L4 21.41c.39.39.9.59 1.41.59.51 0 1.02-.2 1.41-.59l7.78-7.78 2.81-2.81c.8-.78.8-2.07 0-2.86zM5.41 20L4 18.59l7.72-7.72 1.47 1.35L5.41 20z\"/>\n",
              "  </svg>\n",
              "      </button>\n",
              "      \n",
              "  <style>\n",
              "    .colab-df-container {\n",
              "      display:flex;\n",
              "      flex-wrap:wrap;\n",
              "      gap: 12px;\n",
              "    }\n",
              "\n",
              "    .colab-df-convert {\n",
              "      background-color: #E8F0FE;\n",
              "      border: none;\n",
              "      border-radius: 50%;\n",
              "      cursor: pointer;\n",
              "      display: none;\n",
              "      fill: #1967D2;\n",
              "      height: 32px;\n",
              "      padding: 0 0 0 0;\n",
              "      width: 32px;\n",
              "    }\n",
              "\n",
              "    .colab-df-convert:hover {\n",
              "      background-color: #E2EBFA;\n",
              "      box-shadow: 0px 1px 2px rgba(60, 64, 67, 0.3), 0px 1px 3px 1px rgba(60, 64, 67, 0.15);\n",
              "      fill: #174EA6;\n",
              "    }\n",
              "\n",
              "    [theme=dark] .colab-df-convert {\n",
              "      background-color: #3B4455;\n",
              "      fill: #D2E3FC;\n",
              "    }\n",
              "\n",
              "    [theme=dark] .colab-df-convert:hover {\n",
              "      background-color: #434B5C;\n",
              "      box-shadow: 0px 1px 3px 1px rgba(0, 0, 0, 0.15);\n",
              "      filter: drop-shadow(0px 1px 2px rgba(0, 0, 0, 0.3));\n",
              "      fill: #FFFFFF;\n",
              "    }\n",
              "  </style>\n",
              "\n",
              "      <script>\n",
              "        const buttonEl =\n",
              "          document.querySelector('#df-11428d4f-4c7c-429d-a509-396a8d0f4f4d button.colab-df-convert');\n",
              "        buttonEl.style.display =\n",
              "          google.colab.kernel.accessAllowed ? 'block' : 'none';\n",
              "\n",
              "        async function convertToInteractive(key) {\n",
              "          const element = document.querySelector('#df-11428d4f-4c7c-429d-a509-396a8d0f4f4d');\n",
              "          const dataTable =\n",
              "            await google.colab.kernel.invokeFunction('convertToInteractive',\n",
              "                                                     [key], {});\n",
              "          if (!dataTable) return;\n",
              "\n",
              "          const docLinkHtml = 'Like what you see? Visit the ' +\n",
              "            '<a target=\"_blank\" href=https://colab.research.google.com/notebooks/data_table.ipynb>data table notebook</a>'\n",
              "            + ' to learn more about interactive tables.';\n",
              "          element.innerHTML = '';\n",
              "          dataTable['output_type'] = 'display_data';\n",
              "          await google.colab.output.renderOutput(dataTable, element);\n",
              "          const docLink = document.createElement('div');\n",
              "          docLink.innerHTML = docLinkHtml;\n",
              "          element.appendChild(docLink);\n",
              "        }\n",
              "      </script>\n",
              "    </div>\n",
              "  </div>\n",
              "  "
            ]
          },
          "metadata": {},
          "execution_count": 182
        }
      ]
    },
    {
      "cell_type": "code",
      "source": [
        "# assign each track the genre\n",
        "def get_genre(artists):\n",
        "    genres = []    \n",
        "    for g in list(artists_df[artists_df.artistname.isin(artists)].genres):\n",
        "        if g is not None:\n",
        "            genres += g\n",
        "    return genres\n",
        "\n",
        "tracks_df[\"genre\"] = list(map(get_genre, tracks_df.artistname))"
      ],
      "metadata": {
        "id": "Nz48kJ6SPhfa"
      },
      "execution_count": null,
      "outputs": []
    },
    {
      "cell_type": "code",
      "source": [
        "tracks_df.to_pickle(r'/content/drive/MyDrive/SocialGraphs/tracks_dataset.pickle_lyrics')"
      ],
      "metadata": {
        "id": "Ts7ckyqIBatx"
      },
      "execution_count": null,
      "outputs": []
    },
    {
      "cell_type": "markdown",
      "source": [
        "# Get lyrics"
      ],
      "metadata": {
        "id": "6N7g-nG-Bw_P"
      }
    },
    {
      "cell_type": "code",
      "source": [
        "tracks_df =  pd.read_pickle(r'/content/drive/MyDrive/SocialGraphs/Spotify_data/tracks_dataset_lyrics.pickle')"
      ],
      "metadata": {
        "id": "fWm2Szh9PAqr"
      },
      "execution_count": 3,
      "outputs": []
    },
    {
      "cell_type": "code",
      "source": [
        "tracks_df.head()"
      ],
      "metadata": {
        "colab": {
          "base_uri": "https://localhost:8080/",
          "height": 337
        },
        "id": "IxIvysotWpZE",
        "outputId": "f0cb1758-cb94-4447-eca9-450757cd503d"
      },
      "execution_count": null,
      "outputs": [
        {
          "output_type": "execute_result",
          "data": {
            "text/plain": [
              "                                                track  \\\n",
              "3                       [Good People, [jack johnson]]   \n",
              "4               [Get Lucky - Radio Edit, [daft punk]]   \n",
              "7                     [Habits (Stay High), [tove lo]]   \n",
              "8       [The Time (Dirty Bit), [the black eyed peas]]   \n",
              "11  [Killing Me Softly With His Song, [roberta fla...   \n",
              "\n",
              "                                               lyrics  trackfreq  \\\n",
              "3   [Verse 1]\\nOh you win, it's your show now\\nSo ...        204   \n",
              "4                                                           1462   \n",
              "7   [Intro]\\nOh-oh, oh-oh, oh-oh\\n\\n[Verse 1]\\nI e...        419   \n",
              "8                                                            392   \n",
              "11  [Chorus]\\nStrumming my pain with his fingers\\n...        186   \n",
              "\n",
              "                          trackname             artistname  \\\n",
              "3                       Good People         [jack johnson]   \n",
              "4            Get Lucky - Radio Edit            [daft punk]   \n",
              "7                Habits (Stay High)              [tove lo]   \n",
              "8              The Time (Dirty Bit)  [the black eyed peas]   \n",
              "11  Killing Me Softly With His Song        [roberta flack]   \n",
              "\n",
              "                                                genre  \n",
              "3                                        [neo mellow]  \n",
              "4                             [electro, filter house]  \n",
              "7   [dance pop, electropop, metropopolis, pop, swe...  \n",
              "8                                                  []  \n",
              "11  [adult standards, classic soul, disco, funk, m...  "
            ],
            "text/html": [
              "\n",
              "  <div id=\"df-1d87bf3b-6fa6-4d8d-a2fc-56527777981b\">\n",
              "    <div class=\"colab-df-container\">\n",
              "      <div>\n",
              "<style scoped>\n",
              "    .dataframe tbody tr th:only-of-type {\n",
              "        vertical-align: middle;\n",
              "    }\n",
              "\n",
              "    .dataframe tbody tr th {\n",
              "        vertical-align: top;\n",
              "    }\n",
              "\n",
              "    .dataframe thead th {\n",
              "        text-align: right;\n",
              "    }\n",
              "</style>\n",
              "<table border=\"1\" class=\"dataframe\">\n",
              "  <thead>\n",
              "    <tr style=\"text-align: right;\">\n",
              "      <th></th>\n",
              "      <th>track</th>\n",
              "      <th>lyrics</th>\n",
              "      <th>trackfreq</th>\n",
              "      <th>trackname</th>\n",
              "      <th>artistname</th>\n",
              "      <th>genre</th>\n",
              "    </tr>\n",
              "  </thead>\n",
              "  <tbody>\n",
              "    <tr>\n",
              "      <th>3</th>\n",
              "      <td>[Good People, [jack johnson]]</td>\n",
              "      <td>[Verse 1]\\nOh you win, it's your show now\\nSo ...</td>\n",
              "      <td>204</td>\n",
              "      <td>Good People</td>\n",
              "      <td>[jack johnson]</td>\n",
              "      <td>[neo mellow]</td>\n",
              "    </tr>\n",
              "    <tr>\n",
              "      <th>4</th>\n",
              "      <td>[Get Lucky - Radio Edit, [daft punk]]</td>\n",
              "      <td></td>\n",
              "      <td>1462</td>\n",
              "      <td>Get Lucky - Radio Edit</td>\n",
              "      <td>[daft punk]</td>\n",
              "      <td>[electro, filter house]</td>\n",
              "    </tr>\n",
              "    <tr>\n",
              "      <th>7</th>\n",
              "      <td>[Habits (Stay High), [tove lo]]</td>\n",
              "      <td>[Intro]\\nOh-oh, oh-oh, oh-oh\\n\\n[Verse 1]\\nI e...</td>\n",
              "      <td>419</td>\n",
              "      <td>Habits (Stay High)</td>\n",
              "      <td>[tove lo]</td>\n",
              "      <td>[dance pop, electropop, metropopolis, pop, swe...</td>\n",
              "    </tr>\n",
              "    <tr>\n",
              "      <th>8</th>\n",
              "      <td>[The Time (Dirty Bit), [the black eyed peas]]</td>\n",
              "      <td></td>\n",
              "      <td>392</td>\n",
              "      <td>The Time (Dirty Bit)</td>\n",
              "      <td>[the black eyed peas]</td>\n",
              "      <td>[]</td>\n",
              "    </tr>\n",
              "    <tr>\n",
              "      <th>11</th>\n",
              "      <td>[Killing Me Softly With His Song, [roberta fla...</td>\n",
              "      <td>[Chorus]\\nStrumming my pain with his fingers\\n...</td>\n",
              "      <td>186</td>\n",
              "      <td>Killing Me Softly With His Song</td>\n",
              "      <td>[roberta flack]</td>\n",
              "      <td>[adult standards, classic soul, disco, funk, m...</td>\n",
              "    </tr>\n",
              "  </tbody>\n",
              "</table>\n",
              "</div>\n",
              "      <button class=\"colab-df-convert\" onclick=\"convertToInteractive('df-1d87bf3b-6fa6-4d8d-a2fc-56527777981b')\"\n",
              "              title=\"Convert this dataframe to an interactive table.\"\n",
              "              style=\"display:none;\">\n",
              "        \n",
              "  <svg xmlns=\"http://www.w3.org/2000/svg\" height=\"24px\"viewBox=\"0 0 24 24\"\n",
              "       width=\"24px\">\n",
              "    <path d=\"M0 0h24v24H0V0z\" fill=\"none\"/>\n",
              "    <path d=\"M18.56 5.44l.94 2.06.94-2.06 2.06-.94-2.06-.94-.94-2.06-.94 2.06-2.06.94zm-11 1L8.5 8.5l.94-2.06 2.06-.94-2.06-.94L8.5 2.5l-.94 2.06-2.06.94zm10 10l.94 2.06.94-2.06 2.06-.94-2.06-.94-.94-2.06-.94 2.06-2.06.94z\"/><path d=\"M17.41 7.96l-1.37-1.37c-.4-.4-.92-.59-1.43-.59-.52 0-1.04.2-1.43.59L10.3 9.45l-7.72 7.72c-.78.78-.78 2.05 0 2.83L4 21.41c.39.39.9.59 1.41.59.51 0 1.02-.2 1.41-.59l7.78-7.78 2.81-2.81c.8-.78.8-2.07 0-2.86zM5.41 20L4 18.59l7.72-7.72 1.47 1.35L5.41 20z\"/>\n",
              "  </svg>\n",
              "      </button>\n",
              "      \n",
              "  <style>\n",
              "    .colab-df-container {\n",
              "      display:flex;\n",
              "      flex-wrap:wrap;\n",
              "      gap: 12px;\n",
              "    }\n",
              "\n",
              "    .colab-df-convert {\n",
              "      background-color: #E8F0FE;\n",
              "      border: none;\n",
              "      border-radius: 50%;\n",
              "      cursor: pointer;\n",
              "      display: none;\n",
              "      fill: #1967D2;\n",
              "      height: 32px;\n",
              "      padding: 0 0 0 0;\n",
              "      width: 32px;\n",
              "    }\n",
              "\n",
              "    .colab-df-convert:hover {\n",
              "      background-color: #E2EBFA;\n",
              "      box-shadow: 0px 1px 2px rgba(60, 64, 67, 0.3), 0px 1px 3px 1px rgba(60, 64, 67, 0.15);\n",
              "      fill: #174EA6;\n",
              "    }\n",
              "\n",
              "    [theme=dark] .colab-df-convert {\n",
              "      background-color: #3B4455;\n",
              "      fill: #D2E3FC;\n",
              "    }\n",
              "\n",
              "    [theme=dark] .colab-df-convert:hover {\n",
              "      background-color: #434B5C;\n",
              "      box-shadow: 0px 1px 3px 1px rgba(0, 0, 0, 0.15);\n",
              "      filter: drop-shadow(0px 1px 2px rgba(0, 0, 0, 0.3));\n",
              "      fill: #FFFFFF;\n",
              "    }\n",
              "  </style>\n",
              "\n",
              "      <script>\n",
              "        const buttonEl =\n",
              "          document.querySelector('#df-1d87bf3b-6fa6-4d8d-a2fc-56527777981b button.colab-df-convert');\n",
              "        buttonEl.style.display =\n",
              "          google.colab.kernel.accessAllowed ? 'block' : 'none';\n",
              "\n",
              "        async function convertToInteractive(key) {\n",
              "          const element = document.querySelector('#df-1d87bf3b-6fa6-4d8d-a2fc-56527777981b');\n",
              "          const dataTable =\n",
              "            await google.colab.kernel.invokeFunction('convertToInteractive',\n",
              "                                                     [key], {});\n",
              "          if (!dataTable) return;\n",
              "\n",
              "          const docLinkHtml = 'Like what you see? Visit the ' +\n",
              "            '<a target=\"_blank\" href=https://colab.research.google.com/notebooks/data_table.ipynb>data table notebook</a>'\n",
              "            + ' to learn more about interactive tables.';\n",
              "          element.innerHTML = '';\n",
              "          dataTable['output_type'] = 'display_data';\n",
              "          await google.colab.output.renderOutput(dataTable, element);\n",
              "          const docLink = document.createElement('div');\n",
              "          docLink.innerHTML = docLinkHtml;\n",
              "          element.appendChild(docLink);\n",
              "        }\n",
              "      </script>\n",
              "    </div>\n",
              "  </div>\n",
              "  "
            ]
          },
          "metadata": {},
          "execution_count": 3
        }
      ]
    },
    {
      "cell_type": "code",
      "source": [
        "client_access_token = \"xiw8qk2KQVbosuUax1XxElfo4HBwSuRMqfN6QfC5wOruHg9JptmG70Zn-8-sI5E-\"\n",
        "\n",
        "def get_lyrics_url(trackname, artists):\n",
        "    artistname = \", \".join(artists)\n",
        "    search_term = trackname + \" \" + artistname\n",
        "    genius_search_url = f\"http://api.genius.com/search?q={urllib.parse.quote(search_term)}&access_token={client_access_token}\"\n",
        "\n",
        "    response = requests.get(genius_search_url)\n",
        "    json_data = response.json()\n",
        "    lyrics_link = None\n",
        "    for item in json_data[\"response\"][\"hits\"]:\n",
        "    # check if it is a match with the artist name\n",
        "        if any(artist in item['result'][\"artist_names\"].lower() for artist in artists):\n",
        "            # check if it is a match with the track's title\n",
        "            if item['result']['title'].lower() == trackname.lower():\n",
        "                # Print the artist and title of each result\n",
        "                lyrics_link = item['result']['url']\n",
        "    return lyrics_link"
      ],
      "metadata": {
        "id": "xqz-hby0K3FL"
      },
      "execution_count": null,
      "outputs": []
    },
    {
      "cell_type": "code",
      "source": [
        "def get_lyrics(url_data) -> Optional[str]:\n",
        "    if url_data is None:\n",
        "        return \"\"\n",
        "    page = requests.get(url_data)\n",
        "\n",
        "    html = BeautifulSoup(page.text, \"html.parser\")\n",
        "    lyrics_path = html.find(\"div\", class_=\"lyrics\")  # finding div on Genius containing the lyrics\n",
        "    if lyrics_path:\n",
        "        lyrics = UnicodeDammit(lyrics_path.get_text().strip()).unicode_markup\n",
        "    else:\n",
        "        lyrics_path = html.find_all(\"div\", class_=re.compile(\"^Lyrics__Container\"))\n",
        "        lyrics_data = []\n",
        "        for x in lyrics_path:\n",
        "            lyrics_data.append(UnicodeDammit(re.sub(\"<.*?>\", \"\", str(x).replace(\"<br/>\", \"\\n\"))).unicode_markup)\n",
        "\n",
        "        lyrics = \"\\n\".join(unescape(lyrics_data))  # also convert escaped characters to symbols\n",
        "    return lyrics"
      ],
      "metadata": {
        "id": "ilqaP0J4O6Hc"
      },
      "execution_count": null,
      "outputs": []
    },
    {
      "cell_type": "code",
      "source": [
        "i = 0\n",
        "for idx, entry in tracks_df.iterrows():\n",
        "    if i % 10 == 0:\n",
        "        os.system('clear')\n",
        "        print(i , len(tracks_df))\n",
        "    i += 1\n",
        "    tracks_df.at[idx,'lyrics'] = get_lyrics(get_lyrics_url(entry.trackname, entry.artistname))"
      ],
      "metadata": {
        "id": "bhMbYHWAJdTn"
      },
      "execution_count": null,
      "outputs": []
    },
    {
      "cell_type": "code",
      "source": [
        "# drop tracks without lyrics\n",
        "tracks_df = tracks_df.dropna()"
      ],
      "metadata": {
        "id": "MPpsQAxHroon"
      },
      "execution_count": 4,
      "outputs": []
    },
    {
      "cell_type": "code",
      "source": [
        "# drop tracks without lyrics in english\n",
        "DetectorFactory.seed = 0\n",
        "tracks_df = tracks_df[list(map(lambda l: detect(l) == 'en', tracks_df.lyrics))]"
      ],
      "metadata": {
        "id": "JakCxC9UrwT3"
      },
      "execution_count": 12,
      "outputs": []
    },
    {
      "cell_type": "code",
      "source": [
        "# remove construction like [Intro], [Verse 1], [Chorus]\n",
        "tracks_df['lyrics'] = tracks_df['lyrics'].apply(lambda x: re.sub(r\"\\[(\\w*|\\W*)*\\]\", \"\", x))"
      ],
      "metadata": {
        "id": "1bPqsO7dW3Ad"
      },
      "execution_count": null,
      "outputs": []
    },
    {
      "cell_type": "code",
      "source": [
        "tracks_df.shape"
      ],
      "metadata": {
        "colab": {
          "base_uri": "https://localhost:8080/"
        },
        "id": "gino0K5LuPPP",
        "outputId": "910352cb-5b26-49f7-e3db-6c4906bfcbc6"
      },
      "execution_count": 15,
      "outputs": [
        {
          "output_type": "execute_result",
          "data": {
            "text/plain": [
              "(3137, 8)"
            ]
          },
          "metadata": {},
          "execution_count": 15
        }
      ]
    },
    {
      "cell_type": "code",
      "source": [
        "tracks_df.to_pickle(r'/content/drive/MyDrive/SocialGraphs/Spotify_data/tracks_dataset_lyrics.pickle')"
      ],
      "metadata": {
        "id": "nQL2_MIQTb_V"
      },
      "execution_count": 16,
      "outputs": []
    },
    {
      "cell_type": "markdown",
      "source": [
        "Calculate sentiment score:"
      ],
      "metadata": {
        "id": "RrnYvHfsKvlF"
      }
    },
    {
      "cell_type": "code",
      "source": [
        "# load labMT dataset\n",
        "data_labMT = pd.read_csv(r'./labMT.txt', sep=\"\\t\")\n",
        "data_labMT.replace(\"--\", None, inplace=True)\n",
        "data_labMT.head()"
      ],
      "metadata": {
        "colab": {
          "base_uri": "https://localhost:8080/",
          "height": 250
        },
        "id": "M_SjZipuKyUH",
        "outputId": "6a00d4df-f748-4b7b-ea31-0b49a573ba35"
      },
      "execution_count": null,
      "outputs": [
        {
          "output_type": "execute_result",
          "data": {
            "text/plain": [
              "        word  happiness_rank  happiness_average  happiness_standard_deviation  \\\n",
              "0   laughter               1               8.50                        0.9313   \n",
              "1  happiness               2               8.44                        0.9723   \n",
              "2       love               3               8.42                        1.1082   \n",
              "3      happy               4               8.30                        0.9949   \n",
              "4    laughed               5               8.26                        1.1572   \n",
              "\n",
              "  twitter_rank google_rank nyt_rank lyrics_rank  \n",
              "0         3600          --       --        1728  \n",
              "1         1853        2458       --        1230  \n",
              "2           25         317      328          23  \n",
              "3           65        1372     1313         375  \n",
              "4         3334        3542     1313        2332  "
            ],
            "text/html": [
              "\n",
              "  <div id=\"df-e3a5d383-b6a1-4a80-8f68-7aaf61b203ef\">\n",
              "    <div class=\"colab-df-container\">\n",
              "      <div>\n",
              "<style scoped>\n",
              "    .dataframe tbody tr th:only-of-type {\n",
              "        vertical-align: middle;\n",
              "    }\n",
              "\n",
              "    .dataframe tbody tr th {\n",
              "        vertical-align: top;\n",
              "    }\n",
              "\n",
              "    .dataframe thead th {\n",
              "        text-align: right;\n",
              "    }\n",
              "</style>\n",
              "<table border=\"1\" class=\"dataframe\">\n",
              "  <thead>\n",
              "    <tr style=\"text-align: right;\">\n",
              "      <th></th>\n",
              "      <th>word</th>\n",
              "      <th>happiness_rank</th>\n",
              "      <th>happiness_average</th>\n",
              "      <th>happiness_standard_deviation</th>\n",
              "      <th>twitter_rank</th>\n",
              "      <th>google_rank</th>\n",
              "      <th>nyt_rank</th>\n",
              "      <th>lyrics_rank</th>\n",
              "    </tr>\n",
              "  </thead>\n",
              "  <tbody>\n",
              "    <tr>\n",
              "      <th>0</th>\n",
              "      <td>laughter</td>\n",
              "      <td>1</td>\n",
              "      <td>8.50</td>\n",
              "      <td>0.9313</td>\n",
              "      <td>3600</td>\n",
              "      <td>--</td>\n",
              "      <td>--</td>\n",
              "      <td>1728</td>\n",
              "    </tr>\n",
              "    <tr>\n",
              "      <th>1</th>\n",
              "      <td>happiness</td>\n",
              "      <td>2</td>\n",
              "      <td>8.44</td>\n",
              "      <td>0.9723</td>\n",
              "      <td>1853</td>\n",
              "      <td>2458</td>\n",
              "      <td>--</td>\n",
              "      <td>1230</td>\n",
              "    </tr>\n",
              "    <tr>\n",
              "      <th>2</th>\n",
              "      <td>love</td>\n",
              "      <td>3</td>\n",
              "      <td>8.42</td>\n",
              "      <td>1.1082</td>\n",
              "      <td>25</td>\n",
              "      <td>317</td>\n",
              "      <td>328</td>\n",
              "      <td>23</td>\n",
              "    </tr>\n",
              "    <tr>\n",
              "      <th>3</th>\n",
              "      <td>happy</td>\n",
              "      <td>4</td>\n",
              "      <td>8.30</td>\n",
              "      <td>0.9949</td>\n",
              "      <td>65</td>\n",
              "      <td>1372</td>\n",
              "      <td>1313</td>\n",
              "      <td>375</td>\n",
              "    </tr>\n",
              "    <tr>\n",
              "      <th>4</th>\n",
              "      <td>laughed</td>\n",
              "      <td>5</td>\n",
              "      <td>8.26</td>\n",
              "      <td>1.1572</td>\n",
              "      <td>3334</td>\n",
              "      <td>3542</td>\n",
              "      <td>1313</td>\n",
              "      <td>2332</td>\n",
              "    </tr>\n",
              "  </tbody>\n",
              "</table>\n",
              "</div>\n",
              "      <button class=\"colab-df-convert\" onclick=\"convertToInteractive('df-e3a5d383-b6a1-4a80-8f68-7aaf61b203ef')\"\n",
              "              title=\"Convert this dataframe to an interactive table.\"\n",
              "              style=\"display:none;\">\n",
              "        \n",
              "  <svg xmlns=\"http://www.w3.org/2000/svg\" height=\"24px\"viewBox=\"0 0 24 24\"\n",
              "       width=\"24px\">\n",
              "    <path d=\"M0 0h24v24H0V0z\" fill=\"none\"/>\n",
              "    <path d=\"M18.56 5.44l.94 2.06.94-2.06 2.06-.94-2.06-.94-.94-2.06-.94 2.06-2.06.94zm-11 1L8.5 8.5l.94-2.06 2.06-.94-2.06-.94L8.5 2.5l-.94 2.06-2.06.94zm10 10l.94 2.06.94-2.06 2.06-.94-2.06-.94-.94-2.06-.94 2.06-2.06.94z\"/><path d=\"M17.41 7.96l-1.37-1.37c-.4-.4-.92-.59-1.43-.59-.52 0-1.04.2-1.43.59L10.3 9.45l-7.72 7.72c-.78.78-.78 2.05 0 2.83L4 21.41c.39.39.9.59 1.41.59.51 0 1.02-.2 1.41-.59l7.78-7.78 2.81-2.81c.8-.78.8-2.07 0-2.86zM5.41 20L4 18.59l7.72-7.72 1.47 1.35L5.41 20z\"/>\n",
              "  </svg>\n",
              "      </button>\n",
              "      \n",
              "  <style>\n",
              "    .colab-df-container {\n",
              "      display:flex;\n",
              "      flex-wrap:wrap;\n",
              "      gap: 12px;\n",
              "    }\n",
              "\n",
              "    .colab-df-convert {\n",
              "      background-color: #E8F0FE;\n",
              "      border: none;\n",
              "      border-radius: 50%;\n",
              "      cursor: pointer;\n",
              "      display: none;\n",
              "      fill: #1967D2;\n",
              "      height: 32px;\n",
              "      padding: 0 0 0 0;\n",
              "      width: 32px;\n",
              "    }\n",
              "\n",
              "    .colab-df-convert:hover {\n",
              "      background-color: #E2EBFA;\n",
              "      box-shadow: 0px 1px 2px rgba(60, 64, 67, 0.3), 0px 1px 3px 1px rgba(60, 64, 67, 0.15);\n",
              "      fill: #174EA6;\n",
              "    }\n",
              "\n",
              "    [theme=dark] .colab-df-convert {\n",
              "      background-color: #3B4455;\n",
              "      fill: #D2E3FC;\n",
              "    }\n",
              "\n",
              "    [theme=dark] .colab-df-convert:hover {\n",
              "      background-color: #434B5C;\n",
              "      box-shadow: 0px 1px 3px 1px rgba(0, 0, 0, 0.15);\n",
              "      filter: drop-shadow(0px 1px 2px rgba(0, 0, 0, 0.3));\n",
              "      fill: #FFFFFF;\n",
              "    }\n",
              "  </style>\n",
              "\n",
              "      <script>\n",
              "        const buttonEl =\n",
              "          document.querySelector('#df-e3a5d383-b6a1-4a80-8f68-7aaf61b203ef button.colab-df-convert');\n",
              "        buttonEl.style.display =\n",
              "          google.colab.kernel.accessAllowed ? 'block' : 'none';\n",
              "\n",
              "        async function convertToInteractive(key) {\n",
              "          const element = document.querySelector('#df-e3a5d383-b6a1-4a80-8f68-7aaf61b203ef');\n",
              "          const dataTable =\n",
              "            await google.colab.kernel.invokeFunction('convertToInteractive',\n",
              "                                                     [key], {});\n",
              "          if (!dataTable) return;\n",
              "\n",
              "          const docLinkHtml = 'Like what you see? Visit the ' +\n",
              "            '<a target=\"_blank\" href=https://colab.research.google.com/notebooks/data_table.ipynb>data table notebook</a>'\n",
              "            + ' to learn more about interactive tables.';\n",
              "          element.innerHTML = '';\n",
              "          dataTable['output_type'] = 'display_data';\n",
              "          await google.colab.output.renderOutput(dataTable, element);\n",
              "          const docLink = document.createElement('div');\n",
              "          docLink.innerHTML = docLinkHtml;\n",
              "          element.appendChild(docLink);\n",
              "        }\n",
              "      </script>\n",
              "    </div>\n",
              "  </div>\n",
              "  "
            ]
          },
          "metadata": {},
          "execution_count": 51
        }
      ]
    },
    {
      "cell_type": "code",
      "source": [
        "def get_tokens(document, stopwords=False, lemmatize=False):\n",
        "    # 1. and 2. Tokenize the document into individual strings\n",
        "    # and Remove all punctuation from your list of tokens\n",
        "    tokens = tokenizer.tokenize(document)\n",
        "    \n",
        "    # 3. set evarything to lower case\n",
        "    tokens = [w.lower() for w in tokens]\n",
        "    \n",
        "    if stopwords is True:\n",
        "        # remove stop words\n",
        "        tokens = [w for w in tokens if w not in stop_words]\n",
        "    if lemmatize is True:\n",
        "        # lemmatize the words\n",
        "        tokens = [wnl.lemmatize(w) for w in tokens]\n",
        "    \n",
        "    return tokens"
      ],
      "metadata": {
        "id": "ODahKd5CLqcO"
      },
      "execution_count": null,
      "outputs": []
    },
    {
      "cell_type": "markdown",
      "source": [
        "Tokenize the lyrics:"
      ],
      "metadata": {
        "id": "0k_9FxbjNE49"
      }
    },
    {
      "cell_type": "code",
      "source": [
        "# remove construction like [Intro], [Verse 1], [Chorus]\n",
        "tracks_df['lyrics'] = tracks_df['lyrics'].apply(lambda x: re.sub(r\"\\[([^]]+)\\]\", \"\", x))"
      ],
      "metadata": {
        "id": "eZUSxomSNh5O"
      },
      "execution_count": null,
      "outputs": []
    },
    {
      "cell_type": "code",
      "source": [
        "tracks_df['tokens'] = tracks_df['lyrics'].apply(get_tokens)"
      ],
      "metadata": {
        "id": "vuCieaXSJ8Kz"
      },
      "execution_count": null,
      "outputs": []
    },
    {
      "cell_type": "markdown",
      "source": [
        "Compute sentiment for each song:"
      ],
      "metadata": {
        "id": "-MdgsGQvKL81"
      }
    },
    {
      "cell_type": "code",
      "source": [
        "def sentiment(tokens):\n",
        "    \"\"\"\n",
        "        returns the average sentiment value of the tokens\n",
        "    \"\"\"\n",
        "    sentiment = data_labMT[data_labMT.word.isin(tokens)].happiness_average.mean()\n",
        "    return sentiment"
      ],
      "metadata": {
        "id": "x-4zCwV5KOa7"
      },
      "execution_count": null,
      "outputs": []
    },
    {
      "cell_type": "code",
      "source": [
        "tracks_df['sentiment'] = tracks_df[\"tokens\"].apply(sentiment)"
      ],
      "metadata": {
        "id": "kajj64dBKrhx"
      },
      "execution_count": null,
      "outputs": []
    }
  ]
}