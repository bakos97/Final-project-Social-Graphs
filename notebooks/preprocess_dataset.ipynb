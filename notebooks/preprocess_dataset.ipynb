{
  "cells": [
    {
      "cell_type": "code",
      "source": [
        "!pip install spotipy"
      ],
      "metadata": {
        "colab": {
          "base_uri": "https://localhost:8080/"
        },
        "id": "9BTrK7RBJyxR",
        "outputId": "4981e483-729c-45fc-9715-40e5aeb3aa9c"
      },
      "execution_count": 3,
      "outputs": [
        {
          "output_type": "stream",
          "name": "stdout",
          "text": [
            "Looking in indexes: https://pypi.org/simple, https://us-python.pkg.dev/colab-wheels/public/simple/\n",
            "Collecting spotipy\n",
            "  Downloading spotipy-2.21.0-py3-none-any.whl (28 kB)\n",
            "Collecting redis>=3.5.3\n",
            "  Downloading redis-4.3.5-py3-none-any.whl (248 kB)\n",
            "\u001b[K     |████████████████████████████████| 248 kB 41.6 MB/s \n",
            "\u001b[?25hRequirement already satisfied: six>=1.15.0 in /usr/local/lib/python3.7/dist-packages (from spotipy) (1.15.0)\n",
            "Collecting urllib3>=1.26.0\n",
            "  Downloading urllib3-1.26.13-py2.py3-none-any.whl (140 kB)\n",
            "\u001b[K     |████████████████████████████████| 140 kB 57.2 MB/s \n",
            "\u001b[?25hCollecting requests>=2.25.0\n",
            "  Downloading requests-2.28.1-py3-none-any.whl (62 kB)\n",
            "\u001b[K     |████████████████████████████████| 62 kB 1.8 MB/s \n",
            "\u001b[?25hRequirement already satisfied: typing-extensions in /usr/local/lib/python3.7/dist-packages (from redis>=3.5.3->spotipy) (4.1.1)\n",
            "Requirement already satisfied: async-timeout>=4.0.2 in /usr/local/lib/python3.7/dist-packages (from redis>=3.5.3->spotipy) (4.0.2)\n",
            "Requirement already satisfied: importlib-metadata>=1.0 in /usr/local/lib/python3.7/dist-packages (from redis>=3.5.3->spotipy) (4.13.0)\n",
            "Requirement already satisfied: packaging>=20.4 in /usr/local/lib/python3.7/dist-packages (from redis>=3.5.3->spotipy) (21.3)\n",
            "Requirement already satisfied: zipp>=0.5 in /usr/local/lib/python3.7/dist-packages (from importlib-metadata>=1.0->redis>=3.5.3->spotipy) (3.10.0)\n",
            "Requirement already satisfied: pyparsing!=3.0.5,>=2.0.2 in /usr/local/lib/python3.7/dist-packages (from packaging>=20.4->redis>=3.5.3->spotipy) (3.0.9)\n",
            "Requirement already satisfied: idna<4,>=2.5 in /usr/local/lib/python3.7/dist-packages (from requests>=2.25.0->spotipy) (2.10)\n",
            "Requirement already satisfied: charset-normalizer<3,>=2 in /usr/local/lib/python3.7/dist-packages (from requests>=2.25.0->spotipy) (2.1.1)\n",
            "Requirement already satisfied: certifi>=2017.4.17 in /usr/local/lib/python3.7/dist-packages (from requests>=2.25.0->spotipy) (2022.9.24)\n",
            "Installing collected packages: urllib3, requests, redis, spotipy\n",
            "  Attempting uninstall: urllib3\n",
            "    Found existing installation: urllib3 1.24.3\n",
            "    Uninstalling urllib3-1.24.3:\n",
            "      Successfully uninstalled urllib3-1.24.3\n",
            "  Attempting uninstall: requests\n",
            "    Found existing installation: requests 2.23.0\n",
            "    Uninstalling requests-2.23.0:\n",
            "      Successfully uninstalled requests-2.23.0\n",
            "Successfully installed redis-4.3.5 requests-2.28.1 spotipy-2.21.0 urllib3-1.26.13\n"
          ]
        }
      ]
    },
    {
      "cell_type": "code",
      "execution_count": 4,
      "metadata": {
        "id": "yE2C2mAIOFz-"
      },
      "outputs": [],
      "source": [
        "# imports\n",
        "import pickle\n",
        "import json\n",
        "import pandas as pd\n",
        "\n",
        "import networkx as nx\n",
        "from community import community_louvain\n",
        "import fa2\n",
        "\n",
        "import matplotlib.pyplot as plt\n",
        "from collections import Counter\n",
        "import numpy as np\n",
        "import random\n",
        "\n",
        "import re\n",
        "\n",
        "import spotipy\n",
        "from spotipy.oauth2 import SpotifyClientCredentials\n",
        "\n",
        "import os\n",
        "from IPython.display import clear_output \n",
        "\n",
        "save=False"
      ]
    },
    {
      "cell_type": "markdown",
      "source": [
        "We are using a subset of the [**#nowplaying**](https://dbis.uibk.ac.at/sites/default/files/2017-03/wissm03-zangerle.pdf) dataset. The #nowplaying dataset includes tracks which have been tweeted using the hashtags #nowplaying, #listento or #listeningto. \n",
        "\n",
        "The dataset which we are going to use holds users, their playlists and the tracks contained in these playlists. Our interest is just in the tracks what a particular user is listening to, so during the preprocesing phase, the `playlistname` column will be removed."
      ],
      "metadata": {
        "id": "t7nFJQyvdk5K"
      }
    },
    {
      "cell_type": "code",
      "execution_count": 2,
      "metadata": {
        "id": "zKmXr4aOOxBW",
        "colab": {
          "base_uri": "https://localhost:8080/",
          "height": 223
        },
        "outputId": "5b045f49-bc30-4e4d-9843-6cf1caf42ef6"
      },
      "outputs": [
        {
          "output_type": "stream",
          "name": "stdout",
          "text": [
            "Initial datase set size: 11382151\n"
          ]
        },
        {
          "output_type": "execute_result",
          "data": {
            "text/plain": [
              "                            user_id                        artistname  \\\n",
              "0  9cc0cfd4d7d7885102480dd99e7a90d6                    Elvis Costello   \n",
              "1  9cc0cfd4d7d7885102480dd99e7a90d6  Elvis Costello & The Attractions   \n",
              "2  9cc0cfd4d7d7885102480dd99e7a90d6                      Tiffany Page   \n",
              "3  9cc0cfd4d7d7885102480dd99e7a90d6  Elvis Costello & The Attractions   \n",
              "4  9cc0cfd4d7d7885102480dd99e7a90d6                    Elvis Costello   \n",
              "\n",
              "                                           trackname  \n",
              "0               (The Angels Wanna Wear My) Red Shoes  \n",
              "1  (What's So Funny 'Bout) Peace, Love And Unders...  \n",
              "2                                   7 Years Too Late  \n",
              "3                              Accidents Will Happen  \n",
              "4                                             Alison  "
            ],
            "text/html": [
              "\n",
              "  <div id=\"df-fc3ce590-5bd5-45a1-86b1-0ad84228ba9b\">\n",
              "    <div class=\"colab-df-container\">\n",
              "      <div>\n",
              "<style scoped>\n",
              "    .dataframe tbody tr th:only-of-type {\n",
              "        vertical-align: middle;\n",
              "    }\n",
              "\n",
              "    .dataframe tbody tr th {\n",
              "        vertical-align: top;\n",
              "    }\n",
              "\n",
              "    .dataframe thead th {\n",
              "        text-align: right;\n",
              "    }\n",
              "</style>\n",
              "<table border=\"1\" class=\"dataframe\">\n",
              "  <thead>\n",
              "    <tr style=\"text-align: right;\">\n",
              "      <th></th>\n",
              "      <th>user_id</th>\n",
              "      <th>artistname</th>\n",
              "      <th>trackname</th>\n",
              "    </tr>\n",
              "  </thead>\n",
              "  <tbody>\n",
              "    <tr>\n",
              "      <th>0</th>\n",
              "      <td>9cc0cfd4d7d7885102480dd99e7a90d6</td>\n",
              "      <td>Elvis Costello</td>\n",
              "      <td>(The Angels Wanna Wear My) Red Shoes</td>\n",
              "    </tr>\n",
              "    <tr>\n",
              "      <th>1</th>\n",
              "      <td>9cc0cfd4d7d7885102480dd99e7a90d6</td>\n",
              "      <td>Elvis Costello &amp; The Attractions</td>\n",
              "      <td>(What's So Funny 'Bout) Peace, Love And Unders...</td>\n",
              "    </tr>\n",
              "    <tr>\n",
              "      <th>2</th>\n",
              "      <td>9cc0cfd4d7d7885102480dd99e7a90d6</td>\n",
              "      <td>Tiffany Page</td>\n",
              "      <td>7 Years Too Late</td>\n",
              "    </tr>\n",
              "    <tr>\n",
              "      <th>3</th>\n",
              "      <td>9cc0cfd4d7d7885102480dd99e7a90d6</td>\n",
              "      <td>Elvis Costello &amp; The Attractions</td>\n",
              "      <td>Accidents Will Happen</td>\n",
              "    </tr>\n",
              "    <tr>\n",
              "      <th>4</th>\n",
              "      <td>9cc0cfd4d7d7885102480dd99e7a90d6</td>\n",
              "      <td>Elvis Costello</td>\n",
              "      <td>Alison</td>\n",
              "    </tr>\n",
              "  </tbody>\n",
              "</table>\n",
              "</div>\n",
              "      <button class=\"colab-df-convert\" onclick=\"convertToInteractive('df-fc3ce590-5bd5-45a1-86b1-0ad84228ba9b')\"\n",
              "              title=\"Convert this dataframe to an interactive table.\"\n",
              "              style=\"display:none;\">\n",
              "        \n",
              "  <svg xmlns=\"http://www.w3.org/2000/svg\" height=\"24px\"viewBox=\"0 0 24 24\"\n",
              "       width=\"24px\">\n",
              "    <path d=\"M0 0h24v24H0V0z\" fill=\"none\"/>\n",
              "    <path d=\"M18.56 5.44l.94 2.06.94-2.06 2.06-.94-2.06-.94-.94-2.06-.94 2.06-2.06.94zm-11 1L8.5 8.5l.94-2.06 2.06-.94-2.06-.94L8.5 2.5l-.94 2.06-2.06.94zm10 10l.94 2.06.94-2.06 2.06-.94-2.06-.94-.94-2.06-.94 2.06-2.06.94z\"/><path d=\"M17.41 7.96l-1.37-1.37c-.4-.4-.92-.59-1.43-.59-.52 0-1.04.2-1.43.59L10.3 9.45l-7.72 7.72c-.78.78-.78 2.05 0 2.83L4 21.41c.39.39.9.59 1.41.59.51 0 1.02-.2 1.41-.59l7.78-7.78 2.81-2.81c.8-.78.8-2.07 0-2.86zM5.41 20L4 18.59l7.72-7.72 1.47 1.35L5.41 20z\"/>\n",
              "  </svg>\n",
              "      </button>\n",
              "      \n",
              "  <style>\n",
              "    .colab-df-container {\n",
              "      display:flex;\n",
              "      flex-wrap:wrap;\n",
              "      gap: 12px;\n",
              "    }\n",
              "\n",
              "    .colab-df-convert {\n",
              "      background-color: #E8F0FE;\n",
              "      border: none;\n",
              "      border-radius: 50%;\n",
              "      cursor: pointer;\n",
              "      display: none;\n",
              "      fill: #1967D2;\n",
              "      height: 32px;\n",
              "      padding: 0 0 0 0;\n",
              "      width: 32px;\n",
              "    }\n",
              "\n",
              "    .colab-df-convert:hover {\n",
              "      background-color: #E2EBFA;\n",
              "      box-shadow: 0px 1px 2px rgba(60, 64, 67, 0.3), 0px 1px 3px 1px rgba(60, 64, 67, 0.15);\n",
              "      fill: #174EA6;\n",
              "    }\n",
              "\n",
              "    [theme=dark] .colab-df-convert {\n",
              "      background-color: #3B4455;\n",
              "      fill: #D2E3FC;\n",
              "    }\n",
              "\n",
              "    [theme=dark] .colab-df-convert:hover {\n",
              "      background-color: #434B5C;\n",
              "      box-shadow: 0px 1px 3px 1px rgba(0, 0, 0, 0.15);\n",
              "      filter: drop-shadow(0px 1px 2px rgba(0, 0, 0, 0.3));\n",
              "      fill: #FFFFFF;\n",
              "    }\n",
              "  </style>\n",
              "\n",
              "      <script>\n",
              "        const buttonEl =\n",
              "          document.querySelector('#df-fc3ce590-5bd5-45a1-86b1-0ad84228ba9b button.colab-df-convert');\n",
              "        buttonEl.style.display =\n",
              "          google.colab.kernel.accessAllowed ? 'block' : 'none';\n",
              "\n",
              "        async function convertToInteractive(key) {\n",
              "          const element = document.querySelector('#df-fc3ce590-5bd5-45a1-86b1-0ad84228ba9b');\n",
              "          const dataTable =\n",
              "            await google.colab.kernel.invokeFunction('convertToInteractive',\n",
              "                                                     [key], {});\n",
              "          if (!dataTable) return;\n",
              "\n",
              "          const docLinkHtml = 'Like what you see? Visit the ' +\n",
              "            '<a target=\"_blank\" href=https://colab.research.google.com/notebooks/data_table.ipynb>data table notebook</a>'\n",
              "            + ' to learn more about interactive tables.';\n",
              "          element.innerHTML = '';\n",
              "          dataTable['output_type'] = 'display_data';\n",
              "          await google.colab.output.renderOutput(dataTable, element);\n",
              "          const docLink = document.createElement('div');\n",
              "          docLink.innerHTML = docLinkHtml;\n",
              "          element.appendChild(docLink);\n",
              "        }\n",
              "      </script>\n",
              "    </div>\n",
              "  </div>\n",
              "  "
            ]
          },
          "metadata": {},
          "execution_count": 2
        }
      ],
      "source": [
        "spotify_df = pd.read_csv('/content/drive/MyDrive/SocialGraphs/Spotify_data/spotify_dataset.csv', \n",
        "                         skiprows=1,\n",
        "                         names=['user_id', 'artistname', 'trackname', 'playlistname'],\n",
        "                         on_bad_lines='skip')\n",
        "# drop column with NaN\n",
        "spotify_df = spotify_df.dropna()\n",
        "# remove playlist column\n",
        "spotify_df = spotify_df.drop(columns=['playlistname'])\n",
        "# some titles contain only numbers, we force everything to be a string\n",
        "spotify_df[\"trackname\"] = spotify_df.trackname.apply(str)\n",
        "# # remove a user's duplicate tracks\n",
        "spotify_df = spotify_df.drop_duplicates()\n",
        "\n",
        "print(\"Initial datase set size:\", len(spotify_df))\n",
        "spotify_df.head()"
      ]
    },
    {
      "cell_type": "markdown",
      "source": [
        "The `artistname` column contains the artist’s name extracted from the tweets with minimal preprocessing. Therefore, we should validate the column by checking if the values correspond to a single or multiple artists since a song can be performed by a single artist, multiple artists, or groups. \n",
        "\n",
        "We start with computing a set with all values of the `artistname`."
      ],
      "metadata": {
        "id": "2WeOjJK_f1zq"
      }
    },
    {
      "cell_type": "code",
      "execution_count": 4,
      "metadata": {
        "id": "Prwg_Qk5amnh",
        "colab": {
          "base_uri": "https://localhost:8080/"
        },
        "outputId": "e3438f00-588d-41a1-9664-73470a968b16"
      },
      "outputs": [
        {
          "output_type": "execute_result",
          "data": {
            "text/plain": [
              "282520"
            ]
          },
          "metadata": {},
          "execution_count": 4
        }
      ],
      "source": [
        "# generate initial artists set\n",
        "artists_set = set(map(lambda artist: str(artist).lower(), spotify_df.artistname))\n",
        "len(artists_set)"
      ]
    },
    {
      "cell_type": "markdown",
      "source": [
        "The dataset contains 282520 unique values for the `artistname`. Now, we want to check how many of these values correspond to a single artist or it is about a collaboration. \n",
        "\n",
        "One problem with the dataset is how the names of artists who collaborated on the same song are delimited. Since there is not a standard deminitation, we split the `artistiname` using multiple delimitators: \"&\", \",\",  \"/\", \"and\", \"feat.\", \"ft.\", \"featuring\", \"with\" and check if it is a true collaboration and not the name of an artistic group."
      ],
      "metadata": {
        "id": "lhWZjJcphuPg"
      }
    },
    {
      "cell_type": "code",
      "source": [
        "# split artistname using multiple separators:\n",
        "sep = '( and | & |, | \\/ | feat. | feat | ft. | f. | featuring | with | - |; )'\n",
        "spotify_df[\"artistname\"] = spotify_df[\"artistname\"].apply(lambda artistname: re.split(sep, str(artistname).lower()))\n",
        "spotify_df[\"artistname\"] = spotify_df[\"artistname\"].apply(lambda artistname: list((set(artistname) & (artists_set))) if (set(artistname) & (artists_set)) else artistname)"
      ],
      "metadata": {
        "id": "__dBmh8HMgXl"
      },
      "execution_count": 5,
      "outputs": []
    },
    {
      "cell_type": "code",
      "execution_count": 6,
      "metadata": {
        "colab": {
          "base_uri": "https://localhost:8080/",
          "height": 80
        },
        "id": "IA55FTZQaUKR",
        "outputId": "28040ab5-c102-4cf3-b095-1d5cb15b3772"
      },
      "outputs": [
        {
          "output_type": "execute_result",
          "data": {
            "text/plain": [
              "                            user_id        artistname  \\\n",
              "0  9cc0cfd4d7d7885102480dd99e7a90d6  [elvis costello]   \n",
              "\n",
              "                              trackname  \n",
              "0  (The Angels Wanna Wear My) Red Shoes  "
            ],
            "text/html": [
              "\n",
              "  <div id=\"df-981135ac-6e54-4c61-9377-938c18922ba2\">\n",
              "    <div class=\"colab-df-container\">\n",
              "      <div>\n",
              "<style scoped>\n",
              "    .dataframe tbody tr th:only-of-type {\n",
              "        vertical-align: middle;\n",
              "    }\n",
              "\n",
              "    .dataframe tbody tr th {\n",
              "        vertical-align: top;\n",
              "    }\n",
              "\n",
              "    .dataframe thead th {\n",
              "        text-align: right;\n",
              "    }\n",
              "</style>\n",
              "<table border=\"1\" class=\"dataframe\">\n",
              "  <thead>\n",
              "    <tr style=\"text-align: right;\">\n",
              "      <th></th>\n",
              "      <th>user_id</th>\n",
              "      <th>artistname</th>\n",
              "      <th>trackname</th>\n",
              "    </tr>\n",
              "  </thead>\n",
              "  <tbody>\n",
              "    <tr>\n",
              "      <th>0</th>\n",
              "      <td>9cc0cfd4d7d7885102480dd99e7a90d6</td>\n",
              "      <td>[elvis costello]</td>\n",
              "      <td>(The Angels Wanna Wear My) Red Shoes</td>\n",
              "    </tr>\n",
              "  </tbody>\n",
              "</table>\n",
              "</div>\n",
              "      <button class=\"colab-df-convert\" onclick=\"convertToInteractive('df-981135ac-6e54-4c61-9377-938c18922ba2')\"\n",
              "              title=\"Convert this dataframe to an interactive table.\"\n",
              "              style=\"display:none;\">\n",
              "        \n",
              "  <svg xmlns=\"http://www.w3.org/2000/svg\" height=\"24px\"viewBox=\"0 0 24 24\"\n",
              "       width=\"24px\">\n",
              "    <path d=\"M0 0h24v24H0V0z\" fill=\"none\"/>\n",
              "    <path d=\"M18.56 5.44l.94 2.06.94-2.06 2.06-.94-2.06-.94-.94-2.06-.94 2.06-2.06.94zm-11 1L8.5 8.5l.94-2.06 2.06-.94-2.06-.94L8.5 2.5l-.94 2.06-2.06.94zm10 10l.94 2.06.94-2.06 2.06-.94-2.06-.94-.94-2.06-.94 2.06-2.06.94z\"/><path d=\"M17.41 7.96l-1.37-1.37c-.4-.4-.92-.59-1.43-.59-.52 0-1.04.2-1.43.59L10.3 9.45l-7.72 7.72c-.78.78-.78 2.05 0 2.83L4 21.41c.39.39.9.59 1.41.59.51 0 1.02-.2 1.41-.59l7.78-7.78 2.81-2.81c.8-.78.8-2.07 0-2.86zM5.41 20L4 18.59l7.72-7.72 1.47 1.35L5.41 20z\"/>\n",
              "  </svg>\n",
              "      </button>\n",
              "      \n",
              "  <style>\n",
              "    .colab-df-container {\n",
              "      display:flex;\n",
              "      flex-wrap:wrap;\n",
              "      gap: 12px;\n",
              "    }\n",
              "\n",
              "    .colab-df-convert {\n",
              "      background-color: #E8F0FE;\n",
              "      border: none;\n",
              "      border-radius: 50%;\n",
              "      cursor: pointer;\n",
              "      display: none;\n",
              "      fill: #1967D2;\n",
              "      height: 32px;\n",
              "      padding: 0 0 0 0;\n",
              "      width: 32px;\n",
              "    }\n",
              "\n",
              "    .colab-df-convert:hover {\n",
              "      background-color: #E2EBFA;\n",
              "      box-shadow: 0px 1px 2px rgba(60, 64, 67, 0.3), 0px 1px 3px 1px rgba(60, 64, 67, 0.15);\n",
              "      fill: #174EA6;\n",
              "    }\n",
              "\n",
              "    [theme=dark] .colab-df-convert {\n",
              "      background-color: #3B4455;\n",
              "      fill: #D2E3FC;\n",
              "    }\n",
              "\n",
              "    [theme=dark] .colab-df-convert:hover {\n",
              "      background-color: #434B5C;\n",
              "      box-shadow: 0px 1px 3px 1px rgba(0, 0, 0, 0.15);\n",
              "      filter: drop-shadow(0px 1px 2px rgba(0, 0, 0, 0.3));\n",
              "      fill: #FFFFFF;\n",
              "    }\n",
              "  </style>\n",
              "\n",
              "      <script>\n",
              "        const buttonEl =\n",
              "          document.querySelector('#df-981135ac-6e54-4c61-9377-938c18922ba2 button.colab-df-convert');\n",
              "        buttonEl.style.display =\n",
              "          google.colab.kernel.accessAllowed ? 'block' : 'none';\n",
              "\n",
              "        async function convertToInteractive(key) {\n",
              "          const element = document.querySelector('#df-981135ac-6e54-4c61-9377-938c18922ba2');\n",
              "          const dataTable =\n",
              "            await google.colab.kernel.invokeFunction('convertToInteractive',\n",
              "                                                     [key], {});\n",
              "          if (!dataTable) return;\n",
              "\n",
              "          const docLinkHtml = 'Like what you see? Visit the ' +\n",
              "            '<a target=\"_blank\" href=https://colab.research.google.com/notebooks/data_table.ipynb>data table notebook</a>'\n",
              "            + ' to learn more about interactive tables.';\n",
              "          element.innerHTML = '';\n",
              "          dataTable['output_type'] = 'display_data';\n",
              "          await google.colab.output.renderOutput(dataTable, element);\n",
              "          const docLink = document.createElement('div');\n",
              "          docLink.innerHTML = docLinkHtml;\n",
              "          element.appendChild(docLink);\n",
              "        }\n",
              "      </script>\n",
              "    </div>\n",
              "  </div>\n",
              "  "
            ]
          },
          "metadata": {},
          "execution_count": 6
        }
      ],
      "source": [
        "spotify_df.head(1)"
      ]
    },
    {
      "cell_type": "markdown",
      "source": [
        "Now, the `artistname` column is a list, where each entry of the list is the name of the artist performing the song. Since some tracks can have the same name but be performed by different artists, we'll create a new column `tracks`, were we combine the `artistname` and `trackname` columns. Now, we can compute the tracks frequency, which will be very important when we'll create the **users network**."
      ],
      "metadata": {
        "id": "7o0zgJ1eRnyM"
      }
    },
    {
      "cell_type": "code",
      "source": [
        "# we want `artistname` to be hashable, hence we use a frozenset\n",
        "spotify_df.artistname = spotify_df.artistname.apply(frozenset)\n",
        "# since multiple tracks can have the same name, it is essential to create a new entry\n",
        "# in `spotify_df`, where we combine the track's name with the performing artist\n",
        "spotify_df[\"tracks\"] = list(zip(spotify_df['trackname'], spotify_df['artistname']))\n",
        "# compute the tracks frequency and save it into spotify_df\n",
        "spotify_df[\"tracks_freq\"] = spotify_df.groupby(['tracks'])['tracks'].transform('count')"
      ],
      "metadata": {
        "id": "ECKERnZQoV3f"
      },
      "execution_count": 29,
      "outputs": []
    },
    {
      "cell_type": "code",
      "execution_count": 7,
      "metadata": {
        "colab": {
          "base_uri": "https://localhost:8080/"
        },
        "id": "4kNlvdkXg3RL",
        "outputId": "351321a9-1342-402d-f0de-c5ecc3d57df0"
      },
      "outputs": [
        {
          "output_type": "stream",
          "name": "stdout",
          "text": [
            "The number of unique artists in the dataset: 247580\n"
          ]
        }
      ],
      "source": [
        "# update artists set\n",
        "artists_set = set([artist for artists in spotify_df.artistname for artist in artists])\n",
        "print(\"The number of unique artists in the dataset:\", len(artists_set))"
      ]
    },
    {
      "cell_type": "markdown",
      "source": [
        "Even after extracting the collaborations, the number of artists is still far too high. An explanation for this phenomenon is the ease of releasing new songs. Nowadays, it is within anyone's reach to release a new track, and that track doesn't need to be popular. \n",
        "\n",
        "To reduce the number of artists to have more concluded results, we filtered artists based on their `popularity`, whereby popularity means the number of occurrences in the dataset."
      ],
      "metadata": {
        "id": "WG_1cNMeh1Sn"
      }
    },
    {
      "cell_type": "code",
      "source": [
        "# compute number of occurancies\n",
        "popularity = Counter(x for xs in spotify_df.artistname for x in set(xs))"
      ],
      "metadata": {
        "id": "AmmLzVGEn-hO"
      },
      "execution_count": 8,
      "outputs": []
    },
    {
      "cell_type": "code",
      "source": [
        "# top 5 most popular artists\n",
        "print(\"Top 5 most popular artists:\")\n",
        "for a, p in popularity.most_common(5):\n",
        "    print(a, \"-\", p)"
      ],
      "metadata": {
        "colab": {
          "base_uri": "https://localhost:8080/"
        },
        "id": "PJrCtjsam7UT",
        "outputId": "fadec628-5f33-4aac-bc69-22c19274e79b"
      },
      "execution_count": 9,
      "outputs": [
        {
          "output_type": "stream",
          "name": "stdout",
          "text": [
            "Top 5 most popular artists:\n",
            "daft punk - 31446\n",
            "coldplay - 30422\n",
            "radiohead - 27566\n",
            "the rolling stones - 27134\n",
            "eminem - 25849\n"
          ]
        }
      ]
    },
    {
      "cell_type": "markdown",
      "source": [
        "The 5 most popular artists in the dataset correspond to some of the biggest names in the music industry of all time. On the other hand, if we analyzed the artists with a single occurances, they are some names we have not heard of:"
      ],
      "metadata": {
        "id": "DkZCgm84mFlG"
      }
    },
    {
      "cell_type": "code",
      "source": [
        "# top 5 least popular artists\n",
        "print(\"Top 5 least popular artists:\")\n",
        "for a, p in popularity.most_common()[-5:]:\n",
        "    print(a, \"-\", p)"
      ],
      "metadata": {
        "colab": {
          "base_uri": "https://localhost:8080/"
        },
        "id": "WKfeHicjlh3a",
        "outputId": "aebd835e-6f9e-4a5c-c2fb-cf36dc1aef75"
      },
      "execution_count": 10,
      "outputs": [
        {
          "output_type": "stream",
          "name": "stdout",
          "text": [
            "Top 5 least popular artists:\n",
            "kavita krishnamurthy subrahmaniam - 1\n",
            "anuj mathews - 1\n",
            "pathik - 1\n",
            "so so desi - 1\n",
            "cedric gervais starring mya - 1\n"
          ]
        }
      ]
    },
    {
      "cell_type": "markdown",
      "source": [
        "Display popularity distribution"
      ],
      "metadata": {
        "id": "LVmnizzeqgDt"
      }
    },
    {
      "cell_type": "code",
      "source": [
        "_pvalues = list(popularity.values())\n",
        "fig, ax = plt.subplots(figsize=(8,6))\n",
        "\n",
        "plt.title('Artists popularity distribution')\n",
        "ax.hist(_pvalues, bins=100, color='royalblue', log=True)\n",
        "ax.set_xlabel(\"Popularity\")\n",
        "ax.set_ylabel(\"Frequency\")\n",
        "plt.show()\n"
      ],
      "metadata": {
        "colab": {
          "base_uri": "https://localhost:8080/",
          "height": 404
        },
        "id": "_PwSW9N0qju8",
        "outputId": "5f06a8b0-54da-492b-f703-df0d9f94f329"
      },
      "execution_count": 11,
      "outputs": [
        {
          "output_type": "display_data",
          "data": {
            "text/plain": [
              "<Figure size 576x432 with 1 Axes>"
            ],
            "image/png": "[encoded data removed]"
          },
          "metadata": {
            "needs_background": "light"
          }
        }
      ]
    },
    {
      "cell_type": "markdown",
      "source": [
        "The distribution is tail-heavy, there are a lot of artists that don't appear very frequently in the dataset. To counteract this skewness, we have opted to remove artists that appear in the dataset 50 times or less."
      ],
      "metadata": {
        "id": "RNPO27NKHhcC"
      }
    },
    {
      "cell_type": "code",
      "execution_count": 12,
      "metadata": {
        "id": "PkXXRd9ahade"
      },
      "outputs": [],
      "source": [
        "# spotify_df.to_pickle(r'/content/drive/MyDrive/SocialGraphs/spotify_dataset_small.pickle') "
      ]
    },
    {
      "cell_type": "code",
      "source": [
        "artists_set = set([key for key, val in popularity.items() if val > 50])"
      ],
      "metadata": {
        "id": "_UUhALtMHg5W"
      },
      "execution_count": 13,
      "outputs": []
    },
    {
      "cell_type": "code",
      "source": [
        "# drop rows with artists which are not in `artists_set`\n",
        "spotify_df = spotify_df[list(map(lambda artistname: set(artistname).issubset(artists_set), spotify_df.artistname))]"
      ],
      "metadata": {
        "id": "qabBts4LwFyE"
      },
      "execution_count": 14,
      "outputs": []
    },
    {
      "cell_type": "markdown",
      "source": [
        "## Building the artists network"
      ],
      "metadata": {
        "id": "v4GI3s8jQJAc"
      }
    },
    {
      "cell_type": "code",
      "source": [
        "import networkx as nx\n",
        "# build th artist network\n",
        "artists_graph = nx.Graph()\n",
        "# use the artists as nodes\n",
        "artists_graph.add_nodes_from(artists_set)\n"
      ],
      "metadata": {
        "id": "C11ZMY8uMW6E"
      },
      "execution_count": 15,
      "outputs": []
    },
    {
      "cell_type": "markdown",
      "source": [
        "We extract collaborations from the Spotify dataset, where a collaboration only exists if there are multiple artist list entries associated with each track."
      ],
      "metadata": {
        "id": "KQKpUOWQy2W7"
      }
    },
    {
      "cell_type": "code",
      "source": [
        "collaborations = spotify_df.loc[map(lambda artists: len(artists) > 1, spotify_df.artistname)][[\"artistname\"]]\n",
        "print(\"Number of collaborations in dataset:\", len(collaborations))"
      ],
      "metadata": {
        "colab": {
          "base_uri": "https://localhost:8080/"
        },
        "id": "hEirtHi-VgT_",
        "outputId": "8191a4b8-6715-4ca4-db30-92bed45b040b"
      },
      "execution_count": 16,
      "outputs": [
        {
          "output_type": "stream",
          "name": "stdout",
          "text": [
            "Number of collaborations in dataset: 280047\n"
          ]
        }
      ]
    },
    {
      "cell_type": "markdown",
      "source": [
        "We connect each artist according to their collaborations."
      ],
      "metadata": {
        "id": "gBm1QQ6ty01h"
      }
    },
    {
      "cell_type": "code",
      "source": [
        "artists_edges = list(map(lambda a: [(a[i], a[j]) for i in range(0, len(a) - 1) for j in range(i + 1, len(a))],\\\n",
        "                        collaborations.artistname))\n",
        "artists_edges = [j for i in artists_edges for j in i]"
      ],
      "metadata": {
        "id": "cJUNa7gayiTl"
      },
      "execution_count": 17,
      "outputs": []
    },
    {
      "cell_type": "code",
      "source": [
        "artists_graph.add_edges_from(artists_edges)"
      ],
      "metadata": {
        "id": "BeBl2YIw0BWK"
      },
      "execution_count": 18,
      "outputs": []
    },
    {
      "cell_type": "markdown",
      "source": [
        "### Artists' collaboration network"
      ],
      "metadata": {
        "id": "Kpuu_rntCGYs"
      }
    },
    {
      "cell_type": "markdown",
      "source": [
        "The next step is to remove the isolated nodes (the artists without collaborations) and extracted the largest connected component."
      ],
      "metadata": {
        "id": "Fo18VUZazzqJ"
      }
    },
    {
      "cell_type": "code",
      "source": [
        "artists_graph.remove_nodes_from(list(nx.isolates(artists_graph)))\n",
        "Gcc = sorted(nx.connected_components(artists_graph), key=len, reverse=True)\n",
        "artists_graph = artists_graph.subgraph(Gcc[0])\n",
        "\n",
        "print(\"Number of nodes:\", artists_graph.number_of_nodes())\n",
        "print(\"Number of edges:\", artists_graph.number_of_edges())"
      ],
      "metadata": {
        "colab": {
          "base_uri": "https://localhost:8080/"
        },
        "id": "li75Y2SFSe4i",
        "outputId": "44f1ddaf-4b6a-4e2a-8361-56199a7e9dc2"
      },
      "execution_count": 19,
      "outputs": [
        {
          "output_type": "stream",
          "name": "stdout",
          "text": [
            "Number of nodes: 4580\n",
            "Number of edges: 9830\n"
          ]
        }
      ]
    },
    {
      "cell_type": "markdown",
      "source": [
        "Once we have the largest component connected, we can remove the entries in the dataset corresponding to artists that are not a node."
      ],
      "metadata": {
        "id": "-JybSTXkG1_0"
      }
    },
    {
      "cell_type": "code",
      "source": [
        "# update the artists_set\n",
        "artists_set = set(artists_graph.nodes())\n",
        "# drop rows with artists which are not a node\n",
        "spotify_df = spotify_df[list(map(lambda artistname: set(artistname).issubset(artists_set), spotify_df.artistname))]\n",
        "\n",
        "# if save == True:\n",
        "#     spotify_df.to_pickle(r'/content/drive/MyDrive/SocialGraphs/spotify_dataset_preprocessed.pickle')"
      ],
      "metadata": {
        "id": "Wf-GMo-aGvv2"
      },
      "execution_count": 20,
      "outputs": []
    },
    {
      "cell_type": "markdown",
      "source": [
        "#### Get information from Spotify API"
      ],
      "metadata": {
        "id": "BqRyilWuFLLj"
      }
    },
    {
      "cell_type": "markdown",
      "source": [
        "Using the Spotify Api we intend to create an `artists dataset`, where tot keep information about the artist, they spotify id, their spotify popularity, their musical genres and related artists."
      ],
      "metadata": {
        "id": "2FBpCpiZ-Xwy"
      }
    },
    {
      "cell_type": "code",
      "source": [
        "artists_set = set(artists_graph.nodes())\n",
        "data = {'artistname': list(artists_set),\n",
        "        'id': [None] * len(artists_set),\n",
        "        'popularity': [None] * len(artists_set),\n",
        "        'genres': [None] * len(artists_set),\n",
        "        'related_artists': [None] * len(artists_set)}\n",
        "artists_df = pd.DataFrame(data)\n",
        "\n",
        "# if save == True:\n",
        "#     artists_df.to_pickle(r'/content/drive/MyDrive/SocialGraphs/artists_dataset.pickle')"
      ],
      "metadata": {
        "id": "_SFByetvFJGs"
      },
      "execution_count": 25,
      "outputs": []
    },
    {
      "cell_type": "code",
      "source": [
        "# load credentials\n",
        "credentials = json.load(open('authorization.json'))\n",
        "client_id = credentials['client_id']\n",
        "client_secret = credentials['client_secret']"
      ],
      "metadata": {
        "id": "stdlNwiIF2WY"
      },
      "execution_count": 26,
      "outputs": []
    },
    {
      "cell_type": "code",
      "source": [
        "def search_artist_spotify(artist):\n",
        "    results = sp.search(q=artist.artistname, type='artist')\n",
        "    match = []\n",
        "\n",
        "    for result in results['artists']['items']:\n",
        "        # check if artist was found\n",
        "        if result['name'].lower() == artist.artistname:\n",
        "            match.append(result)\n",
        "        # if multiple matches has been found, keep the most popular one\n",
        "        if len(match) >= 1:\n",
        "            match = sorted(match, key = lambda i: i[\"popularity\"], reverse=True)\n",
        "\n",
        "            artist.id = match[0][\"id\"]\n",
        "            artist.popularity = match[0][\"popularity\"]\n",
        "            artist.genres = match[0][\"genres\"]\n",
        "    \n",
        "    return artist"
      ],
      "metadata": {
        "id": "dRfCtUaYF-Wl"
      },
      "execution_count": 27,
      "outputs": []
    },
    {
      "cell_type": "code",
      "source": [
        "def get_related_artists_spotify(artist):\n",
        "    results = sp.artist_related_artists(artist.id)\n",
        "    related_artists=list()\n",
        "    for result in results['artists']:\n",
        "        if result['name'].lower() in set(artists_df.artistname):\n",
        "            related_artists.append(result['name'].lower())\n",
        "    artist.related_artists = related_artists"
      ],
      "metadata": {
        "id": "YGskSbv1GBVG"
      },
      "execution_count": 28,
      "outputs": []
    },
    {
      "cell_type": "code",
      "source": [
        "sp = spotipy.Spotify(client_credentials_manager=SpotifyClientCredentials(\n",
        "    client_id=client_id,\n",
        "    client_secret=client_secret,\n",
        "    ))\n",
        "\n",
        "i = 0\n",
        "for _, artist in artists_df.iterrows():\n",
        "    if i % 100 == 0:\n",
        "        # os.system('clear')\n",
        "        clear_output()\n",
        "        print(i, \"/\", len(artists_df))\n",
        "    i += 1\n",
        "    artist = search_artist_spotify(artist)"
      ],
      "metadata": {
        "id": "rf1HLRp6GCFy",
        "colab": {
          "base_uri": "https://localhost:8080/"
        },
        "outputId": "366a5bee-6833-4012-c9bd-e3593b79d134"
      },
      "execution_count": 29,
      "outputs": [
        {
          "output_type": "stream",
          "name": "stdout",
          "text": [
            "4500 / 4580\n"
          ]
        }
      ]
    },
    {
      "cell_type": "code",
      "source": [
        "sp = spotipy.Spotify(client_credentials_manager=SpotifyClientCredentials(\n",
        "    client_id=client_id,\n",
        "    client_secret=client_secret,\n",
        "    ), requests_timeout=10, retries=10)\n",
        "\n",
        "i = 0\n",
        "for _, artist in artists_df.iterrows():\n",
        "    if i % 100 == 0:\n",
        "        # os.system('clear')\n",
        "        clear_output()\n",
        "        print(i, \"/\", len(artists_df))\n",
        "    i += 1\n",
        "    if artist.id != None:\n",
        "        get_related_artists_spotify(artist)"
      ],
      "metadata": {
        "id": "QXZBb7zXJ2oX",
        "colab": {
          "base_uri": "https://localhost:8080/"
        },
        "outputId": "de958203-b1d8-42f5-a043-7efb2306f60c"
      },
      "execution_count": 30,
      "outputs": [
        {
          "output_type": "stream",
          "name": "stdout",
          "text": [
            "4500 / 4580\n"
          ]
        }
      ]
    },
    {
      "cell_type": "code",
      "source": [
        "artists_df.head()"
      ],
      "metadata": {
        "colab": {
          "base_uri": "https://localhost:8080/",
          "height": 206
        },
        "id": "rkEKO0UtHpbF",
        "outputId": "6db02b91-bb7b-4b93-ffa5-19f1a41737a6"
      },
      "execution_count": 33,
      "outputs": [
        {
          "output_type": "execute_result",
          "data": {
            "text/plain": [
              "            artistname                      id popularity  \\\n",
              "0               z-trip  0YUefH6Li1IsJBtlUWgtwc         33   \n",
              "1         canton jones  3nzEXHMRFWTw4zt3pVRv6V         36   \n",
              "2                drums                    None       None   \n",
              "3  meshell ndegeocello  0uZRjholJ0fVC2J9EvnYnj         46   \n",
              "4                birdy  2WX2uTcsvV5OnS0inACecP         70   \n",
              "\n",
              "                        genres  \\\n",
              "0                [turntablism]   \n",
              "1  [christian hip hop, gospel]   \n",
              "2                         None   \n",
              "3                   [neo soul]   \n",
              "4                        [pop]   \n",
              "\n",
              "                                     related_artists  \n",
              "0  [cut chemist, lyrics born, x-ecutioners, black...  \n",
              "1       [james fortune, kierra sheard, fred hammond]  \n",
              "2                                               None  \n",
              "3  [les nubians, raphael saadiq, jill scott, leel...  \n",
              "4          [gabrielle aplin, emeli sandé, ella eyre]  "
            ],
            "text/html": [
              "\n",
              "  <div id=\"df-274f902f-0951-4dea-a8fa-0fddb8f842d9\">\n",
              "    <div class=\"colab-df-container\">\n",
              "      <div>\n",
              "<style scoped>\n",
              "    .dataframe tbody tr th:only-of-type {\n",
              "        vertical-align: middle;\n",
              "    }\n",
              "\n",
              "    .dataframe tbody tr th {\n",
              "        vertical-align: top;\n",
              "    }\n",
              "\n",
              "    .dataframe thead th {\n",
              "        text-align: right;\n",
              "    }\n",
              "</style>\n",
              "<table border=\"1\" class=\"dataframe\">\n",
              "  <thead>\n",
              "    <tr style=\"text-align: right;\">\n",
              "      <th></th>\n",
              "      <th>artistname</th>\n",
              "      <th>id</th>\n",
              "      <th>popularity</th>\n",
              "      <th>genres</th>\n",
              "      <th>related_artists</th>\n",
              "    </tr>\n",
              "  </thead>\n",
              "  <tbody>\n",
              "    <tr>\n",
              "      <th>0</th>\n",
              "      <td>z-trip</td>\n",
              "      <td>0YUefH6Li1IsJBtlUWgtwc</td>\n",
              "      <td>33</td>\n",
              "      <td>[turntablism]</td>\n",
              "      <td>[cut chemist, lyrics born, x-ecutioners, black...</td>\n",
              "    </tr>\n",
              "    <tr>\n",
              "      <th>1</th>\n",
              "      <td>canton jones</td>\n",
              "      <td>3nzEXHMRFWTw4zt3pVRv6V</td>\n",
              "      <td>36</td>\n",
              "      <td>[christian hip hop, gospel]</td>\n",
              "      <td>[james fortune, kierra sheard, fred hammond]</td>\n",
              "    </tr>\n",
              "    <tr>\n",
              "      <th>2</th>\n",
              "      <td>drums</td>\n",
              "      <td>None</td>\n",
              "      <td>None</td>\n",
              "      <td>None</td>\n",
              "      <td>None</td>\n",
              "    </tr>\n",
              "    <tr>\n",
              "      <th>3</th>\n",
              "      <td>meshell ndegeocello</td>\n",
              "      <td>0uZRjholJ0fVC2J9EvnYnj</td>\n",
              "      <td>46</td>\n",
              "      <td>[neo soul]</td>\n",
              "      <td>[les nubians, raphael saadiq, jill scott, leel...</td>\n",
              "    </tr>\n",
              "    <tr>\n",
              "      <th>4</th>\n",
              "      <td>birdy</td>\n",
              "      <td>2WX2uTcsvV5OnS0inACecP</td>\n",
              "      <td>70</td>\n",
              "      <td>[pop]</td>\n",
              "      <td>[gabrielle aplin, emeli sandé, ella eyre]</td>\n",
              "    </tr>\n",
              "  </tbody>\n",
              "</table>\n",
              "</div>\n",
              "      <button class=\"colab-df-convert\" onclick=\"convertToInteractive('df-274f902f-0951-4dea-a8fa-0fddb8f842d9')\"\n",
              "              title=\"Convert this dataframe to an interactive table.\"\n",
              "              style=\"display:none;\">\n",
              "        \n",
              "  <svg xmlns=\"http://www.w3.org/2000/svg\" height=\"24px\"viewBox=\"0 0 24 24\"\n",
              "       width=\"24px\">\n",
              "    <path d=\"M0 0h24v24H0V0z\" fill=\"none\"/>\n",
              "    <path d=\"M18.56 5.44l.94 2.06.94-2.06 2.06-.94-2.06-.94-.94-2.06-.94 2.06-2.06.94zm-11 1L8.5 8.5l.94-2.06 2.06-.94-2.06-.94L8.5 2.5l-.94 2.06-2.06.94zm10 10l.94 2.06.94-2.06 2.06-.94-2.06-.94-.94-2.06-.94 2.06-2.06.94z\"/><path d=\"M17.41 7.96l-1.37-1.37c-.4-.4-.92-.59-1.43-.59-.52 0-1.04.2-1.43.59L10.3 9.45l-7.72 7.72c-.78.78-.78 2.05 0 2.83L4 21.41c.39.39.9.59 1.41.59.51 0 1.02-.2 1.41-.59l7.78-7.78 2.81-2.81c.8-.78.8-2.07 0-2.86zM5.41 20L4 18.59l7.72-7.72 1.47 1.35L5.41 20z\"/>\n",
              "  </svg>\n",
              "      </button>\n",
              "      \n",
              "  <style>\n",
              "    .colab-df-container {\n",
              "      display:flex;\n",
              "      flex-wrap:wrap;\n",
              "      gap: 12px;\n",
              "    }\n",
              "\n",
              "    .colab-df-convert {\n",
              "      background-color: #E8F0FE;\n",
              "      border: none;\n",
              "      border-radius: 50%;\n",
              "      cursor: pointer;\n",
              "      display: none;\n",
              "      fill: #1967D2;\n",
              "      height: 32px;\n",
              "      padding: 0 0 0 0;\n",
              "      width: 32px;\n",
              "    }\n",
              "\n",
              "    .colab-df-convert:hover {\n",
              "      background-color: #E2EBFA;\n",
              "      box-shadow: 0px 1px 2px rgba(60, 64, 67, 0.3), 0px 1px 3px 1px rgba(60, 64, 67, 0.15);\n",
              "      fill: #174EA6;\n",
              "    }\n",
              "\n",
              "    [theme=dark] .colab-df-convert {\n",
              "      background-color: #3B4455;\n",
              "      fill: #D2E3FC;\n",
              "    }\n",
              "\n",
              "    [theme=dark] .colab-df-convert:hover {\n",
              "      background-color: #434B5C;\n",
              "      box-shadow: 0px 1px 3px 1px rgba(0, 0, 0, 0.15);\n",
              "      filter: drop-shadow(0px 1px 2px rgba(0, 0, 0, 0.3));\n",
              "      fill: #FFFFFF;\n",
              "    }\n",
              "  </style>\n",
              "\n",
              "      <script>\n",
              "        const buttonEl =\n",
              "          document.querySelector('#df-274f902f-0951-4dea-a8fa-0fddb8f842d9 button.colab-df-convert');\n",
              "        buttonEl.style.display =\n",
              "          google.colab.kernel.accessAllowed ? 'block' : 'none';\n",
              "\n",
              "        async function convertToInteractive(key) {\n",
              "          const element = document.querySelector('#df-274f902f-0951-4dea-a8fa-0fddb8f842d9');\n",
              "          const dataTable =\n",
              "            await google.colab.kernel.invokeFunction('convertToInteractive',\n",
              "                                                     [key], {});\n",
              "          if (!dataTable) return;\n",
              "\n",
              "          const docLinkHtml = 'Like what you see? Visit the ' +\n",
              "            '<a target=\"_blank\" href=https://colab.research.google.com/notebooks/data_table.ipynb>data table notebook</a>'\n",
              "            + ' to learn more about interactive tables.';\n",
              "          element.innerHTML = '';\n",
              "          dataTable['output_type'] = 'display_data';\n",
              "          await google.colab.output.renderOutput(dataTable, element);\n",
              "          const docLink = document.createElement('div');\n",
              "          docLink.innerHTML = docLinkHtml;\n",
              "          element.appendChild(docLink);\n",
              "        }\n",
              "      </script>\n",
              "    </div>\n",
              "  </div>\n",
              "  "
            ]
          },
          "metadata": {},
          "execution_count": 33
        }
      ]
    },
    {
      "cell_type": "markdown",
      "source": [
        "We need to check how many artists have not been returned by Spotify API, and remove them from `artists_graph` and `spotify_df`."
      ],
      "metadata": {
        "id": "-QdQm1UIHCd0"
      }
    },
    {
      "cell_type": "code",
      "source": [
        "no_info = (list(artists_df[artists_df.id.isnull()].artistname) + list(artists_df[artists_df.genres.isnull()].artistname))\n",
        "print(\"Number of artists which haven't been returned by Spotify API:\", len(no_info))"
      ],
      "metadata": {
        "colab": {
          "base_uri": "https://localhost:8080/"
        },
        "id": "kmMXxPbmHDhl",
        "outputId": "f9a0273a-7f3f-4dd7-d421-3d6de7c184d5"
      },
      "execution_count": 36,
      "outputs": [
        {
          "output_type": "stream",
          "name": "stdout",
          "text": [
            "Number of artists which haven't been returned by Spotify API: 398\n"
          ]
        }
      ]
    },
    {
      "cell_type": "code",
      "source": [
        "artists_graph = nx.Graph(artists_graph) # unfreeze the graph\n",
        "artists_graph.remove_nodes_from(list(no_info))\n",
        "Gcc = sorted(nx.connected_components(artists_graph), key=len, reverse=True)\n",
        "artists_graph = artists_graph.subgraph(Gcc[0])\n",
        "\n",
        "print(\"number of nodes:\", artists_graph.number_of_nodes())\n",
        "print(\"number of edges:\", artists_graph.number_of_edges())"
      ],
      "metadata": {
        "colab": {
          "base_uri": "https://localhost:8080/"
        },
        "id": "xl3PPz8GH6cV",
        "outputId": "7687dc84-2cdb-4f8f-90dd-2c14aea57896"
      },
      "execution_count": 37,
      "outputs": [
        {
          "output_type": "stream",
          "name": "stdout",
          "text": [
            "number of nodes: 4238\n",
            "number of edges: 9067\n"
          ]
        }
      ]
    },
    {
      "cell_type": "markdown",
      "source": [
        "The final artists' collaboration graphs generated based on the `#nowplaying` dataset has the 4238 nodes and 9067 edges."
      ],
      "metadata": {
        "id": "JnKPNya_FKLp"
      }
    },
    {
      "cell_type": "code",
      "source": [
        "# update the artists_set\n",
        "artists_set = set(artists_graph.nodes())\n",
        "# # remove artists from spotify_df\n",
        "spotify_df = spotify_df[list(map(lambda artistname: set(artistname).issubset(artists_set), spotify_df.artistname))]"
      ],
      "metadata": {
        "id": "egiwa2KiIoUF"
      },
      "execution_count": 38,
      "outputs": []
    },
    {
      "cell_type": "code",
      "source": [
        "# update the artists_df\n",
        "artists_df = artists_df[~(artists_df.id.isnull()) & ~(artists_df.genres.isnull())]"
      ],
      "metadata": {
        "id": "wA3gN99DeghZ"
      },
      "execution_count": 15,
      "outputs": []
    },
    {
      "cell_type": "code",
      "source": [
        "# artists_df.to_pickle(r'/content/drive/MyDrive/SocialGraphs/artists_dataset.pickle')"
      ],
      "metadata": {
        "id": "oa8lD86QHmpz"
      },
      "execution_count": 16,
      "outputs": []
    },
    {
      "cell_type": "code",
      "source": [
        "artists_df = pd.read_pickle(r'/content/drive/MyDrive/SocialGraphs/artists_dataset.pickle')"
      ],
      "metadata": {
        "id": "JR8Iug-tdlY8"
      },
      "execution_count": 17,
      "outputs": []
    },
    {
      "cell_type": "markdown",
      "source": [
        "We should append information about the genres to each track from `spotify_df`"
      ],
      "metadata": {
        "id": "CGc1wziYI4_M"
      }
    },
    {
      "cell_type": "code",
      "source": [
        "def get_genre(artists):\n",
        "    genres = []\n",
        "    for artist in artists:\n",
        "        genres += artists_df.loc[artist].genres\n",
        "    return genres\n",
        "\n",
        "artists_df.set_index(\"artistname\", inplace=True)\n",
        "spotify_df[\"genre\"] = list(map(get_genre, spotify_df.artistname))\n",
        "artists_df.reset_index(inplace=True)"
      ],
      "metadata": {
        "id": "WGI8OtHAI4In"
      },
      "execution_count": 40,
      "outputs": []
    },
    {
      "cell_type": "code",
      "source": [
        "spotify_df.head(1)"
      ],
      "metadata": {
        "colab": {
          "base_uri": "https://localhost:8080/",
          "height": 142
        },
        "id": "3dlNbP2BLZ2t",
        "outputId": "22918d9c-506c-4c33-bd0f-5058089a2f6e"
      },
      "execution_count": 31,
      "outputs": [
        {
          "output_type": "execute_result",
          "data": {
            "text/plain": [
              "                            user_id        artistname  \\\n",
              "0  9cc0cfd4d7d7885102480dd99e7a90d6  (elvis costello)   \n",
              "\n",
              "                              trackname  \\\n",
              "0  (The Angels Wanna Wear My) Red Shoes   \n",
              "\n",
              "                                               genre  \\\n",
              "0  [art rock, folk, folk rock, mellow gold, new w...   \n",
              "\n",
              "                                              tracks  \n",
              "0  ((The Angels Wanna Wear My) Red Shoes, (elvis ...  "
            ],
            "text/html": [
              "\n",
              "  <div id=\"df-d8bd6ed9-17fa-443a-b5a8-b7dfd2248575\">\n",
              "    <div class=\"colab-df-container\">\n",
              "      <div>\n",
              "<style scoped>\n",
              "    .dataframe tbody tr th:only-of-type {\n",
              "        vertical-align: middle;\n",
              "    }\n",
              "\n",
              "    .dataframe tbody tr th {\n",
              "        vertical-align: top;\n",
              "    }\n",
              "\n",
              "    .dataframe thead th {\n",
              "        text-align: right;\n",
              "    }\n",
              "</style>\n",
              "<table border=\"1\" class=\"dataframe\">\n",
              "  <thead>\n",
              "    <tr style=\"text-align: right;\">\n",
              "      <th></th>\n",
              "      <th>user_id</th>\n",
              "      <th>artistname</th>\n",
              "      <th>trackname</th>\n",
              "      <th>genre</th>\n",
              "      <th>tracks</th>\n",
              "    </tr>\n",
              "  </thead>\n",
              "  <tbody>\n",
              "    <tr>\n",
              "      <th>0</th>\n",
              "      <td>9cc0cfd4d7d7885102480dd99e7a90d6</td>\n",
              "      <td>(elvis costello)</td>\n",
              "      <td>(The Angels Wanna Wear My) Red Shoes</td>\n",
              "      <td>[art rock, folk, folk rock, mellow gold, new w...</td>\n",
              "      <td>((The Angels Wanna Wear My) Red Shoes, (elvis ...</td>\n",
              "    </tr>\n",
              "  </tbody>\n",
              "</table>\n",
              "</div>\n",
              "      <button class=\"colab-df-convert\" onclick=\"convertToInteractive('df-d8bd6ed9-17fa-443a-b5a8-b7dfd2248575')\"\n",
              "              title=\"Convert this dataframe to an interactive table.\"\n",
              "              style=\"display:none;\">\n",
              "        \n",
              "  <svg xmlns=\"http://www.w3.org/2000/svg\" height=\"24px\"viewBox=\"0 0 24 24\"\n",
              "       width=\"24px\">\n",
              "    <path d=\"M0 0h24v24H0V0z\" fill=\"none\"/>\n",
              "    <path d=\"M18.56 5.44l.94 2.06.94-2.06 2.06-.94-2.06-.94-.94-2.06-.94 2.06-2.06.94zm-11 1L8.5 8.5l.94-2.06 2.06-.94-2.06-.94L8.5 2.5l-.94 2.06-2.06.94zm10 10l.94 2.06.94-2.06 2.06-.94-2.06-.94-.94-2.06-.94 2.06-2.06.94z\"/><path d=\"M17.41 7.96l-1.37-1.37c-.4-.4-.92-.59-1.43-.59-.52 0-1.04.2-1.43.59L10.3 9.45l-7.72 7.72c-.78.78-.78 2.05 0 2.83L4 21.41c.39.39.9.59 1.41.59.51 0 1.02-.2 1.41-.59l7.78-7.78 2.81-2.81c.8-.78.8-2.07 0-2.86zM5.41 20L4 18.59l7.72-7.72 1.47 1.35L5.41 20z\"/>\n",
              "  </svg>\n",
              "      </button>\n",
              "      \n",
              "  <style>\n",
              "    .colab-df-container {\n",
              "      display:flex;\n",
              "      flex-wrap:wrap;\n",
              "      gap: 12px;\n",
              "    }\n",
              "\n",
              "    .colab-df-convert {\n",
              "      background-color: #E8F0FE;\n",
              "      border: none;\n",
              "      border-radius: 50%;\n",
              "      cursor: pointer;\n",
              "      display: none;\n",
              "      fill: #1967D2;\n",
              "      height: 32px;\n",
              "      padding: 0 0 0 0;\n",
              "      width: 32px;\n",
              "    }\n",
              "\n",
              "    .colab-df-convert:hover {\n",
              "      background-color: #E2EBFA;\n",
              "      box-shadow: 0px 1px 2px rgba(60, 64, 67, 0.3), 0px 1px 3px 1px rgba(60, 64, 67, 0.15);\n",
              "      fill: #174EA6;\n",
              "    }\n",
              "\n",
              "    [theme=dark] .colab-df-convert {\n",
              "      background-color: #3B4455;\n",
              "      fill: #D2E3FC;\n",
              "    }\n",
              "\n",
              "    [theme=dark] .colab-df-convert:hover {\n",
              "      background-color: #434B5C;\n",
              "      box-shadow: 0px 1px 3px 1px rgba(0, 0, 0, 0.15);\n",
              "      filter: drop-shadow(0px 1px 2px rgba(0, 0, 0, 0.3));\n",
              "      fill: #FFFFFF;\n",
              "    }\n",
              "  </style>\n",
              "\n",
              "      <script>\n",
              "        const buttonEl =\n",
              "          document.querySelector('#df-d8bd6ed9-17fa-443a-b5a8-b7dfd2248575 button.colab-df-convert');\n",
              "        buttonEl.style.display =\n",
              "          google.colab.kernel.accessAllowed ? 'block' : 'none';\n",
              "\n",
              "        async function convertToInteractive(key) {\n",
              "          const element = document.querySelector('#df-d8bd6ed9-17fa-443a-b5a8-b7dfd2248575');\n",
              "          const dataTable =\n",
              "            await google.colab.kernel.invokeFunction('convertToInteractive',\n",
              "                                                     [key], {});\n",
              "          if (!dataTable) return;\n",
              "\n",
              "          const docLinkHtml = 'Like what you see? Visit the ' +\n",
              "            '<a target=\"_blank\" href=https://colab.research.google.com/notebooks/data_table.ipynb>data table notebook</a>'\n",
              "            + ' to learn more about interactive tables.';\n",
              "          element.innerHTML = '';\n",
              "          dataTable['output_type'] = 'display_data';\n",
              "          await google.colab.output.renderOutput(dataTable, element);\n",
              "          const docLink = document.createElement('div');\n",
              "          docLink.innerHTML = docLinkHtml;\n",
              "          element.appendChild(docLink);\n",
              "        }\n",
              "      </script>\n",
              "    </div>\n",
              "  </div>\n",
              "  "
            ]
          },
          "metadata": {},
          "execution_count": 31
        }
      ]
    },
    {
      "cell_type": "code",
      "source": [
        "# spotify_df.to_pickle(r'/content/drive/MyDrive/SocialGraphs/spotify_dataset_processed.pickle')"
      ],
      "metadata": {
        "id": "ihdqU8uvP4JQ"
      },
      "execution_count": 35,
      "outputs": []
    },
    {
      "cell_type": "code",
      "source": [
        "spotify_df = pd.read_pickle(r'/content/drive/MyDrive/SocialGraphs/spotify_dataset_processed.pickle')"
      ],
      "metadata": {
        "id": "Ppem8Epzb9Tf"
      },
      "execution_count": 36,
      "outputs": []
    },
    {
      "cell_type": "markdown",
      "source": [
        "#### Spotify artists network"
      ],
      "metadata": {
        "id": "tPZeZxwPIeTy"
      }
    },
    {
      "cell_type": "markdown",
      "source": [
        "##### Generate network"
      ],
      "metadata": {
        "id": "3K9Yo5DDIp6k"
      }
    },
    {
      "cell_type": "code",
      "source": [
        "# construct artist network\n",
        "sp_artists_graph = nx.Graph()\n",
        "sp_artists_graph.add_nodes_from(artists_set)"
      ],
      "metadata": {
        "id": "E8T0_z0CIdpj"
      },
      "execution_count": 25,
      "outputs": []
    },
    {
      "cell_type": "code",
      "source": [
        "sp_artists_edges = list(map(lambda a, ras: [(a, ra) for ra in ras],\n",
        "                            artists_df[~artists_df.related_artists.isnull()].artistname,\n",
        "                            artists_df[~artists_df.related_artists.isnull()].related_artists))\n",
        "sp_artists_edges = [j for i in sp_artists_edges for j in i]"
      ],
      "metadata": {
        "id": "zEtpj7eMfQeR"
      },
      "execution_count": 21,
      "outputs": []
    },
    {
      "cell_type": "code",
      "source": [
        "sp_artists_graph.add_edges_from(sp_artists_edges)\n",
        "sp_artists_graph.remove_nodes_from(list(nx.isolates(sp_artists_graph)))\n",
        "Gcc = sorted(nx.connected_components(sp_artists_graph), key=len, reverse=True)\n",
        "sp_artists_graph = sp_artists_graph.subgraph(Gcc[0])\n",
        "\n",
        "print(\"number of nodes:\", sp_artists_graph.number_of_nodes())\n",
        "print(\"number of edges:\", sp_artists_graph.number_of_edges())"
      ],
      "metadata": {
        "colab": {
          "base_uri": "https://localhost:8080/"
        },
        "id": "A7TsL9xhIo_M",
        "outputId": "8b50ae08-d5b4-4b2c-fc5c-61ed73c99f2f"
      },
      "execution_count": 26,
      "outputs": [
        {
          "output_type": "stream",
          "name": "stdout",
          "text": [
            "number of nodes: 3778\n",
            "number of edges: 19524\n"
          ]
        }
      ]
    },
    {
      "cell_type": "code",
      "source": [
        "# save network as edge list\n",
        "from networkx.readwrite import json_graph\n",
        "with open(\"/content/drive/MyDrive/SocialGraphs/artists_graph.json\", \"w\") as outfile:\n",
        "    outfile.write(json.dumps(json_graph.node_link_data(artists_graph)))\n",
        "with open(\"/content/drive/MyDrive/SocialGraphs/sp_artists_graph.json\", \"w\") as outfile:\n",
        "    outfile.write(json.dumps(json_graph.node_link_data(sp_artists_graph)))"
      ],
      "metadata": {
        "id": "wqGwbZR4PIVF"
      },
      "execution_count": 27,
      "outputs": []
    },
    {
      "cell_type": "markdown",
      "source": [
        "## Compute the users dataframe:"
      ],
      "metadata": {
        "id": "cL3pC13NOqT4"
      }
    }
  ],
  "metadata": {
    "colab": {
      "provenance": []
    },
    "gpuClass": "standard",
    "kernelspec": {
      "display_name": "Python 3",
      "name": "python3"
    },
    "language_info": {
      "name": "python"
    }
  },
  "nbformat": 4,
  "nbformat_minor": 0
}