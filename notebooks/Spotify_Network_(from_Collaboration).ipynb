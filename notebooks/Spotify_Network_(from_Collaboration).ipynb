{
  "nbformat": 4,
  "nbformat_minor": 0,
  "metadata": {
    "colab": {
      "provenance": [],
      "collapsed_sections": [
        "7N-Tlarx0s9-",
        "Io24b9Lh6CbM",
        "bRWQ2Y1GNZI5"
      ]
    },
    "kernelspec": {
      "name": "python3",
      "display_name": "Python 3"
    },
    "language_info": {
      "name": "python"
    }
  },
  "cells": [
    {
      "cell_type": "markdown",
      "source": [
        "# 02805 Social Graphs & Interactions Final Project\n",
        "This notebook focuses on:\n",
        "\n",
        "1) Pre-processing of the #nowplaying dataset to generate artist network\n",
        "\n",
        "2) Generation of Spotify Artist network **based on collaborations**\n",
        "\n",
        "3) Network Analysis of the aforementioned network, and comparing it to the #nowplaying dataset"
      ],
      "metadata": {
        "id": "4c6mD6GMMIHs"
      }
    },
    {
      "cell_type": "code",
      "source": [
        "# installing relevant packages\n",
        "!pip install spotipy"
      ],
      "metadata": {
        "colab": {
          "base_uri": "https://localhost:8080/"
        },
        "id": "Oo9AaGvVbFaA",
        "outputId": "617f8618-c7fd-405d-d4c8-fc7c92286e32"
      },
      "execution_count": 1,
      "outputs": [
        {
          "output_type": "stream",
          "name": "stdout",
          "text": [
            "Looking in indexes: https://pypi.org/simple, https://us-python.pkg.dev/colab-wheels/public/simple/\n",
            "Requirement already satisfied: spotipy in /usr/local/lib/python3.7/dist-packages (2.21.0)\n",
            "Requirement already satisfied: redis>=3.5.3 in /usr/local/lib/python3.7/dist-packages (from spotipy) (4.3.5)\n",
            "Requirement already satisfied: urllib3>=1.26.0 in /usr/local/lib/python3.7/dist-packages (from spotipy) (1.26.13)\n",
            "Requirement already satisfied: six>=1.15.0 in /usr/local/lib/python3.7/dist-packages (from spotipy) (1.15.0)\n",
            "Requirement already satisfied: requests>=2.25.0 in /usr/local/lib/python3.7/dist-packages (from spotipy) (2.28.1)\n",
            "Requirement already satisfied: async-timeout>=4.0.2 in /usr/local/lib/python3.7/dist-packages (from redis>=3.5.3->spotipy) (4.0.2)\n",
            "Requirement already satisfied: importlib-metadata>=1.0 in /usr/local/lib/python3.7/dist-packages (from redis>=3.5.3->spotipy) (4.13.0)\n",
            "Requirement already satisfied: typing-extensions in /usr/local/lib/python3.7/dist-packages (from redis>=3.5.3->spotipy) (4.1.1)\n",
            "Requirement already satisfied: packaging>=20.4 in /usr/local/lib/python3.7/dist-packages (from redis>=3.5.3->spotipy) (21.3)\n",
            "Requirement already satisfied: zipp>=0.5 in /usr/local/lib/python3.7/dist-packages (from importlib-metadata>=1.0->redis>=3.5.3->spotipy) (3.10.0)\n",
            "Requirement already satisfied: pyparsing!=3.0.5,>=2.0.2 in /usr/local/lib/python3.7/dist-packages (from packaging>=20.4->redis>=3.5.3->spotipy) (3.0.9)\n",
            "Requirement already satisfied: certifi>=2017.4.17 in /usr/local/lib/python3.7/dist-packages (from requests>=2.25.0->spotipy) (2022.9.24)\n",
            "Requirement already satisfied: idna<4,>=2.5 in /usr/local/lib/python3.7/dist-packages (from requests>=2.25.0->spotipy) (2.10)\n",
            "Requirement already satisfied: charset-normalizer<3,>=2 in /usr/local/lib/python3.7/dist-packages (from requests>=2.25.0->spotipy) (2.1.1)\n"
          ]
        }
      ]
    },
    {
      "cell_type": "code",
      "execution_count": 2,
      "metadata": {
        "id": "lsxW-sxQadbC"
      },
      "outputs": [],
      "source": [
        "# general imports\n",
        "import math\n",
        "import re\n",
        "import csv\n",
        "import os\n",
        "import json\n",
        "import pickle\n",
        "import random\n",
        "from collections import Counter\n",
        "from scipy import stats\n",
        "import numpy as np\n",
        "import pandas as pd\n",
        "import matplotlib.pyplot as plt\n",
        "\n",
        "# spotify api imports\n",
        "import spotipy\n",
        "from spotipy.oauth2 import SpotifyClientCredentials\n",
        "\n",
        "# network building imports\n",
        "import networkx as nx\n",
        "from community import community_louvain\n",
        "import fa2"
      ]
    },
    {
      "cell_type": "markdown",
      "source": [
        "## 1) Pre-processing #nowplaying dataset"
      ],
      "metadata": {
        "id": "Ss0B0ZxzL0v3"
      }
    },
    {
      "cell_type": "markdown",
      "source": [
        "We are using a subset of the #nowplaying dataset. The #nowplaying dataset includes tracks which have been tweeted using the hashtags #nowplaying, #listento or #listeningto.\n",
        "\n",
        "The dataset which we are going to use holds users, their playlists and the tracks contained in these playlists. Our interest is just in the tracks; what a particular user is listening to. Therefore, the playlistname column will be removed."
      ],
      "metadata": {
        "id": "4Kj3NBwpa2kt"
      }
    },
    {
      "cell_type": "code",
      "source": [
        "# mount google drive\n",
        "from google.colab import drive\n",
        "drive.mount('/content/drive')"
      ],
      "metadata": {
        "colab": {
          "base_uri": "https://localhost:8080/"
        },
        "id": "Ey6xO27ya8Ja",
        "outputId": "1a7f4187-e1f6-4069-e9da-6fda72cef591"
      },
      "execution_count": 36,
      "outputs": [
        {
          "output_type": "stream",
          "name": "stdout",
          "text": [
            "Drive already mounted at /content/drive; to attempt to forcibly remount, call drive.mount(\"/content/drive\", force_remount=True).\n"
          ]
        }
      ]
    },
    {
      "cell_type": "markdown",
      "source": [
        "### Loading in #nowplaying dataset"
      ],
      "metadata": {
        "id": "SywCotneLODp"
      }
    },
    {
      "cell_type": "code",
      "source": [
        "# load in the dataset\n",
        "path = '/content/drive/MyDrive/University Materials/Business Analytics/Y3S1/02805 Social graphs & interactions/Data/Spotify Network/spotify_dataset.csv'\n",
        "spotify_df = pd.read_csv(path, \n",
        "                         skiprows=1,\n",
        "                         names=['user_id', 'artistname', 'trackname', 'playlistname'],\n",
        "                         on_bad_lines='skip')\n",
        "\n",
        "# drop any null values\n",
        "spotify_df = spotify_df.dropna()\n",
        "print(\"Initial dataset size:\", len(spotify_df))\n",
        "spotify_df.head()"
      ],
      "metadata": {
        "colab": {
          "base_uri": "https://localhost:8080/",
          "height": 223
        },
        "id": "h-NLaCKzbLWf",
        "outputId": "b4738513-c175-4b0b-e82d-8f18749b39ec"
      },
      "execution_count": null,
      "outputs": [
        {
          "output_type": "stream",
          "name": "stdout",
          "text": [
            "Initial dataset size: 12867130\n"
          ]
        },
        {
          "output_type": "execute_result",
          "data": {
            "text/plain": [
              "                            user_id                        artistname  \\\n",
              "0  9cc0cfd4d7d7885102480dd99e7a90d6                    Elvis Costello   \n",
              "1  9cc0cfd4d7d7885102480dd99e7a90d6  Elvis Costello & The Attractions   \n",
              "2  9cc0cfd4d7d7885102480dd99e7a90d6                      Tiffany Page   \n",
              "3  9cc0cfd4d7d7885102480dd99e7a90d6  Elvis Costello & The Attractions   \n",
              "4  9cc0cfd4d7d7885102480dd99e7a90d6                    Elvis Costello   \n",
              "\n",
              "                                           trackname    playlistname  \n",
              "0               (The Angels Wanna Wear My) Red Shoes  HARD ROCK 2010  \n",
              "1  (What's So Funny 'Bout) Peace, Love And Unders...  HARD ROCK 2010  \n",
              "2                                   7 Years Too Late  HARD ROCK 2010  \n",
              "3                              Accidents Will Happen  HARD ROCK 2010  \n",
              "4                                             Alison  HARD ROCK 2010  "
            ],
            "text/html": [
              "\n",
              "  <div id=\"df-bb4649ae-9680-4a98-9739-6e6a1482f6b5\">\n",
              "    <div class=\"colab-df-container\">\n",
              "      <div>\n",
              "<style scoped>\n",
              "    .dataframe tbody tr th:only-of-type {\n",
              "        vertical-align: middle;\n",
              "    }\n",
              "\n",
              "    .dataframe tbody tr th {\n",
              "        vertical-align: top;\n",
              "    }\n",
              "\n",
              "    .dataframe thead th {\n",
              "        text-align: right;\n",
              "    }\n",
              "</style>\n",
              "<table border=\"1\" class=\"dataframe\">\n",
              "  <thead>\n",
              "    <tr style=\"text-align: right;\">\n",
              "      <th></th>\n",
              "      <th>user_id</th>\n",
              "      <th>artistname</th>\n",
              "      <th>trackname</th>\n",
              "      <th>playlistname</th>\n",
              "    </tr>\n",
              "  </thead>\n",
              "  <tbody>\n",
              "    <tr>\n",
              "      <th>0</th>\n",
              "      <td>9cc0cfd4d7d7885102480dd99e7a90d6</td>\n",
              "      <td>Elvis Costello</td>\n",
              "      <td>(The Angels Wanna Wear My) Red Shoes</td>\n",
              "      <td>HARD ROCK 2010</td>\n",
              "    </tr>\n",
              "    <tr>\n",
              "      <th>1</th>\n",
              "      <td>9cc0cfd4d7d7885102480dd99e7a90d6</td>\n",
              "      <td>Elvis Costello &amp; The Attractions</td>\n",
              "      <td>(What's So Funny 'Bout) Peace, Love And Unders...</td>\n",
              "      <td>HARD ROCK 2010</td>\n",
              "    </tr>\n",
              "    <tr>\n",
              "      <th>2</th>\n",
              "      <td>9cc0cfd4d7d7885102480dd99e7a90d6</td>\n",
              "      <td>Tiffany Page</td>\n",
              "      <td>7 Years Too Late</td>\n",
              "      <td>HARD ROCK 2010</td>\n",
              "    </tr>\n",
              "    <tr>\n",
              "      <th>3</th>\n",
              "      <td>9cc0cfd4d7d7885102480dd99e7a90d6</td>\n",
              "      <td>Elvis Costello &amp; The Attractions</td>\n",
              "      <td>Accidents Will Happen</td>\n",
              "      <td>HARD ROCK 2010</td>\n",
              "    </tr>\n",
              "    <tr>\n",
              "      <th>4</th>\n",
              "      <td>9cc0cfd4d7d7885102480dd99e7a90d6</td>\n",
              "      <td>Elvis Costello</td>\n",
              "      <td>Alison</td>\n",
              "      <td>HARD ROCK 2010</td>\n",
              "    </tr>\n",
              "  </tbody>\n",
              "</table>\n",
              "</div>\n",
              "      <button class=\"colab-df-convert\" onclick=\"convertToInteractive('df-bb4649ae-9680-4a98-9739-6e6a1482f6b5')\"\n",
              "              title=\"Convert this dataframe to an interactive table.\"\n",
              "              style=\"display:none;\">\n",
              "        \n",
              "  <svg xmlns=\"http://www.w3.org/2000/svg\" height=\"24px\"viewBox=\"0 0 24 24\"\n",
              "       width=\"24px\">\n",
              "    <path d=\"M0 0h24v24H0V0z\" fill=\"none\"/>\n",
              "    <path d=\"M18.56 5.44l.94 2.06.94-2.06 2.06-.94-2.06-.94-.94-2.06-.94 2.06-2.06.94zm-11 1L8.5 8.5l.94-2.06 2.06-.94-2.06-.94L8.5 2.5l-.94 2.06-2.06.94zm10 10l.94 2.06.94-2.06 2.06-.94-2.06-.94-.94-2.06-.94 2.06-2.06.94z\"/><path d=\"M17.41 7.96l-1.37-1.37c-.4-.4-.92-.59-1.43-.59-.52 0-1.04.2-1.43.59L10.3 9.45l-7.72 7.72c-.78.78-.78 2.05 0 2.83L4 21.41c.39.39.9.59 1.41.59.51 0 1.02-.2 1.41-.59l7.78-7.78 2.81-2.81c.8-.78.8-2.07 0-2.86zM5.41 20L4 18.59l7.72-7.72 1.47 1.35L5.41 20z\"/>\n",
              "  </svg>\n",
              "      </button>\n",
              "      \n",
              "  <style>\n",
              "    .colab-df-container {\n",
              "      display:flex;\n",
              "      flex-wrap:wrap;\n",
              "      gap: 12px;\n",
              "    }\n",
              "\n",
              "    .colab-df-convert {\n",
              "      background-color: #E8F0FE;\n",
              "      border: none;\n",
              "      border-radius: 50%;\n",
              "      cursor: pointer;\n",
              "      display: none;\n",
              "      fill: #1967D2;\n",
              "      height: 32px;\n",
              "      padding: 0 0 0 0;\n",
              "      width: 32px;\n",
              "    }\n",
              "\n",
              "    .colab-df-convert:hover {\n",
              "      background-color: #E2EBFA;\n",
              "      box-shadow: 0px 1px 2px rgba(60, 64, 67, 0.3), 0px 1px 3px 1px rgba(60, 64, 67, 0.15);\n",
              "      fill: #174EA6;\n",
              "    }\n",
              "\n",
              "    [theme=dark] .colab-df-convert {\n",
              "      background-color: #3B4455;\n",
              "      fill: #D2E3FC;\n",
              "    }\n",
              "\n",
              "    [theme=dark] .colab-df-convert:hover {\n",
              "      background-color: #434B5C;\n",
              "      box-shadow: 0px 1px 3px 1px rgba(0, 0, 0, 0.15);\n",
              "      filter: drop-shadow(0px 1px 2px rgba(0, 0, 0, 0.3));\n",
              "      fill: #FFFFFF;\n",
              "    }\n",
              "  </style>\n",
              "\n",
              "      <script>\n",
              "        const buttonEl =\n",
              "          document.querySelector('#df-bb4649ae-9680-4a98-9739-6e6a1482f6b5 button.colab-df-convert');\n",
              "        buttonEl.style.display =\n",
              "          google.colab.kernel.accessAllowed ? 'block' : 'none';\n",
              "\n",
              "        async function convertToInteractive(key) {\n",
              "          const element = document.querySelector('#df-bb4649ae-9680-4a98-9739-6e6a1482f6b5');\n",
              "          const dataTable =\n",
              "            await google.colab.kernel.invokeFunction('convertToInteractive',\n",
              "                                                     [key], {});\n",
              "          if (!dataTable) return;\n",
              "\n",
              "          const docLinkHtml = 'Like what you see? Visit the ' +\n",
              "            '<a target=\"_blank\" href=https://colab.research.google.com/notebooks/data_table.ipynb>data table notebook</a>'\n",
              "            + ' to learn more about interactive tables.';\n",
              "          element.innerHTML = '';\n",
              "          dataTable['output_type'] = 'display_data';\n",
              "          await google.colab.output.renderOutput(dataTable, element);\n",
              "          const docLink = document.createElement('div');\n",
              "          docLink.innerHTML = docLinkHtml;\n",
              "          element.appendChild(docLink);\n",
              "        }\n",
              "      </script>\n",
              "    </div>\n",
              "  </div>\n",
              "  "
            ]
          },
          "metadata": {},
          "execution_count": 20
        }
      ]
    },
    {
      "cell_type": "markdown",
      "source": [
        "The `artistname` column contains the artist’s name extracted from the tweets with minimal pre-processing. Therefore, we should validate the column by checking if the values correspond to a single or multiple artists since a song can be performed by a single artist, multiple artists, or groups. \n",
        "\n",
        "We start with computing a set with all values of the `artistname`."
      ],
      "metadata": {
        "id": "A28nN0ZGbtfg"
      }
    },
    {
      "cell_type": "code",
      "source": [
        "# generate initial artists set\n",
        "artists_set = set(map(lambda artist: str(artist).lower(), spotify_df.artistname))\n",
        "len(artists_set)"
      ],
      "metadata": {
        "colab": {
          "base_uri": "https://localhost:8080/"
        },
        "id": "7CfbwxdZbs1n",
        "outputId": "9026bbab-242d-4632-a2b9-965f790c0cf5"
      },
      "execution_count": null,
      "outputs": [
        {
          "output_type": "execute_result",
          "data": {
            "text/plain": [
              "282520"
            ]
          },
          "metadata": {},
          "execution_count": 21
        }
      ]
    },
    {
      "cell_type": "markdown",
      "source": [
        "### Finding the unique artists from the dataset"
      ],
      "metadata": {
        "id": "-FrFG4WbL-jO"
      }
    },
    {
      "cell_type": "markdown",
      "source": [
        "The dataset contains 282520 unique values for the `artistname`. Now, we want to check how many of these values correspond to a single artist or collaborations.\n",
        "\n",
        "One problem with the dataset is how the names of artists who collaborated on the same song are delimited. Since there is no standard delimitation, we split the `artistname` using multiple delimiters: \"&\", \",\",  \"/\", \"and\", \"feat.\", \"ft.\", \"featuring\", \"with\" and check if it is a true collaboration and not the name of an artistic group. This isn't perfect, but we try to separate out as many artists as possible.\n",
        "\n",
        "In short, if there was a collaboration, we split the artist names into individual elements of a list. If it wasn't a collaboration, we simply return the original artist."
      ],
      "metadata": {
        "id": "VCCEcQluc_A1"
      }
    },
    {
      "cell_type": "code",
      "source": [
        "def get_true_artists():\n",
        "  i = 0\n",
        "  for idx, entry in spotify_df.iterrows():\n",
        "    # check the progress of the function\n",
        "    if i % 100000 == 0:\n",
        "        print(i, \"/\", len(spotify_df))\n",
        "    i += 1\n",
        "\n",
        "    names = re.split('( and | & |, | \\/ | feat. | feat | ft. | f. | featuring | with | - |; )', str(entry.artistname).lower())\n",
        "    # check if it is a collaboration:\n",
        "    if (set(names) & (artists_set)):\n",
        "        # update the entry\n",
        "        entry.artistname = list((set(names) & (artists_set)))\n",
        "    else:\n",
        "        entry.artistname = [str(entry.artistname).lower()]"
      ],
      "metadata": {
        "id": "9VqAGhFCc-YI"
      },
      "execution_count": null,
      "outputs": []
    },
    {
      "cell_type": "code",
      "source": [
        "get_true_artists()"
      ],
      "metadata": {
        "colab": {
          "base_uri": "https://localhost:8080/"
        },
        "id": "1TjBRxrgd6Iu",
        "outputId": "3247ab90-5437-42b9-bbd7-3bb8e92b29ae"
      },
      "execution_count": null,
      "outputs": [
        {
          "output_type": "stream",
          "name": "stdout",
          "text": [
            "0 / 12867130\n",
            "100000 / 12867130\n",
            "200000 / 12867130\n",
            "300000 / 12867130\n",
            "400000 / 12867130\n",
            "500000 / 12867130\n",
            "600000 / 12867130\n",
            "700000 / 12867130\n",
            "800000 / 12867130\n",
            "900000 / 12867130\n",
            "1000000 / 12867130\n",
            "1100000 / 12867130\n",
            "1200000 / 12867130\n",
            "1300000 / 12867130\n",
            "1400000 / 12867130\n",
            "1500000 / 12867130\n",
            "1600000 / 12867130\n",
            "1700000 / 12867130\n",
            "1800000 / 12867130\n",
            "1900000 / 12867130\n",
            "2000000 / 12867130\n",
            "2100000 / 12867130\n",
            "2200000 / 12867130\n",
            "2300000 / 12867130\n",
            "2400000 / 12867130\n",
            "2500000 / 12867130\n",
            "2600000 / 12867130\n",
            "2700000 / 12867130\n",
            "2800000 / 12867130\n",
            "2900000 / 12867130\n",
            "3000000 / 12867130\n",
            "3100000 / 12867130\n",
            "3200000 / 12867130\n",
            "3300000 / 12867130\n",
            "3400000 / 12867130\n",
            "3500000 / 12867130\n",
            "3600000 / 12867130\n",
            "3700000 / 12867130\n",
            "3800000 / 12867130\n",
            "3900000 / 12867130\n",
            "4000000 / 12867130\n",
            "4100000 / 12867130\n",
            "4200000 / 12867130\n",
            "4300000 / 12867130\n",
            "4400000 / 12867130\n",
            "4500000 / 12867130\n",
            "4600000 / 12867130\n",
            "4700000 / 12867130\n",
            "4800000 / 12867130\n",
            "4900000 / 12867130\n",
            "5000000 / 12867130\n",
            "5100000 / 12867130\n",
            "5200000 / 12867130\n",
            "5300000 / 12867130\n",
            "5400000 / 12867130\n",
            "5500000 / 12867130\n",
            "5600000 / 12867130\n",
            "5700000 / 12867130\n",
            "5800000 / 12867130\n",
            "5900000 / 12867130\n",
            "6000000 / 12867130\n",
            "6100000 / 12867130\n",
            "6200000 / 12867130\n",
            "6300000 / 12867130\n",
            "6400000 / 12867130\n",
            "6500000 / 12867130\n",
            "6600000 / 12867130\n",
            "6700000 / 12867130\n",
            "6800000 / 12867130\n",
            "6900000 / 12867130\n",
            "7000000 / 12867130\n",
            "7100000 / 12867130\n",
            "7200000 / 12867130\n",
            "7300000 / 12867130\n",
            "7400000 / 12867130\n",
            "7500000 / 12867130\n",
            "7600000 / 12867130\n",
            "7700000 / 12867130\n",
            "7800000 / 12867130\n",
            "7900000 / 12867130\n",
            "8000000 / 12867130\n",
            "8100000 / 12867130\n",
            "8200000 / 12867130\n",
            "8300000 / 12867130\n",
            "8400000 / 12867130\n",
            "8500000 / 12867130\n",
            "8600000 / 12867130\n",
            "8700000 / 12867130\n",
            "8800000 / 12867130\n",
            "8900000 / 12867130\n",
            "9000000 / 12867130\n",
            "9100000 / 12867130\n",
            "9200000 / 12867130\n",
            "9300000 / 12867130\n",
            "9400000 / 12867130\n",
            "9500000 / 12867130\n",
            "9600000 / 12867130\n",
            "9700000 / 12867130\n",
            "9800000 / 12867130\n",
            "9900000 / 12867130\n",
            "10000000 / 12867130\n",
            "10100000 / 12867130\n",
            "10200000 / 12867130\n",
            "10300000 / 12867130\n",
            "10400000 / 12867130\n",
            "10500000 / 12867130\n",
            "10600000 / 12867130\n",
            "10700000 / 12867130\n",
            "10800000 / 12867130\n",
            "10900000 / 12867130\n",
            "11000000 / 12867130\n",
            "11100000 / 12867130\n",
            "11200000 / 12867130\n",
            "11300000 / 12867130\n",
            "11400000 / 12867130\n",
            "11500000 / 12867130\n",
            "11600000 / 12867130\n",
            "11700000 / 12867130\n",
            "11800000 / 12867130\n",
            "11900000 / 12867130\n",
            "12000000 / 12867130\n",
            "12100000 / 12867130\n",
            "12200000 / 12867130\n",
            "12300000 / 12867130\n",
            "12400000 / 12867130\n",
            "12500000 / 12867130\n",
            "12600000 / 12867130\n",
            "12700000 / 12867130\n",
            "12800000 / 12867130\n"
          ]
        }
      ]
    },
    {
      "cell_type": "markdown",
      "source": [
        "Pickle this new dataframe"
      ],
      "metadata": {
        "id": "jhXw1Vjmq5J4"
      }
    },
    {
      "cell_type": "code",
      "source": [
        "spotify_df.to_pickle(r'/content/drive/MyDrive/University Materials/Business Analytics/Y3S1/02805 Social graphs & interactions/Data/Spotify Network/spotify_dataset.pickle') "
      ],
      "metadata": {
        "id": "2FQG_-EYq8Hs"
      },
      "execution_count": null,
      "outputs": []
    },
    {
      "cell_type": "markdown",
      "source": [
        "Examine the new dataframe"
      ],
      "metadata": {
        "id": "E0Z5nOqweMFI"
      }
    },
    {
      "cell_type": "code",
      "source": [
        "spotify_df = pd.read_pickle('/content/drive/MyDrive/University Materials/Business Analytics/Y3S1/02805 Social graphs & interactions/Data/Spotify Network/spotify_dataset.pickle') "
      ],
      "metadata": {
        "id": "VhfnDVu7wNJn"
      },
      "execution_count": null,
      "outputs": []
    },
    {
      "cell_type": "code",
      "source": [
        "spotify_df.head()"
      ],
      "metadata": {
        "colab": {
          "base_uri": "https://localhost:8080/",
          "height": 206
        },
        "id": "ZdZNs9mceJRd",
        "outputId": "03d773cc-b056-4043-af7b-4d2e96689df7"
      },
      "execution_count": null,
      "outputs": [
        {
          "output_type": "execute_result",
          "data": {
            "text/plain": [
              "                            user_id        artistname  \\\n",
              "0  9cc0cfd4d7d7885102480dd99e7a90d6  [elvis costello]   \n",
              "1  9cc0cfd4d7d7885102480dd99e7a90d6  [elvis costello]   \n",
              "2  9cc0cfd4d7d7885102480dd99e7a90d6    [tiffany page]   \n",
              "3  9cc0cfd4d7d7885102480dd99e7a90d6  [elvis costello]   \n",
              "4  9cc0cfd4d7d7885102480dd99e7a90d6  [elvis costello]   \n",
              "\n",
              "                                           trackname    playlistname  \n",
              "0               (The Angels Wanna Wear My) Red Shoes  HARD ROCK 2010  \n",
              "1  (What's So Funny 'Bout) Peace, Love And Unders...  HARD ROCK 2010  \n",
              "2                                   7 Years Too Late  HARD ROCK 2010  \n",
              "3                              Accidents Will Happen  HARD ROCK 2010  \n",
              "4                                             Alison  HARD ROCK 2010  "
            ],
            "text/html": [
              "\n",
              "  <div id=\"df-6b4c29ac-4b94-4095-a21f-8cd8d15c2f4e\">\n",
              "    <div class=\"colab-df-container\">\n",
              "      <div>\n",
              "<style scoped>\n",
              "    .dataframe tbody tr th:only-of-type {\n",
              "        vertical-align: middle;\n",
              "    }\n",
              "\n",
              "    .dataframe tbody tr th {\n",
              "        vertical-align: top;\n",
              "    }\n",
              "\n",
              "    .dataframe thead th {\n",
              "        text-align: right;\n",
              "    }\n",
              "</style>\n",
              "<table border=\"1\" class=\"dataframe\">\n",
              "  <thead>\n",
              "    <tr style=\"text-align: right;\">\n",
              "      <th></th>\n",
              "      <th>user_id</th>\n",
              "      <th>artistname</th>\n",
              "      <th>trackname</th>\n",
              "      <th>playlistname</th>\n",
              "    </tr>\n",
              "  </thead>\n",
              "  <tbody>\n",
              "    <tr>\n",
              "      <th>0</th>\n",
              "      <td>9cc0cfd4d7d7885102480dd99e7a90d6</td>\n",
              "      <td>[elvis costello]</td>\n",
              "      <td>(The Angels Wanna Wear My) Red Shoes</td>\n",
              "      <td>HARD ROCK 2010</td>\n",
              "    </tr>\n",
              "    <tr>\n",
              "      <th>1</th>\n",
              "      <td>9cc0cfd4d7d7885102480dd99e7a90d6</td>\n",
              "      <td>[elvis costello]</td>\n",
              "      <td>(What's So Funny 'Bout) Peace, Love And Unders...</td>\n",
              "      <td>HARD ROCK 2010</td>\n",
              "    </tr>\n",
              "    <tr>\n",
              "      <th>2</th>\n",
              "      <td>9cc0cfd4d7d7885102480dd99e7a90d6</td>\n",
              "      <td>[tiffany page]</td>\n",
              "      <td>7 Years Too Late</td>\n",
              "      <td>HARD ROCK 2010</td>\n",
              "    </tr>\n",
              "    <tr>\n",
              "      <th>3</th>\n",
              "      <td>9cc0cfd4d7d7885102480dd99e7a90d6</td>\n",
              "      <td>[elvis costello]</td>\n",
              "      <td>Accidents Will Happen</td>\n",
              "      <td>HARD ROCK 2010</td>\n",
              "    </tr>\n",
              "    <tr>\n",
              "      <th>4</th>\n",
              "      <td>9cc0cfd4d7d7885102480dd99e7a90d6</td>\n",
              "      <td>[elvis costello]</td>\n",
              "      <td>Alison</td>\n",
              "      <td>HARD ROCK 2010</td>\n",
              "    </tr>\n",
              "  </tbody>\n",
              "</table>\n",
              "</div>\n",
              "      <button class=\"colab-df-convert\" onclick=\"convertToInteractive('df-6b4c29ac-4b94-4095-a21f-8cd8d15c2f4e')\"\n",
              "              title=\"Convert this dataframe to an interactive table.\"\n",
              "              style=\"display:none;\">\n",
              "        \n",
              "  <svg xmlns=\"http://www.w3.org/2000/svg\" height=\"24px\"viewBox=\"0 0 24 24\"\n",
              "       width=\"24px\">\n",
              "    <path d=\"M0 0h24v24H0V0z\" fill=\"none\"/>\n",
              "    <path d=\"M18.56 5.44l.94 2.06.94-2.06 2.06-.94-2.06-.94-.94-2.06-.94 2.06-2.06.94zm-11 1L8.5 8.5l.94-2.06 2.06-.94-2.06-.94L8.5 2.5l-.94 2.06-2.06.94zm10 10l.94 2.06.94-2.06 2.06-.94-2.06-.94-.94-2.06-.94 2.06-2.06.94z\"/><path d=\"M17.41 7.96l-1.37-1.37c-.4-.4-.92-.59-1.43-.59-.52 0-1.04.2-1.43.59L10.3 9.45l-7.72 7.72c-.78.78-.78 2.05 0 2.83L4 21.41c.39.39.9.59 1.41.59.51 0 1.02-.2 1.41-.59l7.78-7.78 2.81-2.81c.8-.78.8-2.07 0-2.86zM5.41 20L4 18.59l7.72-7.72 1.47 1.35L5.41 20z\"/>\n",
              "  </svg>\n",
              "      </button>\n",
              "      \n",
              "  <style>\n",
              "    .colab-df-container {\n",
              "      display:flex;\n",
              "      flex-wrap:wrap;\n",
              "      gap: 12px;\n",
              "    }\n",
              "\n",
              "    .colab-df-convert {\n",
              "      background-color: #E8F0FE;\n",
              "      border: none;\n",
              "      border-radius: 50%;\n",
              "      cursor: pointer;\n",
              "      display: none;\n",
              "      fill: #1967D2;\n",
              "      height: 32px;\n",
              "      padding: 0 0 0 0;\n",
              "      width: 32px;\n",
              "    }\n",
              "\n",
              "    .colab-df-convert:hover {\n",
              "      background-color: #E2EBFA;\n",
              "      box-shadow: 0px 1px 2px rgba(60, 64, 67, 0.3), 0px 1px 3px 1px rgba(60, 64, 67, 0.15);\n",
              "      fill: #174EA6;\n",
              "    }\n",
              "\n",
              "    [theme=dark] .colab-df-convert {\n",
              "      background-color: #3B4455;\n",
              "      fill: #D2E3FC;\n",
              "    }\n",
              "\n",
              "    [theme=dark] .colab-df-convert:hover {\n",
              "      background-color: #434B5C;\n",
              "      box-shadow: 0px 1px 3px 1px rgba(0, 0, 0, 0.15);\n",
              "      filter: drop-shadow(0px 1px 2px rgba(0, 0, 0, 0.3));\n",
              "      fill: #FFFFFF;\n",
              "    }\n",
              "  </style>\n",
              "\n",
              "      <script>\n",
              "        const buttonEl =\n",
              "          document.querySelector('#df-6b4c29ac-4b94-4095-a21f-8cd8d15c2f4e button.colab-df-convert');\n",
              "        buttonEl.style.display =\n",
              "          google.colab.kernel.accessAllowed ? 'block' : 'none';\n",
              "\n",
              "        async function convertToInteractive(key) {\n",
              "          const element = document.querySelector('#df-6b4c29ac-4b94-4095-a21f-8cd8d15c2f4e');\n",
              "          const dataTable =\n",
              "            await google.colab.kernel.invokeFunction('convertToInteractive',\n",
              "                                                     [key], {});\n",
              "          if (!dataTable) return;\n",
              "\n",
              "          const docLinkHtml = 'Like what you see? Visit the ' +\n",
              "            '<a target=\"_blank\" href=https://colab.research.google.com/notebooks/data_table.ipynb>data table notebook</a>'\n",
              "            + ' to learn more about interactive tables.';\n",
              "          element.innerHTML = '';\n",
              "          dataTable['output_type'] = 'display_data';\n",
              "          await google.colab.output.renderOutput(dataTable, element);\n",
              "          const docLink = document.createElement('div');\n",
              "          docLink.innerHTML = docLinkHtml;\n",
              "          element.appendChild(docLink);\n",
              "        }\n",
              "      </script>\n",
              "    </div>\n",
              "  </div>\n",
              "  "
            ]
          },
          "metadata": {},
          "execution_count": 8
        }
      ]
    },
    {
      "cell_type": "markdown",
      "source": [
        "Now, we should have lesser artists because we got rid of some artist names that were essentially extensions of an artist.\n",
        "\n",
        "Eg. 'Elvis Costello' and 'Elvis Costello and the Attractions' are both now Elvis Costello."
      ],
      "metadata": {
        "id": "HPFq9N9ueYYZ"
      }
    },
    {
      "cell_type": "code",
      "source": [
        "# update artists set; this is the new set of artists after doing some pre-processing to obtain each unique artist\n",
        "artists_set = set([artist for artists in spotify_df.artistname for artist in artists])\n",
        "len(artists_set)"
      ],
      "metadata": {
        "colab": {
          "base_uri": "https://localhost:8080/"
        },
        "id": "z1iOLE7reX0u",
        "outputId": "7ffc8062-a2cf-44ea-e5c5-36cd08053c61"
      },
      "execution_count": null,
      "outputs": [
        {
          "output_type": "execute_result",
          "data": {
            "text/plain": [
              "241267"
            ]
          },
          "metadata": {},
          "execution_count": 13
        }
      ]
    },
    {
      "cell_type": "markdown",
      "source": [
        "We want to know the popularity of each artist, based on the user sample. We compute the popularity as frequency of artist appearing over all the rows."
      ],
      "metadata": {
        "id": "jyc_YWj9e2DD"
      }
    },
    {
      "cell_type": "code",
      "source": [
        "# compute number of occurrences\n",
        "popularity = Counter(x for xs in spotify_df.artistname for x in set(xs))\n",
        "popularity.most_common(5)"
      ],
      "metadata": {
        "colab": {
          "base_uri": "https://localhost:8080/"
        },
        "id": "Z5wuDmvme_Af",
        "outputId": "4df4f5a5-222f-4472-81d8-9295608b46df"
      },
      "execution_count": null,
      "outputs": [
        {
          "output_type": "execute_result",
          "data": {
            "text/plain": [
              "[('daft punk', 36309),\n",
              " ('coldplay', 35626),\n",
              " ('radiohead', 31467),\n",
              " ('the rolling stones', 30826),\n",
              " ('kanye west', 30035)]"
            ]
          },
          "metadata": {},
          "execution_count": 14
        }
      ]
    },
    {
      "cell_type": "markdown",
      "source": [
        "Display popularity distribution"
      ],
      "metadata": {
        "id": "h1uaUXMWfDr3"
      }
    },
    {
      "cell_type": "code",
      "source": [
        "values = list(popularity.values())\n",
        "# return an array with histogram values and the bin edges \n",
        "hist, bin = np.histogram(values, bins=100)\n",
        "\n",
        "plt.figure(figsize=(15, 5))\n",
        "plt.title('Artists popularity distribution')\n",
        "plt.bar(bin[:-1], hist, width=bin[1]-bin[0], ec='k', lw=1)\n",
        "plt.xlabel(\"Popularity\")\n",
        "plt.ylabel(\"Frequency\")\n",
        "\n",
        "plt.show()"
      ],
      "metadata": {
        "colab": {
          "base_uri": "https://localhost:8080/",
          "height": 350
        },
        "id": "nE-M1oGRfC9-",
        "outputId": "eb206e2f-e604-442d-9d8c-263b30103bb9"
      },
      "execution_count": null,
      "outputs": [
        {
          "output_type": "display_data",
          "data": {
            "text/plain": [
              "<Figure size 1080x360 with 1 Axes>"
            ],
            "image/png": "[encoded data removed]"
          },
          "metadata": {
            "needs_background": "light"
          }
        }
      ]
    },
    {
      "cell_type": "markdown",
      "source": [
        "We notice that the distribution is tail-heavy, ie. there are a lot of artists that don't appear very frequently in the dataset. To counteract this skewness, we have opted to remove artists that appear in the dataset 50 times or less."
      ],
      "metadata": {
        "id": "ojtKcQpXfKLW"
      }
    },
    {
      "cell_type": "code",
      "source": [
        "# update artists set; this is the new set of artists that occur more than 50 times in the dataset\n",
        "artists_set = set([key for key, val in popularity.items() if val > 50])"
      ],
      "metadata": {
        "id": "y_lh3gz0fsVP"
      },
      "execution_count": null,
      "outputs": []
    },
    {
      "cell_type": "code",
      "source": [
        "remove_idx = []\n",
        "i = 0\n",
        "for idx, entry in spotify_df.iterrows():\n",
        "    # check the progress of the function\n",
        "    if i % 100000 == 0:\n",
        "        print(i, \"/\", len(spotify_df))\n",
        "    i += 1\n",
        "    if not set(entry.artistname).issubset(artists_set):\n",
        "        remove_idx.append(idx)"
      ],
      "metadata": {
        "colab": {
          "base_uri": "https://localhost:8080/"
        },
        "id": "kPCIgh8kfTGr",
        "outputId": "f5a5c5ea-e9eb-4348-b4a4-e4d1659a981f"
      },
      "execution_count": null,
      "outputs": [
        {
          "output_type": "stream",
          "name": "stdout",
          "text": [
            "0 / 12867130\n",
            "100000 / 12867130\n",
            "200000 / 12867130\n",
            "300000 / 12867130\n",
            "400000 / 12867130\n",
            "500000 / 12867130\n",
            "600000 / 12867130\n",
            "700000 / 12867130\n",
            "800000 / 12867130\n",
            "900000 / 12867130\n",
            "1000000 / 12867130\n",
            "1100000 / 12867130\n",
            "1200000 / 12867130\n",
            "1300000 / 12867130\n",
            "1400000 / 12867130\n",
            "1500000 / 12867130\n",
            "1600000 / 12867130\n",
            "1700000 / 12867130\n",
            "1800000 / 12867130\n",
            "1900000 / 12867130\n",
            "2000000 / 12867130\n",
            "2100000 / 12867130\n",
            "2200000 / 12867130\n",
            "2300000 / 12867130\n",
            "2400000 / 12867130\n",
            "2500000 / 12867130\n",
            "2600000 / 12867130\n",
            "2700000 / 12867130\n",
            "2800000 / 12867130\n",
            "2900000 / 12867130\n",
            "3000000 / 12867130\n",
            "3100000 / 12867130\n",
            "3200000 / 12867130\n",
            "3300000 / 12867130\n",
            "3400000 / 12867130\n",
            "3500000 / 12867130\n",
            "3600000 / 12867130\n",
            "3700000 / 12867130\n",
            "3800000 / 12867130\n",
            "3900000 / 12867130\n",
            "4000000 / 12867130\n",
            "4100000 / 12867130\n",
            "4200000 / 12867130\n",
            "4300000 / 12867130\n",
            "4400000 / 12867130\n",
            "4500000 / 12867130\n",
            "4600000 / 12867130\n",
            "4700000 / 12867130\n",
            "4800000 / 12867130\n",
            "4900000 / 12867130\n",
            "5000000 / 12867130\n",
            "5100000 / 12867130\n",
            "5200000 / 12867130\n",
            "5300000 / 12867130\n",
            "5400000 / 12867130\n",
            "5500000 / 12867130\n",
            "5600000 / 12867130\n",
            "5700000 / 12867130\n",
            "5800000 / 12867130\n",
            "5900000 / 12867130\n",
            "6000000 / 12867130\n",
            "6100000 / 12867130\n",
            "6200000 / 12867130\n",
            "6300000 / 12867130\n",
            "6400000 / 12867130\n",
            "6500000 / 12867130\n",
            "6600000 / 12867130\n",
            "6700000 / 12867130\n",
            "6800000 / 12867130\n",
            "6900000 / 12867130\n",
            "7000000 / 12867130\n",
            "7100000 / 12867130\n",
            "7200000 / 12867130\n",
            "7300000 / 12867130\n",
            "7400000 / 12867130\n",
            "7500000 / 12867130\n",
            "7600000 / 12867130\n",
            "7700000 / 12867130\n",
            "7800000 / 12867130\n",
            "7900000 / 12867130\n",
            "8000000 / 12867130\n",
            "8100000 / 12867130\n",
            "8200000 / 12867130\n",
            "8300000 / 12867130\n",
            "8400000 / 12867130\n",
            "8500000 / 12867130\n",
            "8600000 / 12867130\n",
            "8700000 / 12867130\n",
            "8800000 / 12867130\n",
            "8900000 / 12867130\n",
            "9000000 / 12867130\n",
            "9100000 / 12867130\n",
            "9200000 / 12867130\n",
            "9300000 / 12867130\n",
            "9400000 / 12867130\n",
            "9500000 / 12867130\n",
            "9600000 / 12867130\n",
            "9700000 / 12867130\n",
            "9800000 / 12867130\n",
            "9900000 / 12867130\n",
            "10000000 / 12867130\n",
            "10100000 / 12867130\n",
            "10200000 / 12867130\n",
            "10300000 / 12867130\n",
            "10400000 / 12867130\n",
            "10500000 / 12867130\n",
            "10600000 / 12867130\n",
            "10700000 / 12867130\n",
            "10800000 / 12867130\n",
            "10900000 / 12867130\n",
            "11000000 / 12867130\n",
            "11100000 / 12867130\n",
            "11200000 / 12867130\n",
            "11300000 / 12867130\n",
            "11400000 / 12867130\n",
            "11500000 / 12867130\n",
            "11600000 / 12867130\n",
            "11700000 / 12867130\n",
            "11800000 / 12867130\n",
            "11900000 / 12867130\n",
            "12000000 / 12867130\n",
            "12100000 / 12867130\n",
            "12200000 / 12867130\n",
            "12300000 / 12867130\n",
            "12400000 / 12867130\n",
            "12500000 / 12867130\n",
            "12600000 / 12867130\n",
            "12700000 / 12867130\n",
            "12800000 / 12867130\n"
          ]
        }
      ]
    },
    {
      "cell_type": "code",
      "source": [
        "spotify_df.drop(remove_idx, axis=0, inplace=True)"
      ],
      "metadata": {
        "id": "gAzMRXrjx56y"
      },
      "execution_count": null,
      "outputs": []
    },
    {
      "cell_type": "code",
      "source": [
        "len(spotify_df)"
      ],
      "metadata": {
        "colab": {
          "base_uri": "https://localhost:8080/"
        },
        "id": "kU5EBdBT1ZUT",
        "outputId": "33658cff-85c5-4872-dc4a-526493f6e5c0"
      },
      "execution_count": null,
      "outputs": [
        {
          "output_type": "execute_result",
          "data": {
            "text/plain": [
              "11445393"
            ]
          },
          "metadata": {},
          "execution_count": 31
        }
      ]
    },
    {
      "cell_type": "code",
      "source": [
        "# examine the first 5 rows\n",
        "spotify_df.head()"
      ],
      "metadata": {
        "colab": {
          "base_uri": "https://localhost:8080/",
          "height": 206
        },
        "id": "qRYH5Y6EjIUJ",
        "outputId": "947c88bb-6148-4f9a-e976-519794cf4b7b"
      },
      "execution_count": null,
      "outputs": [
        {
          "output_type": "execute_result",
          "data": {
            "text/plain": [
              "                            user_id        artistname  \\\n",
              "0  9cc0cfd4d7d7885102480dd99e7a90d6  [elvis costello]   \n",
              "1  9cc0cfd4d7d7885102480dd99e7a90d6  [elvis costello]   \n",
              "3  9cc0cfd4d7d7885102480dd99e7a90d6  [elvis costello]   \n",
              "4  9cc0cfd4d7d7885102480dd99e7a90d6  [elvis costello]   \n",
              "5  9cc0cfd4d7d7885102480dd99e7a90d6          [lissie]   \n",
              "\n",
              "                                           trackname    playlistname  \n",
              "0               (The Angels Wanna Wear My) Red Shoes  HARD ROCK 2010  \n",
              "1  (What's So Funny 'Bout) Peace, Love And Unders...  HARD ROCK 2010  \n",
              "3                              Accidents Will Happen  HARD ROCK 2010  \n",
              "4                                             Alison  HARD ROCK 2010  \n",
              "5                                        All Be Okay  HARD ROCK 2010  "
            ],
            "text/html": [
              "\n",
              "  <div id=\"df-0300e913-be66-4f6d-8f61-c890aa368c78\">\n",
              "    <div class=\"colab-df-container\">\n",
              "      <div>\n",
              "<style scoped>\n",
              "    .dataframe tbody tr th:only-of-type {\n",
              "        vertical-align: middle;\n",
              "    }\n",
              "\n",
              "    .dataframe tbody tr th {\n",
              "        vertical-align: top;\n",
              "    }\n",
              "\n",
              "    .dataframe thead th {\n",
              "        text-align: right;\n",
              "    }\n",
              "</style>\n",
              "<table border=\"1\" class=\"dataframe\">\n",
              "  <thead>\n",
              "    <tr style=\"text-align: right;\">\n",
              "      <th></th>\n",
              "      <th>user_id</th>\n",
              "      <th>artistname</th>\n",
              "      <th>trackname</th>\n",
              "      <th>playlistname</th>\n",
              "    </tr>\n",
              "  </thead>\n",
              "  <tbody>\n",
              "    <tr>\n",
              "      <th>0</th>\n",
              "      <td>9cc0cfd4d7d7885102480dd99e7a90d6</td>\n",
              "      <td>[elvis costello]</td>\n",
              "      <td>(The Angels Wanna Wear My) Red Shoes</td>\n",
              "      <td>HARD ROCK 2010</td>\n",
              "    </tr>\n",
              "    <tr>\n",
              "      <th>1</th>\n",
              "      <td>9cc0cfd4d7d7885102480dd99e7a90d6</td>\n",
              "      <td>[elvis costello]</td>\n",
              "      <td>(What's So Funny 'Bout) Peace, Love And Unders...</td>\n",
              "      <td>HARD ROCK 2010</td>\n",
              "    </tr>\n",
              "    <tr>\n",
              "      <th>3</th>\n",
              "      <td>9cc0cfd4d7d7885102480dd99e7a90d6</td>\n",
              "      <td>[elvis costello]</td>\n",
              "      <td>Accidents Will Happen</td>\n",
              "      <td>HARD ROCK 2010</td>\n",
              "    </tr>\n",
              "    <tr>\n",
              "      <th>4</th>\n",
              "      <td>9cc0cfd4d7d7885102480dd99e7a90d6</td>\n",
              "      <td>[elvis costello]</td>\n",
              "      <td>Alison</td>\n",
              "      <td>HARD ROCK 2010</td>\n",
              "    </tr>\n",
              "    <tr>\n",
              "      <th>5</th>\n",
              "      <td>9cc0cfd4d7d7885102480dd99e7a90d6</td>\n",
              "      <td>[lissie]</td>\n",
              "      <td>All Be Okay</td>\n",
              "      <td>HARD ROCK 2010</td>\n",
              "    </tr>\n",
              "  </tbody>\n",
              "</table>\n",
              "</div>\n",
              "      <button class=\"colab-df-convert\" onclick=\"convertToInteractive('df-0300e913-be66-4f6d-8f61-c890aa368c78')\"\n",
              "              title=\"Convert this dataframe to an interactive table.\"\n",
              "              style=\"display:none;\">\n",
              "        \n",
              "  <svg xmlns=\"http://www.w3.org/2000/svg\" height=\"24px\"viewBox=\"0 0 24 24\"\n",
              "       width=\"24px\">\n",
              "    <path d=\"M0 0h24v24H0V0z\" fill=\"none\"/>\n",
              "    <path d=\"M18.56 5.44l.94 2.06.94-2.06 2.06-.94-2.06-.94-.94-2.06-.94 2.06-2.06.94zm-11 1L8.5 8.5l.94-2.06 2.06-.94-2.06-.94L8.5 2.5l-.94 2.06-2.06.94zm10 10l.94 2.06.94-2.06 2.06-.94-2.06-.94-.94-2.06-.94 2.06-2.06.94z\"/><path d=\"M17.41 7.96l-1.37-1.37c-.4-.4-.92-.59-1.43-.59-.52 0-1.04.2-1.43.59L10.3 9.45l-7.72 7.72c-.78.78-.78 2.05 0 2.83L4 21.41c.39.39.9.59 1.41.59.51 0 1.02-.2 1.41-.59l7.78-7.78 2.81-2.81c.8-.78.8-2.07 0-2.86zM5.41 20L4 18.59l7.72-7.72 1.47 1.35L5.41 20z\"/>\n",
              "  </svg>\n",
              "      </button>\n",
              "      \n",
              "  <style>\n",
              "    .colab-df-container {\n",
              "      display:flex;\n",
              "      flex-wrap:wrap;\n",
              "      gap: 12px;\n",
              "    }\n",
              "\n",
              "    .colab-df-convert {\n",
              "      background-color: #E8F0FE;\n",
              "      border: none;\n",
              "      border-radius: 50%;\n",
              "      cursor: pointer;\n",
              "      display: none;\n",
              "      fill: #1967D2;\n",
              "      height: 32px;\n",
              "      padding: 0 0 0 0;\n",
              "      width: 32px;\n",
              "    }\n",
              "\n",
              "    .colab-df-convert:hover {\n",
              "      background-color: #E2EBFA;\n",
              "      box-shadow: 0px 1px 2px rgba(60, 64, 67, 0.3), 0px 1px 3px 1px rgba(60, 64, 67, 0.15);\n",
              "      fill: #174EA6;\n",
              "    }\n",
              "\n",
              "    [theme=dark] .colab-df-convert {\n",
              "      background-color: #3B4455;\n",
              "      fill: #D2E3FC;\n",
              "    }\n",
              "\n",
              "    [theme=dark] .colab-df-convert:hover {\n",
              "      background-color: #434B5C;\n",
              "      box-shadow: 0px 1px 3px 1px rgba(0, 0, 0, 0.15);\n",
              "      filter: drop-shadow(0px 1px 2px rgba(0, 0, 0, 0.3));\n",
              "      fill: #FFFFFF;\n",
              "    }\n",
              "  </style>\n",
              "\n",
              "      <script>\n",
              "        const buttonEl =\n",
              "          document.querySelector('#df-0300e913-be66-4f6d-8f61-c890aa368c78 button.colab-df-convert');\n",
              "        buttonEl.style.display =\n",
              "          google.colab.kernel.accessAllowed ? 'block' : 'none';\n",
              "\n",
              "        async function convertToInteractive(key) {\n",
              "          const element = document.querySelector('#df-0300e913-be66-4f6d-8f61-c890aa368c78');\n",
              "          const dataTable =\n",
              "            await google.colab.kernel.invokeFunction('convertToInteractive',\n",
              "                                                     [key], {});\n",
              "          if (!dataTable) return;\n",
              "\n",
              "          const docLinkHtml = 'Like what you see? Visit the ' +\n",
              "            '<a target=\"_blank\" href=https://colab.research.google.com/notebooks/data_table.ipynb>data table notebook</a>'\n",
              "            + ' to learn more about interactive tables.';\n",
              "          element.innerHTML = '';\n",
              "          dataTable['output_type'] = 'display_data';\n",
              "          await google.colab.output.renderOutput(dataTable, element);\n",
              "          const docLink = document.createElement('div');\n",
              "          docLink.innerHTML = docLinkHtml;\n",
              "          element.appendChild(docLink);\n",
              "        }\n",
              "      </script>\n",
              "    </div>\n",
              "  </div>\n",
              "  "
            ]
          },
          "metadata": {},
          "execution_count": 32
        }
      ]
    },
    {
      "cell_type": "markdown",
      "source": [
        "We now pickle this dataframe so in future runs of the notebook, we can simply load this in."
      ],
      "metadata": {
        "id": "5jdPMdD_hQ9c"
      }
    },
    {
      "cell_type": "code",
      "source": [
        "spotify_df.to_pickle(r'/content/drive/MyDrive/University Materials/Business Analytics/Y3S1/02805 Social graphs & interactions/Data/Spotify Network/spotify_dataset.pickle') "
      ],
      "metadata": {
        "id": "4zJR6JzshQIq"
      },
      "execution_count": null,
      "outputs": []
    },
    {
      "cell_type": "markdown",
      "source": [
        "## 2) Generation of Spotify Artist Network\n",
        "based off collaborations found from subset of #nowplaying dataset"
      ],
      "metadata": {
        "id": "5YDbUDykhzUh"
      }
    },
    {
      "cell_type": "code",
      "source": [
        "# load in the pickled dataframe\n",
        "spotify_df = pd.read_pickle('/content/drive/MyDrive/University Materials/Business Analytics/Y3S1/02805 Social graphs & interactions/Data/Spotify Network/spotify_dataset.pickle') "
      ],
      "metadata": {
        "id": "NKalG7JJh5Uc"
      },
      "execution_count": null,
      "outputs": []
    },
    {
      "cell_type": "code",
      "source": [
        "# examine the first 5 rows\n",
        "spotify_df.head()"
      ],
      "metadata": {
        "colab": {
          "base_uri": "https://localhost:8080/",
          "height": 206
        },
        "id": "LGqEjBZDicuj",
        "outputId": "b3a57d43-0253-43f1-cab3-94b1e381155a"
      },
      "execution_count": null,
      "outputs": [
        {
          "output_type": "execute_result",
          "data": {
            "text/plain": [
              "                            user_id        artistname  \\\n",
              "0  9cc0cfd4d7d7885102480dd99e7a90d6  [elvis costello]   \n",
              "1  9cc0cfd4d7d7885102480dd99e7a90d6  [elvis costello]   \n",
              "3  9cc0cfd4d7d7885102480dd99e7a90d6  [elvis costello]   \n",
              "4  9cc0cfd4d7d7885102480dd99e7a90d6  [elvis costello]   \n",
              "5  9cc0cfd4d7d7885102480dd99e7a90d6          [lissie]   \n",
              "\n",
              "                                           trackname    playlistname  \n",
              "0               (The Angels Wanna Wear My) Red Shoes  HARD ROCK 2010  \n",
              "1  (What's So Funny 'Bout) Peace, Love And Unders...  HARD ROCK 2010  \n",
              "3                              Accidents Will Happen  HARD ROCK 2010  \n",
              "4                                             Alison  HARD ROCK 2010  \n",
              "5                                        All Be Okay  HARD ROCK 2010  "
            ],
            "text/html": [
              "\n",
              "  <div id=\"df-f72327b6-225c-4cb1-acbb-d2369c54beab\">\n",
              "    <div class=\"colab-df-container\">\n",
              "      <div>\n",
              "<style scoped>\n",
              "    .dataframe tbody tr th:only-of-type {\n",
              "        vertical-align: middle;\n",
              "    }\n",
              "\n",
              "    .dataframe tbody tr th {\n",
              "        vertical-align: top;\n",
              "    }\n",
              "\n",
              "    .dataframe thead th {\n",
              "        text-align: right;\n",
              "    }\n",
              "</style>\n",
              "<table border=\"1\" class=\"dataframe\">\n",
              "  <thead>\n",
              "    <tr style=\"text-align: right;\">\n",
              "      <th></th>\n",
              "      <th>user_id</th>\n",
              "      <th>artistname</th>\n",
              "      <th>trackname</th>\n",
              "      <th>playlistname</th>\n",
              "    </tr>\n",
              "  </thead>\n",
              "  <tbody>\n",
              "    <tr>\n",
              "      <th>0</th>\n",
              "      <td>9cc0cfd4d7d7885102480dd99e7a90d6</td>\n",
              "      <td>[elvis costello]</td>\n",
              "      <td>(The Angels Wanna Wear My) Red Shoes</td>\n",
              "      <td>HARD ROCK 2010</td>\n",
              "    </tr>\n",
              "    <tr>\n",
              "      <th>1</th>\n",
              "      <td>9cc0cfd4d7d7885102480dd99e7a90d6</td>\n",
              "      <td>[elvis costello]</td>\n",
              "      <td>(What's So Funny 'Bout) Peace, Love And Unders...</td>\n",
              "      <td>HARD ROCK 2010</td>\n",
              "    </tr>\n",
              "    <tr>\n",
              "      <th>3</th>\n",
              "      <td>9cc0cfd4d7d7885102480dd99e7a90d6</td>\n",
              "      <td>[elvis costello]</td>\n",
              "      <td>Accidents Will Happen</td>\n",
              "      <td>HARD ROCK 2010</td>\n",
              "    </tr>\n",
              "    <tr>\n",
              "      <th>4</th>\n",
              "      <td>9cc0cfd4d7d7885102480dd99e7a90d6</td>\n",
              "      <td>[elvis costello]</td>\n",
              "      <td>Alison</td>\n",
              "      <td>HARD ROCK 2010</td>\n",
              "    </tr>\n",
              "    <tr>\n",
              "      <th>5</th>\n",
              "      <td>9cc0cfd4d7d7885102480dd99e7a90d6</td>\n",
              "      <td>[lissie]</td>\n",
              "      <td>All Be Okay</td>\n",
              "      <td>HARD ROCK 2010</td>\n",
              "    </tr>\n",
              "  </tbody>\n",
              "</table>\n",
              "</div>\n",
              "      <button class=\"colab-df-convert\" onclick=\"convertToInteractive('df-f72327b6-225c-4cb1-acbb-d2369c54beab')\"\n",
              "              title=\"Convert this dataframe to an interactive table.\"\n",
              "              style=\"display:none;\">\n",
              "        \n",
              "  <svg xmlns=\"http://www.w3.org/2000/svg\" height=\"24px\"viewBox=\"0 0 24 24\"\n",
              "       width=\"24px\">\n",
              "    <path d=\"M0 0h24v24H0V0z\" fill=\"none\"/>\n",
              "    <path d=\"M18.56 5.44l.94 2.06.94-2.06 2.06-.94-2.06-.94-.94-2.06-.94 2.06-2.06.94zm-11 1L8.5 8.5l.94-2.06 2.06-.94-2.06-.94L8.5 2.5l-.94 2.06-2.06.94zm10 10l.94 2.06.94-2.06 2.06-.94-2.06-.94-.94-2.06-.94 2.06-2.06.94z\"/><path d=\"M17.41 7.96l-1.37-1.37c-.4-.4-.92-.59-1.43-.59-.52 0-1.04.2-1.43.59L10.3 9.45l-7.72 7.72c-.78.78-.78 2.05 0 2.83L4 21.41c.39.39.9.59 1.41.59.51 0 1.02-.2 1.41-.59l7.78-7.78 2.81-2.81c.8-.78.8-2.07 0-2.86zM5.41 20L4 18.59l7.72-7.72 1.47 1.35L5.41 20z\"/>\n",
              "  </svg>\n",
              "      </button>\n",
              "      \n",
              "  <style>\n",
              "    .colab-df-container {\n",
              "      display:flex;\n",
              "      flex-wrap:wrap;\n",
              "      gap: 12px;\n",
              "    }\n",
              "\n",
              "    .colab-df-convert {\n",
              "      background-color: #E8F0FE;\n",
              "      border: none;\n",
              "      border-radius: 50%;\n",
              "      cursor: pointer;\n",
              "      display: none;\n",
              "      fill: #1967D2;\n",
              "      height: 32px;\n",
              "      padding: 0 0 0 0;\n",
              "      width: 32px;\n",
              "    }\n",
              "\n",
              "    .colab-df-convert:hover {\n",
              "      background-color: #E2EBFA;\n",
              "      box-shadow: 0px 1px 2px rgba(60, 64, 67, 0.3), 0px 1px 3px 1px rgba(60, 64, 67, 0.15);\n",
              "      fill: #174EA6;\n",
              "    }\n",
              "\n",
              "    [theme=dark] .colab-df-convert {\n",
              "      background-color: #3B4455;\n",
              "      fill: #D2E3FC;\n",
              "    }\n",
              "\n",
              "    [theme=dark] .colab-df-convert:hover {\n",
              "      background-color: #434B5C;\n",
              "      box-shadow: 0px 1px 3px 1px rgba(0, 0, 0, 0.15);\n",
              "      filter: drop-shadow(0px 1px 2px rgba(0, 0, 0, 0.3));\n",
              "      fill: #FFFFFF;\n",
              "    }\n",
              "  </style>\n",
              "\n",
              "      <script>\n",
              "        const buttonEl =\n",
              "          document.querySelector('#df-f72327b6-225c-4cb1-acbb-d2369c54beab button.colab-df-convert');\n",
              "        buttonEl.style.display =\n",
              "          google.colab.kernel.accessAllowed ? 'block' : 'none';\n",
              "\n",
              "        async function convertToInteractive(key) {\n",
              "          const element = document.querySelector('#df-f72327b6-225c-4cb1-acbb-d2369c54beab');\n",
              "          const dataTable =\n",
              "            await google.colab.kernel.invokeFunction('convertToInteractive',\n",
              "                                                     [key], {});\n",
              "          if (!dataTable) return;\n",
              "\n",
              "          const docLinkHtml = 'Like what you see? Visit the ' +\n",
              "            '<a target=\"_blank\" href=https://colab.research.google.com/notebooks/data_table.ipynb>data table notebook</a>'\n",
              "            + ' to learn more about interactive tables.';\n",
              "          element.innerHTML = '';\n",
              "          dataTable['output_type'] = 'display_data';\n",
              "          await google.colab.output.renderOutput(dataTable, element);\n",
              "          const docLink = document.createElement('div');\n",
              "          docLink.innerHTML = docLinkHtml;\n",
              "          element.appendChild(docLink);\n",
              "        }\n",
              "      </script>\n",
              "    </div>\n",
              "  </div>\n",
              "  "
            ]
          },
          "metadata": {},
          "execution_count": 6
        }
      ]
    },
    {
      "cell_type": "code",
      "source": [
        "artists_set = set([artist for artists in spotify_df.artistname for artist in artists])"
      ],
      "metadata": {
        "id": "UwHyuuYC5ZIJ"
      },
      "execution_count": null,
      "outputs": []
    },
    {
      "cell_type": "code",
      "source": [
        "len(artists_set)"
      ],
      "metadata": {
        "colab": {
          "base_uri": "https://localhost:8080/"
        },
        "id": "zT68pvjx3a6P",
        "outputId": "455ac05d-ce02-418a-94dc-f52fe09476cb"
      },
      "execution_count": null,
      "outputs": [
        {
          "output_type": "execute_result",
          "data": {
            "text/plain": [
              "23682"
            ]
          },
          "metadata": {},
          "execution_count": 8
        }
      ]
    },
    {
      "cell_type": "code",
      "source": [
        "import networkx as nx\n",
        "# construct artist network\n",
        "artists_graph = nx.Graph()\n",
        "artists_graph.add_nodes_from(artists_set)"
      ],
      "metadata": {
        "id": "DqFdH-YwzwJZ"
      },
      "execution_count": null,
      "outputs": []
    },
    {
      "cell_type": "markdown",
      "source": [
        "We extract the collaborations from the spotify dataset, where we have a collaboration only if there are multiple entries in the list of artists associated with each track."
      ],
      "metadata": {
        "id": "qCfP9zOLzy0n"
      }
    },
    {
      "cell_type": "code",
      "source": [
        "collaborations = spotify_df.loc[map(lambda artists: len(artists) > 1, spotify_df.artistname)]\n",
        "len(collaborations)"
      ],
      "metadata": {
        "id": "d-HNr42nzyA0",
        "colab": {
          "base_uri": "https://localhost:8080/"
        },
        "outputId": "5c33f0a5-13b2-467b-c334-92709aec55b9"
      },
      "execution_count": null,
      "outputs": [
        {
          "output_type": "execute_result",
          "data": {
            "text/plain": [
              "281626"
            ]
          },
          "metadata": {},
          "execution_count": 10
        }
      ]
    },
    {
      "cell_type": "markdown",
      "source": [
        "Each artist is connected by their collaborations."
      ],
      "metadata": {
        "id": "56qWAXYT0jtZ"
      }
    },
    {
      "cell_type": "code",
      "source": [
        "i = 0\n",
        "for _, entry in collaborations.iterrows():\n",
        "    # check progress of the function\n",
        "    if i % 100000 == 0:\n",
        "        print(i, \"/\", len(collaborations))\n",
        "    i+=1\n",
        "    for a in range(len(entry.artistname) - 1):\n",
        "        for b in range(a+1, len(entry.artistname)):\n",
        "            artists_graph.add_edge(list(entry.artistname)[a], list(entry.artistname)[b])"
      ],
      "metadata": {
        "id": "7WsokOQs0Aom",
        "colab": {
          "base_uri": "https://localhost:8080/"
        },
        "outputId": "ce62600a-5448-434a-96ce-d36ff04c9bc1"
      },
      "execution_count": null,
      "outputs": [
        {
          "output_type": "stream",
          "name": "stdout",
          "text": [
            "0 / 281626\n",
            "100000 / 281626\n",
            "200000 / 281626\n"
          ]
        }
      ]
    },
    {
      "cell_type": "markdown",
      "source": [
        "### Spotify Artist Network\n",
        "Now that we have created the initial network of artists connected via their collaborations, we do further pre-processing of the graph.\n",
        "\n",
        "We decided to:\n",
        "- Remove the isolated nodes (artists without collaborations)\n",
        "- Extract the largest component and use it as our artist network"
      ],
      "metadata": {
        "id": "7N-Tlarx0s9-"
      }
    },
    {
      "cell_type": "code",
      "source": [
        "artists_graph.remove_nodes_from(list(nx.isolates(artists_graph)))\n",
        "Gcc = sorted(nx.connected_components(artists_graph), key=len, reverse=True)\n",
        "artists_graph = artists_graph.subgraph(Gcc[0])\n",
        "\n",
        "print(\"number of nodes:\", artists_graph.number_of_nodes())\n",
        "print(\"number of edges:\", artists_graph.number_of_edges())"
      ],
      "metadata": {
        "id": "Xp2Kz26G5-vE",
        "colab": {
          "base_uri": "https://localhost:8080/"
        },
        "outputId": "c3f96b21-f768-4540-93c3-05691f8cdef1"
      },
      "execution_count": null,
      "outputs": [
        {
          "output_type": "stream",
          "name": "stdout",
          "text": [
            "number of nodes: 4819\n",
            "number of edges: 10418\n"
          ]
        }
      ]
    },
    {
      "cell_type": "markdown",
      "source": [
        "### Getting additional information from Spotify API about each song\n",
        "In this section, we get more information about each artist. Namely, we obtain the Spotify ID (which can be used to check if the artist is on Spotify), popularity, genres and related artists."
      ],
      "metadata": {
        "id": "Io24b9Lh6CbM"
      }
    },
    {
      "cell_type": "code",
      "source": [
        "artists_set = set(artists_graph.nodes())\n",
        "data = {'artistname': list(artists_set),\n",
        "        'id': [None] * len(artists_set),\n",
        "        'popularity': [None] * len(artists_set),\n",
        "        'genres': [None] * len(artists_set),\n",
        "        'related_artists': [None] * len(artists_set)}\n",
        "artists_df = pd.DataFrame(data)"
      ],
      "metadata": {
        "id": "g2_sRyGp6ATT"
      },
      "execution_count": null,
      "outputs": []
    },
    {
      "cell_type": "code",
      "source": [
        "# load credentials\n",
        "credentials = json.load(open('authorization.json'))\n",
        "client_id = credentials['client_id']\n",
        "client_secret = credentials['client_secret']"
      ],
      "metadata": {
        "id": "Yc4CEsP36hAa"
      },
      "execution_count": null,
      "outputs": []
    },
    {
      "cell_type": "code",
      "source": [
        "def search_artist_spotify(artist):\n",
        "    results = sp.search(q=artist.artistname, type='artist')\n",
        "\n",
        "    for result in results['artists']['items']:\n",
        "        # check if artist was found\n",
        "        if result['name'].lower() == artist.artistname:\n",
        "            artist.id = result[\"id\"]\n",
        "            artist.popularity = result[\"popularity\"]\n",
        "            artist.genres = result[\"genres\"]\n",
        "    \n",
        "    return artist"
      ],
      "metadata": {
        "id": "EvxgW4uO6j0V"
      },
      "execution_count": null,
      "outputs": []
    },
    {
      "cell_type": "code",
      "source": [
        "def get_related_artists_spotify(artist):\n",
        "    results = sp.artist_related_artists(artist.id)\n",
        "\n",
        "    related_artists=list()\n",
        "    for result in results['artists']:\n",
        "        if result['name'].lower() in set(artists_df.artistname):\n",
        "            related_artists.append(result['name'].lower())\n",
        "    artist.related_artists = related_artists"
      ],
      "metadata": {
        "id": "ttkMV-bw6nRQ"
      },
      "execution_count": null,
      "outputs": []
    },
    {
      "cell_type": "code",
      "source": [
        "sp = spotipy.Spotify(client_credentials_manager=SpotifyClientCredentials(\n",
        "    client_id=client_id,\n",
        "    client_secret=client_secret,\n",
        "    ))\n",
        "\n",
        "i = 0\n",
        "for _, artist in artists_df.iterrows():\n",
        "    if i % 100 == 0:\n",
        "        print(i, \"/\", len(artists_df))\n",
        "    i += 1\n",
        "    artist = search_artist_spotify(artist)"
      ],
      "metadata": {
        "id": "ny8OIL2N6qSg",
        "colab": {
          "base_uri": "https://localhost:8080/"
        },
        "outputId": "e0ed216e-9536-48e4-8752-e35c3fef6d1a"
      },
      "execution_count": null,
      "outputs": [
        {
          "output_type": "stream",
          "name": "stdout",
          "text": [
            "0 / 4819\n",
            "100 / 4819\n",
            "200 / 4819\n",
            "300 / 4819\n",
            "400 / 4819\n",
            "500 / 4819\n",
            "600 / 4819\n",
            "700 / 4819\n",
            "800 / 4819\n",
            "900 / 4819\n",
            "1000 / 4819\n",
            "1100 / 4819\n",
            "1200 / 4819\n",
            "1300 / 4819\n",
            "1400 / 4819\n",
            "1500 / 4819\n",
            "1600 / 4819\n",
            "1700 / 4819\n",
            "1800 / 4819\n",
            "1900 / 4819\n",
            "2000 / 4819\n",
            "2100 / 4819\n",
            "2200 / 4819\n",
            "2300 / 4819\n",
            "2400 / 4819\n",
            "2500 / 4819\n",
            "2600 / 4819\n",
            "2700 / 4819\n",
            "2800 / 4819\n",
            "2900 / 4819\n",
            "3000 / 4819\n",
            "3100 / 4819\n",
            "3200 / 4819\n",
            "3300 / 4819\n",
            "3400 / 4819\n",
            "3500 / 4819\n",
            "3600 / 4819\n",
            "3700 / 4819\n",
            "3800 / 4819\n",
            "3900 / 4819\n",
            "4000 / 4819\n",
            "4100 / 4819\n",
            "4200 / 4819\n",
            "4300 / 4819\n",
            "4400 / 4819\n",
            "4500 / 4819\n",
            "4600 / 4819\n",
            "4700 / 4819\n",
            "4800 / 4819\n"
          ]
        }
      ]
    },
    {
      "cell_type": "code",
      "source": [
        "sp = spotipy.Spotify(client_credentials_manager=SpotifyClientCredentials(\n",
        "    client_id=client_id,\n",
        "    client_secret=client_secret,\n",
        "    ), requests_timeout=10, retries=10)\n",
        "\n",
        "i = 0\n",
        "for _, artist in artists_df.iterrows():\n",
        "    if i % 100 == 0:\n",
        "        print(i, \"/\", len(artists_df))\n",
        "    i += 1\n",
        "    if artist.id != None:\n",
        "        get_related_artists_spotify(artist)"
      ],
      "metadata": {
        "id": "KbUDPOJl6ur2",
        "colab": {
          "base_uri": "https://localhost:8080/"
        },
        "outputId": "3c4fd1db-0161-4cd8-8a86-68622efb4b75"
      },
      "execution_count": null,
      "outputs": [
        {
          "output_type": "stream",
          "name": "stdout",
          "text": [
            "0 / 4819\n",
            "100 / 4819\n",
            "200 / 4819\n",
            "300 / 4819\n",
            "400 / 4819\n",
            "500 / 4819\n",
            "600 / 4819\n",
            "700 / 4819\n",
            "800 / 4819\n",
            "900 / 4819\n",
            "1000 / 4819\n",
            "1100 / 4819\n",
            "1200 / 4819\n",
            "1300 / 4819\n",
            "1400 / 4819\n",
            "1500 / 4819\n",
            "1600 / 4819\n",
            "1700 / 4819\n",
            "1800 / 4819\n",
            "1900 / 4819\n",
            "2000 / 4819\n",
            "2100 / 4819\n",
            "2200 / 4819\n",
            "2300 / 4819\n",
            "2400 / 4819\n",
            "2500 / 4819\n",
            "2600 / 4819\n",
            "2700 / 4819\n",
            "2800 / 4819\n",
            "2900 / 4819\n",
            "3000 / 4819\n",
            "3100 / 4819\n",
            "3200 / 4819\n",
            "3300 / 4819\n",
            "3400 / 4819\n",
            "3500 / 4819\n",
            "3600 / 4819\n",
            "3700 / 4819\n",
            "3800 / 4819\n",
            "3900 / 4819\n",
            "4000 / 4819\n",
            "4100 / 4819\n",
            "4200 / 4819\n",
            "4300 / 4819\n",
            "4400 / 4819\n",
            "4500 / 4819\n",
            "4600 / 4819\n",
            "4700 / 4819\n",
            "4800 / 4819\n"
          ]
        }
      ]
    },
    {
      "cell_type": "markdown",
      "source": [
        "### Remove artists that are not on Spotify\n",
        "We remove the artists that are not found on Spotify (by the ID)."
      ],
      "metadata": {
        "id": "bRWQ2Y1GNZI5"
      }
    },
    {
      "cell_type": "code",
      "source": [
        "# these are the artists that are not on Spotify\n",
        "no_info = (list(artists_df[artists_df.id.isnull()].artistname) + list(artists_df[artists_df.genres.isnull()].artistname))"
      ],
      "metadata": {
        "id": "gjxXR-c66wnB"
      },
      "execution_count": null,
      "outputs": []
    },
    {
      "cell_type": "code",
      "source": [
        "len(no_info)"
      ],
      "metadata": {
        "colab": {
          "base_uri": "https://localhost:8080/"
        },
        "id": "40SuAGUDonH6",
        "outputId": "6231db05-48a3-42b3-b9c8-83463df44a3d"
      },
      "execution_count": null,
      "outputs": [
        {
          "output_type": "execute_result",
          "data": {
            "text/plain": [
              "836"
            ]
          },
          "metadata": {},
          "execution_count": 21
        }
      ]
    },
    {
      "cell_type": "code",
      "source": [
        "# remove the nodes (artists) that are not on Spotify\n",
        "artists_graph = nx.Graph(artists_graph) # unfreeze the graph\n",
        "artists_graph.remove_nodes_from(list(no_info))\n",
        "Gcc = sorted(nx.connected_components(artists_graph), key=len, reverse=True)\n",
        "artists_graph = artists_graph.subgraph(Gcc[0])\n",
        "\n",
        "print(\"number of nodes:\", artists_graph.number_of_nodes())\n",
        "print(\"number of edges:\", artists_graph.number_of_edges())"
      ],
      "metadata": {
        "id": "3JnY69TP62Qg",
        "colab": {
          "base_uri": "https://localhost:8080/"
        },
        "outputId": "583c40ed-7fc0-40e3-d4f2-49e79ae493ac"
      },
      "execution_count": null,
      "outputs": [
        {
          "output_type": "stream",
          "name": "stdout",
          "text": [
            "number of nodes: 4064\n",
            "number of edges: 8836\n"
          ]
        }
      ]
    },
    {
      "cell_type": "markdown",
      "source": [
        "Save the network"
      ],
      "metadata": {
        "id": "VAGL5IiLpWpQ"
      }
    },
    {
      "cell_type": "code",
      "source": [
        "# save graph object to file\n",
        "pickle.dump(artists_graph, open('spotify_artists_collab.pickle', 'wb'))"
      ],
      "metadata": {
        "id": "D80bH1kZpX31"
      },
      "execution_count": null,
      "outputs": []
    },
    {
      "cell_type": "markdown",
      "source": [
        "## 3) Network Analysis \n",
        "Here, we do some network analysis to answer some questions related to the artist's network statistics."
      ],
      "metadata": {
        "id": "ompy0jTKKgw_"
      }
    },
    {
      "cell_type": "markdown",
      "source": [
        "Load in the network"
      ],
      "metadata": {
        "id": "O5I9YNliqXOC"
      }
    },
    {
      "cell_type": "code",
      "source": [
        "artists_graph = pickle.load(open('/content/drive/MyDrive/University Materials/Business Analytics/Y3S1/02805 Social graphs & interactions/Data/Spotify Network/spotify_artists_collab.pickle', 'rb'))"
      ],
      "metadata": {
        "id": "BKMvZ9VlqYXd"
      },
      "execution_count": 3,
      "outputs": []
    },
    {
      "cell_type": "markdown",
      "source": [
        "### Plot the network"
      ],
      "metadata": {
        "id": "tx_r3qFU7KNH"
      }
    },
    {
      "cell_type": "code",
      "source": [
        "# plot the network using nx.draw\n",
        "nx.draw(artists_graph, node_size=list(dict(artists_graph.degree()).values()))"
      ],
      "metadata": {
        "id": "9r9jJcT37LeF",
        "colab": {
          "base_uri": "https://localhost:8080/",
          "height": 319
        },
        "outputId": "9baf4420-faad-4a3c-a148-6fca48761c04"
      },
      "execution_count": null,
      "outputs": [
        {
          "output_type": "display_data",
          "data": {
            "text/plain": [
              "<Figure size 432x288 with 1 Axes>"
            ],
            "image/png": "[encoded data removed]"
          },
          "metadata": {}
        }
      ]
    },
    {
      "cell_type": "markdown",
      "source": [
        "### Nodes, Edges and Degrees\n",
        "\n",
        "As mentioned earlier, each node represents **a Spotify artist from the #nowplaying dataset**. If **there is a collaboration between two artists**, we include an edge between the two nodes representing the artists.\n",
        "\n",
        "Hence, the degree of the nodes represents the **number of collaborations** an artist has with other artists."
      ],
      "metadata": {
        "id": "Iu6RbmHoXks4"
      }
    },
    {
      "cell_type": "markdown",
      "source": [
        "### Density of Graph\n",
        "\n",
        "The density of a graph represents the ratio between the edges present in the graph and the maximum number of edges that a graph can contain.\n",
        "Conceptually, this gives us an idea of how dense our artist graph is in terms of edge connectivity."
      ],
      "metadata": {
        "id": "x63om8-3Xgs_"
      }
    },
    {
      "cell_type": "code",
      "source": [
        "nx.density(artists_graph)"
      ],
      "metadata": {
        "colab": {
          "base_uri": "https://localhost:8080/"
        },
        "id": "dpHch80yX84w",
        "outputId": "06a5b765-e7ff-41e9-eee6-dd1e01a46435"
      },
      "execution_count": 11,
      "outputs": [
        {
          "output_type": "execute_result",
          "data": {
            "text/plain": [
              "0.001070249863856853"
            ]
          },
          "metadata": {},
          "execution_count": 11
        }
      ]
    },
    {
      "cell_type": "markdown",
      "source": [
        "We observe that the density of the graph is very low, which tells us that the artists graph is not very dense ie. artists don't really collaborate as much as they could. This makes sense as an artist is likely to be selective with picking their collaborators as not all genres are able to mesh well with each other. The selective and intentional nature of collaboration would hence lead to a low artist network graph density."
      ],
      "metadata": {
        "id": "M2HYuIS9YDQ2"
      }
    },
    {
      "cell_type": "markdown",
      "source": [
        "### Degree distribution"
      ],
      "metadata": {
        "id": "sWjtkF257NpN"
      }
    },
    {
      "cell_type": "code",
      "source": [
        "# Plot degree distribution\n",
        "degree = list(dict(artists_graph.degree()).values())\n",
        "hist, bin = np.histogram(degree, bins=range(min(degree), max(degree))) # return an array with histogram values and the bin edges \n",
        "\n",
        "# f, ax = plt.subplots(1, 2, figsize=(15,5))\n",
        "plt.title('Degree distribution')\n",
        "plt.bar(bin[:-1], hist)\n",
        "plt.xlabel(\"Degree\")\n",
        "plt.ylabel(\"Frequency\")\n",
        "\n",
        "plt.show()"
      ],
      "metadata": {
        "id": "pcHz6Zw47OWT",
        "colab": {
          "base_uri": "https://localhost:8080/",
          "height": 295
        },
        "outputId": "4a2ad3a9-a795-4bda-d336-e7753583c253"
      },
      "execution_count": 74,
      "outputs": [
        {
          "output_type": "display_data",
          "data": {
            "text/plain": [
              "<Figure size 432x288 with 1 Axes>"
            ],
            "image/png": "[encoded data removed]"
          },
          "metadata": {
            "needs_background": "light"
          }
        }
      ]
    },
    {
      "cell_type": "markdown",
      "source": [
        "Here, we observe that most of the nodes have low degrees, some of them have a moderate degree, and a few nodes that have very high degrees. This means that most of the artists have few collaborations, while some artists have a higher number of collaborations, and a few artists have many collaborations (hubs).\n",
        "\n",
        "We also investigate the mean, median, mode, maximum and minimum degrees."
      ],
      "metadata": {
        "id": "GbCij37mYdN1"
      }
    },
    {
      "cell_type": "code",
      "source": [
        "# churn out a pandas dataframe that gives us information on the various summary statistics of degrees in the network\n",
        "graph_degree_statistics = pd.DataFrame([[np.mean(degree), np.median(degree), stats.mode(degree)[0][0], max(degree), min(degree)]],\n",
        "                                       columns='Mean Degree,Median Degree,Mode Degree,Maximum Degree,Minimum Degree'.split(','))\n",
        "graph_degree_statistics"
      ],
      "metadata": {
        "colab": {
          "base_uri": "https://localhost:8080/",
          "height": 81
        },
        "id": "9dL-WNkiaBqM",
        "outputId": "b20712f6-345a-4ad5-fd1d-f9c5d47e0604"
      },
      "execution_count": 23,
      "outputs": [
        {
          "output_type": "execute_result",
          "data": {
            "text/plain": [
              "   Mean Degree  Median Degree  Mode Degree  Maximum Degree  Minimum Degree\n",
              "0     4.348425            2.0            1             122               1"
            ],
            "text/html": [
              "\n",
              "  <div id=\"df-0e5c6b3b-5dc5-4cbc-bbe3-65ac6c2310f3\">\n",
              "    <div class=\"colab-df-container\">\n",
              "      <div>\n",
              "<style scoped>\n",
              "    .dataframe tbody tr th:only-of-type {\n",
              "        vertical-align: middle;\n",
              "    }\n",
              "\n",
              "    .dataframe tbody tr th {\n",
              "        vertical-align: top;\n",
              "    }\n",
              "\n",
              "    .dataframe thead th {\n",
              "        text-align: right;\n",
              "    }\n",
              "</style>\n",
              "<table border=\"1\" class=\"dataframe\">\n",
              "  <thead>\n",
              "    <tr style=\"text-align: right;\">\n",
              "      <th></th>\n",
              "      <th>Mean Degree</th>\n",
              "      <th>Median Degree</th>\n",
              "      <th>Mode Degree</th>\n",
              "      <th>Maximum Degree</th>\n",
              "      <th>Minimum Degree</th>\n",
              "    </tr>\n",
              "  </thead>\n",
              "  <tbody>\n",
              "    <tr>\n",
              "      <th>0</th>\n",
              "      <td>4.348425</td>\n",
              "      <td>2.0</td>\n",
              "      <td>1</td>\n",
              "      <td>122</td>\n",
              "      <td>1</td>\n",
              "    </tr>\n",
              "  </tbody>\n",
              "</table>\n",
              "</div>\n",
              "      <button class=\"colab-df-convert\" onclick=\"convertToInteractive('df-0e5c6b3b-5dc5-4cbc-bbe3-65ac6c2310f3')\"\n",
              "              title=\"Convert this dataframe to an interactive table.\"\n",
              "              style=\"display:none;\">\n",
              "        \n",
              "  <svg xmlns=\"http://www.w3.org/2000/svg\" height=\"24px\"viewBox=\"0 0 24 24\"\n",
              "       width=\"24px\">\n",
              "    <path d=\"M0 0h24v24H0V0z\" fill=\"none\"/>\n",
              "    <path d=\"M18.56 5.44l.94 2.06.94-2.06 2.06-.94-2.06-.94-.94-2.06-.94 2.06-2.06.94zm-11 1L8.5 8.5l.94-2.06 2.06-.94-2.06-.94L8.5 2.5l-.94 2.06-2.06.94zm10 10l.94 2.06.94-2.06 2.06-.94-2.06-.94-.94-2.06-.94 2.06-2.06.94z\"/><path d=\"M17.41 7.96l-1.37-1.37c-.4-.4-.92-.59-1.43-.59-.52 0-1.04.2-1.43.59L10.3 9.45l-7.72 7.72c-.78.78-.78 2.05 0 2.83L4 21.41c.39.39.9.59 1.41.59.51 0 1.02-.2 1.41-.59l7.78-7.78 2.81-2.81c.8-.78.8-2.07 0-2.86zM5.41 20L4 18.59l7.72-7.72 1.47 1.35L5.41 20z\"/>\n",
              "  </svg>\n",
              "      </button>\n",
              "      \n",
              "  <style>\n",
              "    .colab-df-container {\n",
              "      display:flex;\n",
              "      flex-wrap:wrap;\n",
              "      gap: 12px;\n",
              "    }\n",
              "\n",
              "    .colab-df-convert {\n",
              "      background-color: #E8F0FE;\n",
              "      border: none;\n",
              "      border-radius: 50%;\n",
              "      cursor: pointer;\n",
              "      display: none;\n",
              "      fill: #1967D2;\n",
              "      height: 32px;\n",
              "      padding: 0 0 0 0;\n",
              "      width: 32px;\n",
              "    }\n",
              "\n",
              "    .colab-df-convert:hover {\n",
              "      background-color: #E2EBFA;\n",
              "      box-shadow: 0px 1px 2px rgba(60, 64, 67, 0.3), 0px 1px 3px 1px rgba(60, 64, 67, 0.15);\n",
              "      fill: #174EA6;\n",
              "    }\n",
              "\n",
              "    [theme=dark] .colab-df-convert {\n",
              "      background-color: #3B4455;\n",
              "      fill: #D2E3FC;\n",
              "    }\n",
              "\n",
              "    [theme=dark] .colab-df-convert:hover {\n",
              "      background-color: #434B5C;\n",
              "      box-shadow: 0px 1px 3px 1px rgba(0, 0, 0, 0.15);\n",
              "      filter: drop-shadow(0px 1px 2px rgba(0, 0, 0, 0.3));\n",
              "      fill: #FFFFFF;\n",
              "    }\n",
              "  </style>\n",
              "\n",
              "      <script>\n",
              "        const buttonEl =\n",
              "          document.querySelector('#df-0e5c6b3b-5dc5-4cbc-bbe3-65ac6c2310f3 button.colab-df-convert');\n",
              "        buttonEl.style.display =\n",
              "          google.colab.kernel.accessAllowed ? 'block' : 'none';\n",
              "\n",
              "        async function convertToInteractive(key) {\n",
              "          const element = document.querySelector('#df-0e5c6b3b-5dc5-4cbc-bbe3-65ac6c2310f3');\n",
              "          const dataTable =\n",
              "            await google.colab.kernel.invokeFunction('convertToInteractive',\n",
              "                                                     [key], {});\n",
              "          if (!dataTable) return;\n",
              "\n",
              "          const docLinkHtml = 'Like what you see? Visit the ' +\n",
              "            '<a target=\"_blank\" href=https://colab.research.google.com/notebooks/data_table.ipynb>data table notebook</a>'\n",
              "            + ' to learn more about interactive tables.';\n",
              "          element.innerHTML = '';\n",
              "          dataTable['output_type'] = 'display_data';\n",
              "          await google.colab.output.renderOutput(dataTable, element);\n",
              "          const docLink = document.createElement('div');\n",
              "          docLink.innerHTML = docLinkHtml;\n",
              "          element.appendChild(docLink);\n",
              "        }\n",
              "      </script>\n",
              "    </div>\n",
              "  </div>\n",
              "  "
            ]
          },
          "metadata": {},
          "execution_count": 23
        }
      ]
    },
    {
      "cell_type": "code",
      "source": [
        "# find which artist has the highest degree ie. most number of collaborations\n",
        "sorted(artists_graph.degree, key=lambda x: x[1], reverse=True)[0]"
      ],
      "metadata": {
        "colab": {
          "base_uri": "https://localhost:8080/"
        },
        "id": "c4yBPBKwc66B",
        "outputId": "19248609-72f5-4640-dd8b-e67bbf71997f"
      },
      "execution_count": 30,
      "outputs": [
        {
          "output_type": "execute_result",
          "data": {
            "text/plain": [
              "('his orchestra', 122)"
            ]
          },
          "metadata": {},
          "execution_count": 30
        }
      ]
    },
    {
      "cell_type": "markdown",
      "source": [
        "We observe that the mean degree is around 4.35, which indicates that on average, each artist has about 4 collaborations. This might not be the best metric to look at as we have outliers (hubs that have a very high degree/no. of collaborations). \n",
        "\n",
        "We also analyze the median degree, which tells us that at the 50th percentile, artists have about 2 collaborations. \n",
        "\n",
        "The most prominent number of collaborations is 1, meaning that most artists have one collaboration only.\n",
        "\n",
        "We can also see that there is one artist with 122 collaborations. Out of curiosity, we take a look at who this artist is.\n",
        "\n",
        "Looks like 'His Orchestra' is the artist with the most number of collaborations.\n",
        "\n",
        "Finally, we see that the minimum number of collaborations is 1, which is expected as we removed all the isolated nodes in our pre-processing ie. the artists with no collaborations."
      ],
      "metadata": {
        "id": "hlSnC6NJcGWA"
      }
    },
    {
      "cell_type": "markdown",
      "source": [
        "### Check if distribution obeys a power law\n",
        "Here, we check if the degree distribution of the artist network obeys a power law. We are essentially checking if the artist network is a scale-free network.\n",
        "\n",
        "A scale-free network is a network whose degree distribution follows a power law.\n",
        "This means that the *logarithm of the probability of a node having a certain degree k* depends linearly on *the logarithm of degree k*, and the slope of a line representing the relationship is the power law coefficient γ.\n",
        "\n",
        "When the power law coefficient γ is high, the number of nodes with high degree is snaller than the number of nodes with low degree.\n",
        "\n",
        "A high value of γ represents a network in which the distribution of edges is fairer."
      ],
      "metadata": {
        "id": "icTKlaZZ7Nul"
      }
    },
    {
      "cell_type": "code",
      "source": [
        "# installing relevant packages\n",
        "!pip install powerlaw"
      ],
      "metadata": {
        "colab": {
          "base_uri": "https://localhost:8080/"
        },
        "id": "19Ad4x2KpIL6",
        "outputId": "356d6d4e-b627-4e8d-91a8-6be34ec4e0ee"
      },
      "execution_count": 32,
      "outputs": [
        {
          "output_type": "stream",
          "name": "stdout",
          "text": [
            "Looking in indexes: https://pypi.org/simple, https://us-python.pkg.dev/colab-wheels/public/simple/\n",
            "Collecting powerlaw\n",
            "  Downloading powerlaw-1.5-py3-none-any.whl (24 kB)\n",
            "Requirement already satisfied: matplotlib in /usr/local/lib/python3.7/dist-packages (from powerlaw) (3.2.2)\n",
            "Requirement already satisfied: scipy in /usr/local/lib/python3.7/dist-packages (from powerlaw) (1.7.3)\n",
            "Requirement already satisfied: mpmath in /usr/local/lib/python3.7/dist-packages (from powerlaw) (1.2.1)\n",
            "Requirement already satisfied: numpy in /usr/local/lib/python3.7/dist-packages (from powerlaw) (1.21.6)\n",
            "Requirement already satisfied: kiwisolver>=1.0.1 in /usr/local/lib/python3.7/dist-packages (from matplotlib->powerlaw) (1.4.4)\n",
            "Requirement already satisfied: pyparsing!=2.0.4,!=2.1.2,!=2.1.6,>=2.0.1 in /usr/local/lib/python3.7/dist-packages (from matplotlib->powerlaw) (3.0.9)\n",
            "Requirement already satisfied: python-dateutil>=2.1 in /usr/local/lib/python3.7/dist-packages (from matplotlib->powerlaw) (2.8.2)\n",
            "Requirement already satisfied: cycler>=0.10 in /usr/local/lib/python3.7/dist-packages (from matplotlib->powerlaw) (0.11.0)\n",
            "Requirement already satisfied: typing-extensions in /usr/local/lib/python3.7/dist-packages (from kiwisolver>=1.0.1->matplotlib->powerlaw) (4.1.1)\n",
            "Requirement already satisfied: six>=1.5 in /usr/local/lib/python3.7/dist-packages (from python-dateutil>=2.1->matplotlib->powerlaw) (1.15.0)\n",
            "Installing collected packages: powerlaw\n",
            "Successfully installed powerlaw-1.5\n"
          ]
        }
      ]
    },
    {
      "cell_type": "code",
      "source": [
        "from math import exp\n",
        "import matplotlib.pyplot as plt\n",
        "from collections import Counter\n",
        "import numpy as np\n",
        "import powerlaw\n",
        "\n",
        "degree_sequence = sorted(list(dict(artists_graph.degree()).values()), reverse=True)\n",
        "alpha_in = powerlaw.Fit(degree_sequence).alpha\n",
        "print(\"The slope of the incoming degree distribution\", alpha_in)\n",
        "degree_freq = Counter(degree_sequence)\n",
        "\n",
        "x = np.log(np.array(list(degree_freq.keys())))\n",
        "y = np.log(np.array(list(degree_freq.values())))\n",
        "\n",
        "ymin, ymax = ([0, y.max()])\n",
        "ymid = (ymin + ymax) / 2\n",
        "xmin, xmax = ([0, x.max()])\n",
        "xmid = (xmin + xmax) / 2\n",
        "\n",
        "y1 = -alpha_in * (xmin - xmid) + ymid\n",
        "y2 = -alpha_in * (xmax - xmid) + ymid\n",
        "\n",
        "fig = plt.figure()\n",
        "ax = plt.gca()\n",
        "plt.scatter(degree_freq.keys(), degree_freq.values() , alpha=0.65)\n",
        "ax.plot(np.exp([xmin, xmax]), np.exp([y1, y2]), 'r', label=\"alpha_in\")\n",
        "\n",
        "plt.title(\"in-degree distribution\")\n",
        "plt.xlabel('Degree')\n",
        "plt.ylabel('Frequency')\n",
        "plt.loglog()\n",
        "plt.legend()"
      ],
      "metadata": {
        "id": "9P2CjvDd7Zl9",
        "colab": {
          "base_uri": "https://localhost:8080/",
          "height": 351
        },
        "outputId": "22ab20f2-4468-4f31-86a0-83c5f9d8986b"
      },
      "execution_count": 33,
      "outputs": [
        {
          "output_type": "stream",
          "name": "stdout",
          "text": [
            "Calculating best minimal value for power law fit\n",
            "xmin progress: 00%\rxmin progress: 01%\rxmin progress: 03%\rxmin progress: 05%\rxmin progress: 06%\rxmin progress: 08%\rxmin progress: 10%\rxmin progress: 12%\rxmin progress: 13%\rxmin progress: 15%\rxmin progress: 17%\rxmin progress: 18%\rxmin progress: 20%\rxmin progress: 22%\rxmin progress: 24%\rxmin progress: 25%\rxmin progress: 27%\rxmin progress: 29%\rxmin progress: 31%\rxmin progress: 32%\rxmin progress: 34%\rxmin progress: 36%\rxmin progress: 37%\rxmin progress: 39%\rxmin progress: 41%\rxmin progress: 43%\rxmin progress: 44%\rxmin progress: 46%\rxmin progress: 48%\rxmin progress: 50%\rxmin progress: 51%\rxmin progress: 53%\rxmin progress: 55%\rxmin progress: 56%\rxmin progress: 58%\rxmin progress: 60%\rxmin progress: 62%\rxmin progress: 63%\rxmin progress: 65%\rxmin progress: 67%\rxmin progress: 68%\rxmin progress: 70%\rxmin progress: 72%\rxmin progress: 74%\rxmin progress: 75%\rxmin progress: 77%\rxmin progress: 79%\rxmin progress: 81%\rxmin progress: 82%\rxmin progress: 84%\rxmin progress: 86%\rxmin progress: 87%\rxmin progress: 89%\rxmin progress: 91%\rxmin progress: 93%\rxmin progress: 94%\rxmin progress: 96%\rxmin progress: 98%\rThe slope of the incoming degree distribution 3.571382196944492\n"
          ]
        },
        {
          "output_type": "execute_result",
          "data": {
            "text/plain": [
              "<matplotlib.legend.Legend at 0x7fd7c90f7290>"
            ]
          },
          "metadata": {},
          "execution_count": 33
        },
        {
          "output_type": "display_data",
          "data": {
            "text/plain": [
              "<Figure size 432x288 with 1 Axes>"
            ],
            "image/png": "[encoded data removed]"
          },
          "metadata": {
            "needs_background": "light"
          }
        }
      ]
    },
    {
      "cell_type": "markdown",
      "source": [
        "Here, we observe that the artist network's degree distribution does indeed obey a power law. In other words, the artist network is a scale-free network.\n",
        "\n",
        "The power law coefficient we obtained from our analysis is about 3.57.\n",
        "\n",
        "Hence, the artist network follows the *small world regime* since degree exponent γ is greater than 3.\n",
        "\n",
        "This means that the second moment of the degree, variance, is finite. Inherently, this tells us that the spread in terms of collaborations between artists is quantifiable and does not diverge.\n",
        "\n",
        "The average distance between the artists also follows the *small world result* that's derived for random networks.\n",
        "\n",
        "For scale-free networks where γ > 3, hubs continue to be present (as seen from some artists that have many collaborations). However, they are not sufficiently large and numerous to have a significant impact on the distance between the nodes.\n",
        "\n",
        "This means that the distances between each artist in the network is larger compared to a network with a smaller degree exponent γ."
      ],
      "metadata": {
        "id": "V0YNv8Pug1MV"
      }
    },
    {
      "cell_type": "markdown",
      "source": [
        "### Finding communities within the best partition\n",
        "Here, we find the best partition that separates the network into groups or communities.\n",
        "\n",
        "We then find the modularity of the best partition, and inspect the communities to derive meaningful insights."
      ],
      "metadata": {
        "id": "rCug3Cwt7cOo"
      }
    },
    {
      "cell_type": "code",
      "source": [
        "from community import community_louvain\n",
        "# compute the best partition\n",
        "communities = community_louvain.best_partition(artists_graph, random_state=0) \n",
        "# we used random_state parameter so that the results can be reproduced\n",
        "mod = community_louvain.modularity(communities, artists_graph)\n",
        "print(\"modularity is\", mod)\n",
        "\n",
        "no_communities = len(Counter(communities.values()))\n",
        "print(\"The Louvain algorithm had found\", no_communities, \"communities\")\n",
        "\n",
        "for community, count in Counter(communities.values()).most_common():\n",
        "    print(\"The community\", community, \"has\", count, \"nodes\")"
      ],
      "metadata": {
        "id": "EjjzTZhb7jag",
        "colab": {
          "base_uri": "https://localhost:8080/"
        },
        "outputId": "2ae77297-9f1f-44fc-dc76-3ea1397ee0e3"
      },
      "execution_count": 4,
      "outputs": [
        {
          "output_type": "stream",
          "name": "stdout",
          "text": [
            "modularity is 0.7266009358501098\n",
            "The Louvain algorithm had found 48 communities\n",
            "The community 0 has 575 nodes\n",
            "The community 6 has 487 nodes\n",
            "The community 3 has 371 nodes\n",
            "The community 9 has 365 nodes\n",
            "The community 1 has 158 nodes\n",
            "The community 15 has 145 nodes\n",
            "The community 2 has 139 nodes\n",
            "The community 7 has 138 nodes\n",
            "The community 12 has 131 nodes\n",
            "The community 30 has 123 nodes\n",
            "The community 10 has 106 nodes\n",
            "The community 11 has 106 nodes\n",
            "The community 17 has 93 nodes\n",
            "The community 16 has 86 nodes\n",
            "The community 19 has 85 nodes\n",
            "The community 27 has 83 nodes\n",
            "The community 23 has 69 nodes\n",
            "The community 32 has 68 nodes\n",
            "The community 18 has 67 nodes\n",
            "The community 4 has 64 nodes\n",
            "The community 29 has 61 nodes\n",
            "The community 14 has 60 nodes\n",
            "The community 20 has 58 nodes\n",
            "The community 24 has 58 nodes\n",
            "The community 13 has 56 nodes\n",
            "The community 22 has 56 nodes\n",
            "The community 31 has 54 nodes\n",
            "The community 26 has 42 nodes\n",
            "The community 25 has 33 nodes\n",
            "The community 21 has 17 nodes\n",
            "The community 34 has 16 nodes\n",
            "The community 37 has 12 nodes\n",
            "The community 28 has 9 nodes\n",
            "The community 43 has 8 nodes\n",
            "The community 8 has 7 nodes\n",
            "The community 39 has 7 nodes\n",
            "The community 35 has 6 nodes\n",
            "The community 46 has 6 nodes\n",
            "The community 5 has 5 nodes\n",
            "The community 41 has 5 nodes\n",
            "The community 45 has 5 nodes\n",
            "The community 38 has 4 nodes\n",
            "The community 40 has 4 nodes\n",
            "The community 42 has 4 nodes\n",
            "The community 36 has 3 nodes\n",
            "The community 44 has 3 nodes\n",
            "The community 47 has 3 nodes\n",
            "The community 33 has 3 nodes\n"
          ]
        }
      ]
    },
    {
      "cell_type": "markdown",
      "source": [
        "We obtained a high modularity score of 0.727 for the best partition.\n",
        "\n",
        "Modularity measures the strength of division of a network into communities, where a higher modularity implies better partition. Since we are computing the modularity score of the best partition, we are obtaining the maximum modularity.\n",
        "\n",
        "Networks with high modularity have dense connections between the nodes within communities but sparse connections between nodes in different communities.\n",
        "\n",
        "As such, we can conclude that the artist network is well-separated into various distinct communities where each community is made up of different artists that have collaborated extensively with other artists in that community.\n",
        "\n",
        "We plot a barplot that shows us the number of artists in each community.\n",
        "\n",
        "\n",
        "\n"
      ],
      "metadata": {
        "id": "e4C2Y7wMovMe"
      }
    },
    {
      "cell_type": "code",
      "source": [
        "# get the count of artists in each community\n",
        "count_artists_community = list(Counter(communities.values()).values())\n",
        "# get the community number\n",
        "community_no = list(Counter(communities.values()).keys())\n",
        "fig, ax = plt.subplots()\n",
        "\n",
        "p = ax.bar(community_no, count_artists_community)\n",
        "\n",
        "ax.axhline(0, color='grey', linewidth=0.8)\n",
        "ax.set_ylabel('Number of artists')\n",
        "ax.set_xlabel('Community Number')\n",
        "ax.set_title('Number of artists in each community')\n",
        "ax.bar_label(p)\n",
        "\n",
        "plt.show()"
      ],
      "metadata": {
        "colab": {
          "base_uri": "https://localhost:8080/",
          "height": 295
        },
        "id": "JUY4iYrG9kCc",
        "outputId": "90b83912-a48d-46db-cb8e-829b57c88af5"
      },
      "execution_count": 42,
      "outputs": [
        {
          "output_type": "display_data",
          "data": {
            "text/plain": [
              "<Figure size 432x288 with 1 Axes>"
            ],
            "image/png": "[encoded data removed]"
          },
          "metadata": {
            "needs_background": "light"
          }
        }
      ]
    },
    {
      "cell_type": "markdown",
      "source": [
        "### Plot the network using ForceAtlas2\n",
        "- We color the different communities differently to show the modularity of the network.\n",
        "- We also display each node differently depending on the degree of each node."
      ],
      "metadata": {
        "id": "gfYk3Xxy7qn-"
      }
    },
    {
      "cell_type": "code",
      "source": [
        "forceatlas2 = fa2.ForceAtlas2(\n",
        "                        # Behavior alternatives\n",
        "                        outboundAttractionDistribution=False,  # Dissuade hubs\n",
        "                        edgeWeightInfluence=0,\n",
        "\n",
        "                        # Performance\n",
        "                        jitterTolerance=0.9,  # Tolerance\n",
        "                        barnesHutOptimize=True,\n",
        "                        barnesHutTheta=1.2,\n",
        "\n",
        "                        # Tuning\n",
        "                        scalingRatio=0.1,\n",
        "                        strongGravityMode=True,\n",
        "                        gravity=0.6,\n",
        "\n",
        "                        # Log\n",
        "                        verbose=True)\n",
        "positions = forceatlas2.forceatlas2_networkx_layout(artists_graph, pos=None, iterations=2000)\n",
        "        \n",
        "plt.figure(figsize=(12, 10), dpi=80)\n",
        "communities_color = {} # keep a dict with colors for each community\n",
        "nodelist_dc = []\n",
        "\n",
        "for community in  Counter(communities.values()):\n",
        "    communities_color[community] = np.array([random.uniform(0, 1), random.uniform(0, 1), random.uniform(0, 1)])\n",
        "    nodelist = []\n",
        "    \n",
        "    for node in artists_graph:\n",
        "        if node not in communities:\n",
        "            nodelist_dc.append(node)\n",
        "        elif communities[node] == community:\n",
        "            nodelist.append(node)\n",
        "    # display nodes from current artist community      \n",
        "    nx.draw_networkx_nodes(artists_graph,\n",
        "                           pos=positions,\n",
        "                           nodelist=nodelist,\n",
        "                           node_size=list(dict(artists_graph.degree(nodelist)).values()),\n",
        "                           node_color=communities_color[community].reshape(1,-1), label=community)\n",
        "nx.draw_networkx_edges(artists_graph, pos=positions, alpha=0.05)\n",
        "plt.legend()"
      ],
      "metadata": {
        "id": "Xvi-m5s07rtj",
        "colab": {
          "base_uri": "https://localhost:8080/",
          "height": 909
        },
        "outputId": "b90ca560-72b5-4fad-af5f-d3509bb6fd31"
      },
      "execution_count": null,
      "outputs": [
        {
          "output_type": "stream",
          "name": "stderr",
          "text": [
            "100%|██████████| 2000/2000 [02:10<00:00, 15.28it/s]\n"
          ]
        },
        {
          "output_type": "stream",
          "name": "stdout",
          "text": [
            "BarnesHut Approximation  took  33.48  seconds\n",
            "Repulsion forces  took  89.02  seconds\n",
            "Gravitational forces  took  0.13  seconds\n",
            "Attraction forces  took  0.40  seconds\n",
            "AdjustSpeedAndApplyForces step  took  2.47  seconds\n"
          ]
        },
        {
          "output_type": "execute_result",
          "data": {
            "text/plain": [
              "<matplotlib.legend.Legend at 0x7fe1e46eaa10>"
            ]
          },
          "metadata": {},
          "execution_count": 13
        },
        {
          "output_type": "display_data",
          "data": {
            "text/plain": [
              "<Figure size 960x800 with 1 Axes>"
            ],
            "image/png": "[encoded data removed]"
          },
          "metadata": {}
        }
      ]
    },
    {
      "cell_type": "markdown",
      "source": [
        "### Clustering Coefficient\n",
        "Clustering coefficient is a measure of the degree to which nodes in a graph tend to cluster together.\n",
        "\n",
        "Here, we examine the clustering coefficients of the artists in the artist network.\n",
        "\n",
        "We first plot the distribution of the clustering coefficients across all the artists.\n",
        "\n",
        "Then, we take a look at some of the summary statistics for the clustering coefficients."
      ],
      "metadata": {
        "id": "NyxESH_9_8rL"
      }
    },
    {
      "cell_type": "code",
      "source": [
        "# obtain clustering coefficient of all the nodes/artists in the network\n",
        "clustering_coeff = nx.clustering(artists_graph)"
      ],
      "metadata": {
        "id": "vYhvd11yACi3"
      },
      "execution_count": 12,
      "outputs": []
    },
    {
      "cell_type": "code",
      "source": [
        "# plot the distribution of the clustering coefficients across all the artists\n",
        "# first, we have to do binning since clustering coefficients are continuous values\n",
        "bins = [0, 0.2, 0.4, 0.6, 0.8, 1]\n",
        "labels = ['0-0.2', '0.2-0.4', '0.4-0.6', '0.6-0.8', '0.8-1']\n",
        "fig, ax = plt.subplots()\n",
        "\n",
        "pd.cut(list(clustering_coeff.values()), bins=bins, labels=labels, include_lowest=True).value_counts().plot(kind='bar')\n",
        "ax.set_ylabel('Frequency')\n",
        "ax.set_title('Distribution of Clustering Coefficients')\n",
        "\n",
        "plt.show()"
      ],
      "metadata": {
        "colab": {
          "base_uri": "https://localhost:8080/",
          "height": 307
        },
        "id": "1mD2gVn0C8IA",
        "outputId": "f226f958-59cb-4521-ad06-7fc250ee3280"
      },
      "execution_count": 50,
      "outputs": [
        {
          "output_type": "display_data",
          "data": {
            "text/plain": [
              "<Figure size 432x288 with 1 Axes>"
            ],
            "image/png": "[encoded data removed]"
          },
          "metadata": {
            "needs_background": "light"
          }
        }
      ]
    },
    {
      "cell_type": "markdown",
      "source": [
        "We observe that majority of the artists have a clustering coefficient within 0 and 0.2. This is undoubtedly a result of most of the artists having a clustering coefficient of 0. This means that the collaborators of these artists are not linked to each other at all.\n",
        "\n",
        "On the contrary, we can see that there is a sizeable chunk of artists with clustering coefficient ranging from 0.8 - 1. This means that these artists are collaborating with other artists that are also likely collaborating with each other."
      ],
      "metadata": {
        "id": "OeGMimFuEt9p"
      }
    },
    {
      "cell_type": "code",
      "source": [
        "# churn out a pandas dataframe that gives us information on the various summary statistics of clustering coefficients in the network\n",
        "clustering_coeff_values = list(clustering_coeff.values())\n",
        "graph_clustering_coeff_statistics = pd.DataFrame([[np.mean(clustering_coeff_values), np.median(clustering_coeff_values), \n",
        "                                                  stats.mode(clustering_coeff_values)[0][0], max(clustering_coeff_values), min(clustering_coeff_values)]],\n",
        "                                                  columns='Mean Clustering Coefficient,Median Clustering Coefficient,Mode Clustering Coefficient,Maximum Clustering Coefficient,Minimum Clustering Coefficient'.split(','))\n",
        "graph_clustering_coeff_statistics"
      ],
      "metadata": {
        "colab": {
          "base_uri": "https://localhost:8080/",
          "height": 81
        },
        "id": "QMlZAC6TAnZN",
        "outputId": "c1ca6ab9-b367-4a56-efea-1092cf59e0fd"
      },
      "execution_count": 49,
      "outputs": [
        {
          "output_type": "execute_result",
          "data": {
            "text/plain": [
              "   Mean Clustering Coefficient  Median Clustering Coefficient  \\\n",
              "0                     0.170046                            0.0   \n",
              "\n",
              "   Mode Clustering Coefficient  Maximum Clustering Coefficient  \\\n",
              "0                          0.0                             1.0   \n",
              "\n",
              "   Minimum Clustering Coefficient  \n",
              "0                               0  "
            ],
            "text/html": [
              "\n",
              "  <div id=\"df-76e44702-5b54-4daf-846e-b60b1d79377b\">\n",
              "    <div class=\"colab-df-container\">\n",
              "      <div>\n",
              "<style scoped>\n",
              "    .dataframe tbody tr th:only-of-type {\n",
              "        vertical-align: middle;\n",
              "    }\n",
              "\n",
              "    .dataframe tbody tr th {\n",
              "        vertical-align: top;\n",
              "    }\n",
              "\n",
              "    .dataframe thead th {\n",
              "        text-align: right;\n",
              "    }\n",
              "</style>\n",
              "<table border=\"1\" class=\"dataframe\">\n",
              "  <thead>\n",
              "    <tr style=\"text-align: right;\">\n",
              "      <th></th>\n",
              "      <th>Mean Clustering Coefficient</th>\n",
              "      <th>Median Clustering Coefficient</th>\n",
              "      <th>Mode Clustering Coefficient</th>\n",
              "      <th>Maximum Clustering Coefficient</th>\n",
              "      <th>Minimum Clustering Coefficient</th>\n",
              "    </tr>\n",
              "  </thead>\n",
              "  <tbody>\n",
              "    <tr>\n",
              "      <th>0</th>\n",
              "      <td>0.170046</td>\n",
              "      <td>0.0</td>\n",
              "      <td>0.0</td>\n",
              "      <td>1.0</td>\n",
              "      <td>0</td>\n",
              "    </tr>\n",
              "  </tbody>\n",
              "</table>\n",
              "</div>\n",
              "      <button class=\"colab-df-convert\" onclick=\"convertToInteractive('df-76e44702-5b54-4daf-846e-b60b1d79377b')\"\n",
              "              title=\"Convert this dataframe to an interactive table.\"\n",
              "              style=\"display:none;\">\n",
              "        \n",
              "  <svg xmlns=\"http://www.w3.org/2000/svg\" height=\"24px\"viewBox=\"0 0 24 24\"\n",
              "       width=\"24px\">\n",
              "    <path d=\"M0 0h24v24H0V0z\" fill=\"none\"/>\n",
              "    <path d=\"M18.56 5.44l.94 2.06.94-2.06 2.06-.94-2.06-.94-.94-2.06-.94 2.06-2.06.94zm-11 1L8.5 8.5l.94-2.06 2.06-.94-2.06-.94L8.5 2.5l-.94 2.06-2.06.94zm10 10l.94 2.06.94-2.06 2.06-.94-2.06-.94-.94-2.06-.94 2.06-2.06.94z\"/><path d=\"M17.41 7.96l-1.37-1.37c-.4-.4-.92-.59-1.43-.59-.52 0-1.04.2-1.43.59L10.3 9.45l-7.72 7.72c-.78.78-.78 2.05 0 2.83L4 21.41c.39.39.9.59 1.41.59.51 0 1.02-.2 1.41-.59l7.78-7.78 2.81-2.81c.8-.78.8-2.07 0-2.86zM5.41 20L4 18.59l7.72-7.72 1.47 1.35L5.41 20z\"/>\n",
              "  </svg>\n",
              "      </button>\n",
              "      \n",
              "  <style>\n",
              "    .colab-df-container {\n",
              "      display:flex;\n",
              "      flex-wrap:wrap;\n",
              "      gap: 12px;\n",
              "    }\n",
              "\n",
              "    .colab-df-convert {\n",
              "      background-color: #E8F0FE;\n",
              "      border: none;\n",
              "      border-radius: 50%;\n",
              "      cursor: pointer;\n",
              "      display: none;\n",
              "      fill: #1967D2;\n",
              "      height: 32px;\n",
              "      padding: 0 0 0 0;\n",
              "      width: 32px;\n",
              "    }\n",
              "\n",
              "    .colab-df-convert:hover {\n",
              "      background-color: #E2EBFA;\n",
              "      box-shadow: 0px 1px 2px rgba(60, 64, 67, 0.3), 0px 1px 3px 1px rgba(60, 64, 67, 0.15);\n",
              "      fill: #174EA6;\n",
              "    }\n",
              "\n",
              "    [theme=dark] .colab-df-convert {\n",
              "      background-color: #3B4455;\n",
              "      fill: #D2E3FC;\n",
              "    }\n",
              "\n",
              "    [theme=dark] .colab-df-convert:hover {\n",
              "      background-color: #434B5C;\n",
              "      box-shadow: 0px 1px 3px 1px rgba(0, 0, 0, 0.15);\n",
              "      filter: drop-shadow(0px 1px 2px rgba(0, 0, 0, 0.3));\n",
              "      fill: #FFFFFF;\n",
              "    }\n",
              "  </style>\n",
              "\n",
              "      <script>\n",
              "        const buttonEl =\n",
              "          document.querySelector('#df-76e44702-5b54-4daf-846e-b60b1d79377b button.colab-df-convert');\n",
              "        buttonEl.style.display =\n",
              "          google.colab.kernel.accessAllowed ? 'block' : 'none';\n",
              "\n",
              "        async function convertToInteractive(key) {\n",
              "          const element = document.querySelector('#df-76e44702-5b54-4daf-846e-b60b1d79377b');\n",
              "          const dataTable =\n",
              "            await google.colab.kernel.invokeFunction('convertToInteractive',\n",
              "                                                     [key], {});\n",
              "          if (!dataTable) return;\n",
              "\n",
              "          const docLinkHtml = 'Like what you see? Visit the ' +\n",
              "            '<a target=\"_blank\" href=https://colab.research.google.com/notebooks/data_table.ipynb>data table notebook</a>'\n",
              "            + ' to learn more about interactive tables.';\n",
              "          element.innerHTML = '';\n",
              "          dataTable['output_type'] = 'display_data';\n",
              "          await google.colab.output.renderOutput(dataTable, element);\n",
              "          const docLink = document.createElement('div');\n",
              "          docLink.innerHTML = docLinkHtml;\n",
              "          element.appendChild(docLink);\n",
              "        }\n",
              "      </script>\n",
              "    </div>\n",
              "  </div>\n",
              "  "
            ]
          },
          "metadata": {},
          "execution_count": 49
        }
      ]
    },
    {
      "cell_type": "markdown",
      "source": [
        "From this set of summary statistics, we can see that the average clustering coefficient is only 0.17. \n",
        "\n",
        "This means that on average, artists within the network tend to collaborate with artists that do not collaborate with each other. This finding measures up with the hypothesis that artists tend to be selective about their collaborations, choosing not to collaborate with many artists even if they have had mutual collaborations."
      ],
      "metadata": {
        "id": "gdIWg71WG69i"
      }
    },
    {
      "cell_type": "code",
      "source": [
        "# create a dataframe that stores clustering coefficient of an artist and community they belong to\n",
        "cc_community_df = pd.DataFrame(index=communities.keys(), columns=['Clustering Coefficient', 'Community'])\n",
        "for i in cc_community_df.index:\n",
        "  cc_community_df.loc[i, :] = [clustering_coeff[i], communities[i]]\n",
        "# display first 5 rows of the dataframe\n",
        "cc_community_df.head()"
      ],
      "metadata": {
        "colab": {
          "base_uri": "https://localhost:8080/",
          "height": 206
        },
        "id": "4F0JiLHSJ-5_",
        "outputId": "9b73f7ba-cb4b-4e54-aa75-87242a557648"
      },
      "execution_count": 59,
      "outputs": [
        {
          "output_type": "execute_result",
          "data": {
            "text/plain": [
              "                        Clustering Coefficient Community\n",
              "chingy                                    0.25         0\n",
              "torae                                        0         1\n",
              "brian tyler                                  0         2\n",
              "the gil evans orchestra                      0         3\n",
              "bounty killer                         0.178571         4"
            ],
            "text/html": [
              "\n",
              "  <div id=\"df-17ede334-63f6-4271-a3f7-e9d7f058d9de\">\n",
              "    <div class=\"colab-df-container\">\n",
              "      <div>\n",
              "<style scoped>\n",
              "    .dataframe tbody tr th:only-of-type {\n",
              "        vertical-align: middle;\n",
              "    }\n",
              "\n",
              "    .dataframe tbody tr th {\n",
              "        vertical-align: top;\n",
              "    }\n",
              "\n",
              "    .dataframe thead th {\n",
              "        text-align: right;\n",
              "    }\n",
              "</style>\n",
              "<table border=\"1\" class=\"dataframe\">\n",
              "  <thead>\n",
              "    <tr style=\"text-align: right;\">\n",
              "      <th></th>\n",
              "      <th>Clustering Coefficient</th>\n",
              "      <th>Community</th>\n",
              "    </tr>\n",
              "  </thead>\n",
              "  <tbody>\n",
              "    <tr>\n",
              "      <th>chingy</th>\n",
              "      <td>0.25</td>\n",
              "      <td>0</td>\n",
              "    </tr>\n",
              "    <tr>\n",
              "      <th>torae</th>\n",
              "      <td>0</td>\n",
              "      <td>1</td>\n",
              "    </tr>\n",
              "    <tr>\n",
              "      <th>brian tyler</th>\n",
              "      <td>0</td>\n",
              "      <td>2</td>\n",
              "    </tr>\n",
              "    <tr>\n",
              "      <th>the gil evans orchestra</th>\n",
              "      <td>0</td>\n",
              "      <td>3</td>\n",
              "    </tr>\n",
              "    <tr>\n",
              "      <th>bounty killer</th>\n",
              "      <td>0.178571</td>\n",
              "      <td>4</td>\n",
              "    </tr>\n",
              "  </tbody>\n",
              "</table>\n",
              "</div>\n",
              "      <button class=\"colab-df-convert\" onclick=\"convertToInteractive('df-17ede334-63f6-4271-a3f7-e9d7f058d9de')\"\n",
              "              title=\"Convert this dataframe to an interactive table.\"\n",
              "              style=\"display:none;\">\n",
              "        \n",
              "  <svg xmlns=\"http://www.w3.org/2000/svg\" height=\"24px\"viewBox=\"0 0 24 24\"\n",
              "       width=\"24px\">\n",
              "    <path d=\"M0 0h24v24H0V0z\" fill=\"none\"/>\n",
              "    <path d=\"M18.56 5.44l.94 2.06.94-2.06 2.06-.94-2.06-.94-.94-2.06-.94 2.06-2.06.94zm-11 1L8.5 8.5l.94-2.06 2.06-.94-2.06-.94L8.5 2.5l-.94 2.06-2.06.94zm10 10l.94 2.06.94-2.06 2.06-.94-2.06-.94-.94-2.06-.94 2.06-2.06.94z\"/><path d=\"M17.41 7.96l-1.37-1.37c-.4-.4-.92-.59-1.43-.59-.52 0-1.04.2-1.43.59L10.3 9.45l-7.72 7.72c-.78.78-.78 2.05 0 2.83L4 21.41c.39.39.9.59 1.41.59.51 0 1.02-.2 1.41-.59l7.78-7.78 2.81-2.81c.8-.78.8-2.07 0-2.86zM5.41 20L4 18.59l7.72-7.72 1.47 1.35L5.41 20z\"/>\n",
              "  </svg>\n",
              "      </button>\n",
              "      \n",
              "  <style>\n",
              "    .colab-df-container {\n",
              "      display:flex;\n",
              "      flex-wrap:wrap;\n",
              "      gap: 12px;\n",
              "    }\n",
              "\n",
              "    .colab-df-convert {\n",
              "      background-color: #E8F0FE;\n",
              "      border: none;\n",
              "      border-radius: 50%;\n",
              "      cursor: pointer;\n",
              "      display: none;\n",
              "      fill: #1967D2;\n",
              "      height: 32px;\n",
              "      padding: 0 0 0 0;\n",
              "      width: 32px;\n",
              "    }\n",
              "\n",
              "    .colab-df-convert:hover {\n",
              "      background-color: #E2EBFA;\n",
              "      box-shadow: 0px 1px 2px rgba(60, 64, 67, 0.3), 0px 1px 3px 1px rgba(60, 64, 67, 0.15);\n",
              "      fill: #174EA6;\n",
              "    }\n",
              "\n",
              "    [theme=dark] .colab-df-convert {\n",
              "      background-color: #3B4455;\n",
              "      fill: #D2E3FC;\n",
              "    }\n",
              "\n",
              "    [theme=dark] .colab-df-convert:hover {\n",
              "      background-color: #434B5C;\n",
              "      box-shadow: 0px 1px 3px 1px rgba(0, 0, 0, 0.15);\n",
              "      filter: drop-shadow(0px 1px 2px rgba(0, 0, 0, 0.3));\n",
              "      fill: #FFFFFF;\n",
              "    }\n",
              "  </style>\n",
              "\n",
              "      <script>\n",
              "        const buttonEl =\n",
              "          document.querySelector('#df-17ede334-63f6-4271-a3f7-e9d7f058d9de button.colab-df-convert');\n",
              "        buttonEl.style.display =\n",
              "          google.colab.kernel.accessAllowed ? 'block' : 'none';\n",
              "\n",
              "        async function convertToInteractive(key) {\n",
              "          const element = document.querySelector('#df-17ede334-63f6-4271-a3f7-e9d7f058d9de');\n",
              "          const dataTable =\n",
              "            await google.colab.kernel.invokeFunction('convertToInteractive',\n",
              "                                                     [key], {});\n",
              "          if (!dataTable) return;\n",
              "\n",
              "          const docLinkHtml = 'Like what you see? Visit the ' +\n",
              "            '<a target=\"_blank\" href=https://colab.research.google.com/notebooks/data_table.ipynb>data table notebook</a>'\n",
              "            + ' to learn more about interactive tables.';\n",
              "          element.innerHTML = '';\n",
              "          dataTable['output_type'] = 'display_data';\n",
              "          await google.colab.output.renderOutput(dataTable, element);\n",
              "          const docLink = document.createElement('div');\n",
              "          docLink.innerHTML = docLinkHtml;\n",
              "          element.appendChild(docLink);\n",
              "        }\n",
              "      </script>\n",
              "    </div>\n",
              "  </div>\n",
              "  "
            ]
          },
          "metadata": {},
          "execution_count": 59
        }
      ]
    },
    {
      "cell_type": "markdown",
      "source": [
        "Now, we look at the distribution of clustering coefficients of the top 5 communities by size. We plot a boxplot for this."
      ],
      "metadata": {
        "id": "3wfky-43LvXg"
      }
    },
    {
      "cell_type": "code",
      "source": [
        "# get the top 5 communities \n",
        "top_5_communities = cc_community_df.groupby('Community').count().sort_values(by='Clustering Coefficient', ascending=False)[:5].index"
      ],
      "metadata": {
        "id": "Xjnrn2oIL6SB"
      },
      "execution_count": 65,
      "outputs": []
    },
    {
      "cell_type": "markdown",
      "source": [
        "### Computing clustering coefficient within communities"
      ],
      "metadata": {
        "id": "5wsV5YNEJJsK"
      }
    },
    {
      "cell_type": "code",
      "source": [],
      "metadata": {
        "id": "JhTAtEzWJ7I7"
      },
      "execution_count": null,
      "outputs": []
    },
    {
      "cell_type": "markdown",
      "source": [
        "### Correlation between clustering coefficient and degree"
      ],
      "metadata": {
        "id": "o5kGv527JOKU"
      }
    },
    {
      "cell_type": "code",
      "source": [
        "# Plot clustering coefficient vs degree distribution\n",
        "\n",
        "fig, ax = plt.subplots(1,2, figsize=(16,6))\n",
        "fig.suptitle(\"Correlation of Clustering Coefficient and Degree Distribution\")\n",
        "ax[0].scatter(degree, clustering_coeff_values, color='royalblue')\n",
        "ax[0].set_xlabel(\"Degree\")\n",
        "ax[0].set_ylabel(\"Clustering Coefficient\")\n",
        "ax[0].set_title(\"Clustering Coefficient vs Degree Distribution\")\n",
        "\n",
        "ax[1].loglog(degree, clustering_coeff_values,'.', color='royalblue')\n",
        "ax[1].set_xlabel('Degree')\n",
        "ax[1].set_ylabel(\"Clustering Coefficient\")\n",
        "ax[1].set_title(\"Clustering Coefficient vs Degree Distribution(Log-Log)\")\n",
        "\n",
        "plt.show()"
      ],
      "metadata": {
        "colab": {
          "base_uri": "https://localhost:8080/",
          "height": 435
        },
        "id": "7SYphOEqTbZO",
        "outputId": "f80a8df8-e719-404a-a289-75d402f45227"
      },
      "execution_count": 75,
      "outputs": [
        {
          "output_type": "display_data",
          "data": {
            "text/plain": [
              "<Figure size 1152x432 with 2 Axes>"
            ],
            "image/png": "[encoded data removed]"
          },
          "metadata": {
            "needs_background": "light"
          }
        }
      ]
    },
    {
      "cell_type": "markdown",
      "source": [
        "### Centrality measures: Betweenness Centrality\n",
        "We opt to use betweenness centrality as it determines the importance of artists based on the number of times they occur within the shortest paths between other nodes."
      ],
      "metadata": {
        "id": "ryxpj7uqJSyH"
      }
    },
    {
      "cell_type": "code",
      "source": [],
      "metadata": {
        "id": "_c5lJIlnTbz8"
      },
      "execution_count": null,
      "outputs": []
    },
    {
      "cell_type": "markdown",
      "source": [
        "We obtain the most central nodes and check whether they align with our expectations."
      ],
      "metadata": {
        "id": "Gxe_f4HyJgq_"
      }
    },
    {
      "cell_type": "code",
      "source": [],
      "metadata": {
        "id": "pqiBsqHVTcYE"
      },
      "execution_count": null,
      "outputs": []
    },
    {
      "cell_type": "markdown",
      "source": [
        "### Word Clouds of Communities\n",
        "We use TF-IDF scores to determine the importance of each artist within the community. TF-IDF scores are only high if the artist appears frequently in one community but sparsely in others. Hence, it is the ideal metric for measuring the importance of an artist in the network."
      ],
      "metadata": {
        "id": "k5gJdJuxJrEP"
      }
    },
    {
      "cell_type": "code",
      "source": [],
      "metadata": {
        "id": "alsCNoLQTc-W"
      },
      "execution_count": null,
      "outputs": []
    },
    {
      "cell_type": "markdown",
      "source": [
        "### Let us now answer some interesting questions related to the network and the dataset we pre-processed earlier.\n",
        "\n",
        "*Q: Do people listen to artists that collaborate with other artists more?*\n",
        "\n",
        "Artists tend to collaborate with other artists. Not only do they get to try their hand at new genres, but they also massively increase their reach towards new audiences.\n",
        "\n",
        "To answer this, we check if the artist's popularity (no. of occurrences in the dataset) and the artist's degree of distribution are correlated."
      ],
      "metadata": {
        "id": "pFijV_jFOSGt"
      }
    },
    {
      "cell_type": "code",
      "source": [
        "# get the popularity of each artist from artist network\n",
        "popularity = Counter(x for xs in spotify_df.artistname for x in set(xs)) # original popularity \n",
        "popularity_dict = {}\n",
        "for artist in set(artists_graph.nodes):\n",
        "  popularity_dict[artist] = popularity[artist]"
      ],
      "metadata": {
        "id": "6ZCj1sSCRGcK"
      },
      "execution_count": null,
      "outputs": []
    },
    {
      "cell_type": "code",
      "source": [
        "# get the degree of each artist in the network\n",
        "degree_dict = dict(artists_graph.degree)"
      ],
      "metadata": {
        "id": "xOaN8CzLkdE0"
      },
      "execution_count": null,
      "outputs": []
    },
    {
      "cell_type": "code",
      "source": [
        "# combine results into a dataframe for clear manipulation\n",
        "popularity_degree_df = pd.DataFrame(index=popularity_dict.keys(), columns=['popularity', 'degree', 'community'])\n",
        "for artist in popularity_dict:\n",
        "  popularity_degree_df.loc[artist, :] = [popularity_dict[artist], degree_dict[artist], communities[artist]]"
      ],
      "metadata": {
        "id": "cRSJhWubkvc2"
      },
      "execution_count": null,
      "outputs": []
    },
    {
      "cell_type": "code",
      "source": [
        "# observe the first 5 rows of the dataframe\n",
        "popularity_degree_df.head()"
      ],
      "metadata": {
        "colab": {
          "base_uri": "https://localhost:8080/",
          "height": 206
        },
        "id": "GdGK6rQAmGJ-",
        "outputId": "020fc8ab-36ee-477a-cd7c-1ee3a756caac"
      },
      "execution_count": null,
      "outputs": [
        {
          "output_type": "execute_result",
          "data": {
            "text/plain": [
              "                    popularity degree community\n",
              "bessie smith               506      2         3\n",
              "falsalarma                 603      4        31\n",
              "rita marley                 79      1         4\n",
              "oscar peterson trio        995      1         3\n",
              "bliss                      806      2        26"
            ],
            "text/html": [
              "\n",
              "  <div id=\"df-45281d28-ad6f-4d34-819a-0601d68fa987\">\n",
              "    <div class=\"colab-df-container\">\n",
              "      <div>\n",
              "<style scoped>\n",
              "    .dataframe tbody tr th:only-of-type {\n",
              "        vertical-align: middle;\n",
              "    }\n",
              "\n",
              "    .dataframe tbody tr th {\n",
              "        vertical-align: top;\n",
              "    }\n",
              "\n",
              "    .dataframe thead th {\n",
              "        text-align: right;\n",
              "    }\n",
              "</style>\n",
              "<table border=\"1\" class=\"dataframe\">\n",
              "  <thead>\n",
              "    <tr style=\"text-align: right;\">\n",
              "      <th></th>\n",
              "      <th>popularity</th>\n",
              "      <th>degree</th>\n",
              "      <th>community</th>\n",
              "    </tr>\n",
              "  </thead>\n",
              "  <tbody>\n",
              "    <tr>\n",
              "      <th>bessie smith</th>\n",
              "      <td>506</td>\n",
              "      <td>2</td>\n",
              "      <td>3</td>\n",
              "    </tr>\n",
              "    <tr>\n",
              "      <th>falsalarma</th>\n",
              "      <td>603</td>\n",
              "      <td>4</td>\n",
              "      <td>31</td>\n",
              "    </tr>\n",
              "    <tr>\n",
              "      <th>rita marley</th>\n",
              "      <td>79</td>\n",
              "      <td>1</td>\n",
              "      <td>4</td>\n",
              "    </tr>\n",
              "    <tr>\n",
              "      <th>oscar peterson trio</th>\n",
              "      <td>995</td>\n",
              "      <td>1</td>\n",
              "      <td>3</td>\n",
              "    </tr>\n",
              "    <tr>\n",
              "      <th>bliss</th>\n",
              "      <td>806</td>\n",
              "      <td>2</td>\n",
              "      <td>26</td>\n",
              "    </tr>\n",
              "  </tbody>\n",
              "</table>\n",
              "</div>\n",
              "      <button class=\"colab-df-convert\" onclick=\"convertToInteractive('df-45281d28-ad6f-4d34-819a-0601d68fa987')\"\n",
              "              title=\"Convert this dataframe to an interactive table.\"\n",
              "              style=\"display:none;\">\n",
              "        \n",
              "  <svg xmlns=\"http://www.w3.org/2000/svg\" height=\"24px\"viewBox=\"0 0 24 24\"\n",
              "       width=\"24px\">\n",
              "    <path d=\"M0 0h24v24H0V0z\" fill=\"none\"/>\n",
              "    <path d=\"M18.56 5.44l.94 2.06.94-2.06 2.06-.94-2.06-.94-.94-2.06-.94 2.06-2.06.94zm-11 1L8.5 8.5l.94-2.06 2.06-.94-2.06-.94L8.5 2.5l-.94 2.06-2.06.94zm10 10l.94 2.06.94-2.06 2.06-.94-2.06-.94-.94-2.06-.94 2.06-2.06.94z\"/><path d=\"M17.41 7.96l-1.37-1.37c-.4-.4-.92-.59-1.43-.59-.52 0-1.04.2-1.43.59L10.3 9.45l-7.72 7.72c-.78.78-.78 2.05 0 2.83L4 21.41c.39.39.9.59 1.41.59.51 0 1.02-.2 1.41-.59l7.78-7.78 2.81-2.81c.8-.78.8-2.07 0-2.86zM5.41 20L4 18.59l7.72-7.72 1.47 1.35L5.41 20z\"/>\n",
              "  </svg>\n",
              "      </button>\n",
              "      \n",
              "  <style>\n",
              "    .colab-df-container {\n",
              "      display:flex;\n",
              "      flex-wrap:wrap;\n",
              "      gap: 12px;\n",
              "    }\n",
              "\n",
              "    .colab-df-convert {\n",
              "      background-color: #E8F0FE;\n",
              "      border: none;\n",
              "      border-radius: 50%;\n",
              "      cursor: pointer;\n",
              "      display: none;\n",
              "      fill: #1967D2;\n",
              "      height: 32px;\n",
              "      padding: 0 0 0 0;\n",
              "      width: 32px;\n",
              "    }\n",
              "\n",
              "    .colab-df-convert:hover {\n",
              "      background-color: #E2EBFA;\n",
              "      box-shadow: 0px 1px 2px rgba(60, 64, 67, 0.3), 0px 1px 3px 1px rgba(60, 64, 67, 0.15);\n",
              "      fill: #174EA6;\n",
              "    }\n",
              "\n",
              "    [theme=dark] .colab-df-convert {\n",
              "      background-color: #3B4455;\n",
              "      fill: #D2E3FC;\n",
              "    }\n",
              "\n",
              "    [theme=dark] .colab-df-convert:hover {\n",
              "      background-color: #434B5C;\n",
              "      box-shadow: 0px 1px 3px 1px rgba(0, 0, 0, 0.15);\n",
              "      filter: drop-shadow(0px 1px 2px rgba(0, 0, 0, 0.3));\n",
              "      fill: #FFFFFF;\n",
              "    }\n",
              "  </style>\n",
              "\n",
              "      <script>\n",
              "        const buttonEl =\n",
              "          document.querySelector('#df-45281d28-ad6f-4d34-819a-0601d68fa987 button.colab-df-convert');\n",
              "        buttonEl.style.display =\n",
              "          google.colab.kernel.accessAllowed ? 'block' : 'none';\n",
              "\n",
              "        async function convertToInteractive(key) {\n",
              "          const element = document.querySelector('#df-45281d28-ad6f-4d34-819a-0601d68fa987');\n",
              "          const dataTable =\n",
              "            await google.colab.kernel.invokeFunction('convertToInteractive',\n",
              "                                                     [key], {});\n",
              "          if (!dataTable) return;\n",
              "\n",
              "          const docLinkHtml = 'Like what you see? Visit the ' +\n",
              "            '<a target=\"_blank\" href=https://colab.research.google.com/notebooks/data_table.ipynb>data table notebook</a>'\n",
              "            + ' to learn more about interactive tables.';\n",
              "          element.innerHTML = '';\n",
              "          dataTable['output_type'] = 'display_data';\n",
              "          await google.colab.output.renderOutput(dataTable, element);\n",
              "          const docLink = document.createElement('div');\n",
              "          docLink.innerHTML = docLinkHtml;\n",
              "          element.appendChild(docLink);\n",
              "        }\n",
              "      </script>\n",
              "    </div>\n",
              "  </div>\n",
              "  "
            ]
          },
          "metadata": {},
          "execution_count": 80
        }
      ]
    },
    {
      "cell_type": "code",
      "source": [
        "# scatterplot between popularity and degree\n",
        "popularity_degree_df.plot(kind='scatter', x='degree', y='popularity', alpha=0.4, c=popularity_degree_df['community'], cmap=plt.get_cmap('jet'), colorbar=True)\n",
        "# add line of best fit to plot\n",
        "gradient, intercept = np.polyfit(np.array(popularity_degree_df['degree'], dtype=float), np.array(popularity_degree_df['popularity'], dtype=float), 1)\n",
        "plt.plot(popularity_degree_df['degree'], gradient * popularity_degree_df['degree'] + intercept, color='red', linestyle='--', linewidth=2)"
      ],
      "metadata": {
        "colab": {
          "base_uri": "https://localhost:8080/",
          "height": 271
        },
        "id": "j2fHkFtTmUlc",
        "outputId": "468a899d-7ad2-4ed6-f4f4-7107978b6785"
      },
      "execution_count": null,
      "outputs": [
        {
          "output_type": "execute_result",
          "data": {
            "text/plain": [
              "[<matplotlib.lines.Line2D at 0x7fe13d751310>]"
            ]
          },
          "metadata": {},
          "execution_count": 83
        },
        {
          "output_type": "display_data",
          "data": {
            "text/plain": [
              "<Figure size 432x288 with 2 Axes>"
            ],
            "image/png": "[encoded data removed]"
          },
          "metadata": {
            "needs_background": "light"
          }
        }
      ]
    },
    {
      "cell_type": "markdown",
      "source": [
        "We can clearly see that there is a positive correlation between the artist's degree in the network and their popularity. We cannot definitively determine whether one causes another, but one possible conclusion is that an artist that collaborates with other artists more (and has a higher degree) will have a higher popularity amongst fans as their songs would reach out to wider audiences."
      ],
      "metadata": {
        "id": "0YSpj4Txw6yU"
      }
    }
  ]
}