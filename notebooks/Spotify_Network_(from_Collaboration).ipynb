{
  "nbformat": 4,
  "nbformat_minor": 0,
  "metadata": {
    "colab": {
      "provenance": []
    },
    "kernelspec": {
      "name": "python3",
      "display_name": "Python 3"
    },
    "language_info": {
      "name": "python"
    }
  },
  "cells": [
    {
      "cell_type": "code",
      "source": [
        "pip install spotipy"
      ],
      "metadata": {
        "colab": {
          "base_uri": "https://localhost:8080/"
        },
        "id": "Oo9AaGvVbFaA",
        "outputId": "65c880b4-7a5a-41f1-f109-0faac44f9f22"
      },
      "execution_count": 2,
      "outputs": [
        {
          "output_type": "stream",
          "name": "stdout",
          "text": [
            "Looking in indexes: https://pypi.org/simple, https://us-python.pkg.dev/colab-wheels/public/simple/\n",
            "Requirement already satisfied: spotipy in /usr/local/lib/python3.7/dist-packages (2.21.0)\n",
            "Requirement already satisfied: six>=1.15.0 in /usr/local/lib/python3.7/dist-packages (from spotipy) (1.15.0)\n",
            "Requirement already satisfied: requests>=2.25.0 in /usr/local/lib/python3.7/dist-packages (from spotipy) (2.28.1)\n",
            "Requirement already satisfied: urllib3>=1.26.0 in /usr/local/lib/python3.7/dist-packages (from spotipy) (1.26.12)\n",
            "Requirement already satisfied: redis>=3.5.3 in /usr/local/lib/python3.7/dist-packages (from spotipy) (4.3.4)\n",
            "Requirement already satisfied: packaging>=20.4 in /usr/local/lib/python3.7/dist-packages (from redis>=3.5.3->spotipy) (21.3)\n",
            "Requirement already satisfied: async-timeout>=4.0.2 in /usr/local/lib/python3.7/dist-packages (from redis>=3.5.3->spotipy) (4.0.2)\n",
            "Requirement already satisfied: importlib-metadata>=1.0 in /usr/local/lib/python3.7/dist-packages (from redis>=3.5.3->spotipy) (4.13.0)\n",
            "Requirement already satisfied: typing-extensions in /usr/local/lib/python3.7/dist-packages (from redis>=3.5.3->spotipy) (4.1.1)\n",
            "Requirement already satisfied: deprecated>=1.2.3 in /usr/local/lib/python3.7/dist-packages (from redis>=3.5.3->spotipy) (1.2.13)\n",
            "Requirement already satisfied: wrapt<2,>=1.10 in /usr/local/lib/python3.7/dist-packages (from deprecated>=1.2.3->redis>=3.5.3->spotipy) (1.14.1)\n",
            "Requirement already satisfied: zipp>=0.5 in /usr/local/lib/python3.7/dist-packages (from importlib-metadata>=1.0->redis>=3.5.3->spotipy) (3.10.0)\n",
            "Requirement already satisfied: pyparsing!=3.0.5,>=2.0.2 in /usr/local/lib/python3.7/dist-packages (from packaging>=20.4->redis>=3.5.3->spotipy) (3.0.9)\n",
            "Requirement already satisfied: charset-normalizer<3,>=2 in /usr/local/lib/python3.7/dist-packages (from requests>=2.25.0->spotipy) (2.1.1)\n",
            "Requirement already satisfied: certifi>=2017.4.17 in /usr/local/lib/python3.7/dist-packages (from requests>=2.25.0->spotipy) (2022.9.24)\n",
            "Requirement already satisfied: idna<4,>=2.5 in /usr/local/lib/python3.7/dist-packages (from requests>=2.25.0->spotipy) (2.10)\n"
          ]
        }
      ]
    },
    {
      "cell_type": "code",
      "source": [
        "df = pd.DataFrame({\"name\": ['Alfred', 'Batman', 'Catwoman'],\n",
        "                   \"toy\": [np.nan, 'Batmobile', 'Bullwhip'],\n",
        "                   \"born\": [pd.NaT, pd.Timestamp(\"1940-04-25\"),\n",
        "                            pd.NaT]})"
      ],
      "metadata": {
        "id": "gWtD0OMd2dc1"
      },
      "execution_count": 33,
      "outputs": []
    },
    {
      "cell_type": "code",
      "execution_count": 3,
      "metadata": {
        "id": "lsxW-sxQadbC"
      },
      "outputs": [],
      "source": [
        "# general imports\n",
        "import math\n",
        "import re\n",
        "import csv\n",
        "import os\n",
        "import json\n",
        "import pickle\n",
        "import random\n",
        "from collections import Counter\n",
        "import numpy as np\n",
        "import pandas as pd\n",
        "import matplotlib.pyplot as plt\n",
        "\n",
        "# spotify api imports\n",
        "import spotipy\n",
        "from spotipy.oauth2 import SpotifyClientCredentials\n",
        "\n",
        "# network building imports\n",
        "import networkx as nx\n",
        "from community import community_louvain\n",
        "import fa2"
      ]
    },
    {
      "cell_type": "markdown",
      "source": [
        "We are using a subset of the #nowplaying dataset. The #nowplaying dataset includes tracks which have been tweeted using the hashtags #nowplaying, #listento or #listeningto.\n",
        "\n",
        "The dataset which we are going to use holds users, their playlists and the tracks contained in these playlists. Our interest is just in the tracks; what a particular user is listening to. Therefore, the playlistname column will be removed."
      ],
      "metadata": {
        "id": "4Kj3NBwpa2kt"
      }
    },
    {
      "cell_type": "code",
      "source": [
        "# mount google drive\n",
        "from google.colab import drive\n",
        "drive.mount('/content/drive')"
      ],
      "metadata": {
        "colab": {
          "base_uri": "https://localhost:8080/"
        },
        "id": "Ey6xO27ya8Ja",
        "outputId": "e3ae84e8-059f-4ded-bd00-5b00a49243c9"
      },
      "execution_count": 4,
      "outputs": [
        {
          "output_type": "stream",
          "name": "stdout",
          "text": [
            "Drive already mounted at /content/drive; to attempt to forcibly remount, call drive.mount(\"/content/drive\", force_remount=True).\n"
          ]
        }
      ]
    },
    {
      "cell_type": "code",
      "source": [
        "# load in the dataset\n",
        "path = '/content/drive/MyDrive/University Materials/Business Analytics/Y3S1/02805 Social graphs & interactions/Data/Spotify Network/spotify_dataset.csv'\n",
        "spotify_df = pd.read_csv(path, \n",
        "                         skiprows=1,\n",
        "                         names=['user_id', 'artistname', 'trackname', 'playlistname'],\n",
        "                         on_bad_lines='skip')\n",
        "\n",
        "# drop any null values\n",
        "spotify_df = spotify_df.dropna()\n",
        "print(\"Initial dataset size:\", len(spotify_df))\n",
        "spotify_df.head()"
      ],
      "metadata": {
        "colab": {
          "base_uri": "https://localhost:8080/",
          "height": 223
        },
        "id": "h-NLaCKzbLWf",
        "outputId": "b4738513-c175-4b0b-e82d-8f18749b39ec"
      },
      "execution_count": 20,
      "outputs": [
        {
          "output_type": "stream",
          "name": "stdout",
          "text": [
            "Initial dataset size: 12867130\n"
          ]
        },
        {
          "output_type": "execute_result",
          "data": {
            "text/plain": [
              "                            user_id                        artistname  \\\n",
              "0  9cc0cfd4d7d7885102480dd99e7a90d6                    Elvis Costello   \n",
              "1  9cc0cfd4d7d7885102480dd99e7a90d6  Elvis Costello & The Attractions   \n",
              "2  9cc0cfd4d7d7885102480dd99e7a90d6                      Tiffany Page   \n",
              "3  9cc0cfd4d7d7885102480dd99e7a90d6  Elvis Costello & The Attractions   \n",
              "4  9cc0cfd4d7d7885102480dd99e7a90d6                    Elvis Costello   \n",
              "\n",
              "                                           trackname    playlistname  \n",
              "0               (The Angels Wanna Wear My) Red Shoes  HARD ROCK 2010  \n",
              "1  (What's So Funny 'Bout) Peace, Love And Unders...  HARD ROCK 2010  \n",
              "2                                   7 Years Too Late  HARD ROCK 2010  \n",
              "3                              Accidents Will Happen  HARD ROCK 2010  \n",
              "4                                             Alison  HARD ROCK 2010  "
            ],
            "text/html": [
              "\n",
              "  <div id=\"df-bb4649ae-9680-4a98-9739-6e6a1482f6b5\">\n",
              "    <div class=\"colab-df-container\">\n",
              "      <div>\n",
              "<style scoped>\n",
              "    .dataframe tbody tr th:only-of-type {\n",
              "        vertical-align: middle;\n",
              "    }\n",
              "\n",
              "    .dataframe tbody tr th {\n",
              "        vertical-align: top;\n",
              "    }\n",
              "\n",
              "    .dataframe thead th {\n",
              "        text-align: right;\n",
              "    }\n",
              "</style>\n",
              "<table border=\"1\" class=\"dataframe\">\n",
              "  <thead>\n",
              "    <tr style=\"text-align: right;\">\n",
              "      <th></th>\n",
              "      <th>user_id</th>\n",
              "      <th>artistname</th>\n",
              "      <th>trackname</th>\n",
              "      <th>playlistname</th>\n",
              "    </tr>\n",
              "  </thead>\n",
              "  <tbody>\n",
              "    <tr>\n",
              "      <th>0</th>\n",
              "      <td>9cc0cfd4d7d7885102480dd99e7a90d6</td>\n",
              "      <td>Elvis Costello</td>\n",
              "      <td>(The Angels Wanna Wear My) Red Shoes</td>\n",
              "      <td>HARD ROCK 2010</td>\n",
              "    </tr>\n",
              "    <tr>\n",
              "      <th>1</th>\n",
              "      <td>9cc0cfd4d7d7885102480dd99e7a90d6</td>\n",
              "      <td>Elvis Costello &amp; The Attractions</td>\n",
              "      <td>(What's So Funny 'Bout) Peace, Love And Unders...</td>\n",
              "      <td>HARD ROCK 2010</td>\n",
              "    </tr>\n",
              "    <tr>\n",
              "      <th>2</th>\n",
              "      <td>9cc0cfd4d7d7885102480dd99e7a90d6</td>\n",
              "      <td>Tiffany Page</td>\n",
              "      <td>7 Years Too Late</td>\n",
              "      <td>HARD ROCK 2010</td>\n",
              "    </tr>\n",
              "    <tr>\n",
              "      <th>3</th>\n",
              "      <td>9cc0cfd4d7d7885102480dd99e7a90d6</td>\n",
              "      <td>Elvis Costello &amp; The Attractions</td>\n",
              "      <td>Accidents Will Happen</td>\n",
              "      <td>HARD ROCK 2010</td>\n",
              "    </tr>\n",
              "    <tr>\n",
              "      <th>4</th>\n",
              "      <td>9cc0cfd4d7d7885102480dd99e7a90d6</td>\n",
              "      <td>Elvis Costello</td>\n",
              "      <td>Alison</td>\n",
              "      <td>HARD ROCK 2010</td>\n",
              "    </tr>\n",
              "  </tbody>\n",
              "</table>\n",
              "</div>\n",
              "      <button class=\"colab-df-convert\" onclick=\"convertToInteractive('df-bb4649ae-9680-4a98-9739-6e6a1482f6b5')\"\n",
              "              title=\"Convert this dataframe to an interactive table.\"\n",
              "              style=\"display:none;\">\n",
              "        \n",
              "  <svg xmlns=\"http://www.w3.org/2000/svg\" height=\"24px\"viewBox=\"0 0 24 24\"\n",
              "       width=\"24px\">\n",
              "    <path d=\"M0 0h24v24H0V0z\" fill=\"none\"/>\n",
              "    <path d=\"M18.56 5.44l.94 2.06.94-2.06 2.06-.94-2.06-.94-.94-2.06-.94 2.06-2.06.94zm-11 1L8.5 8.5l.94-2.06 2.06-.94-2.06-.94L8.5 2.5l-.94 2.06-2.06.94zm10 10l.94 2.06.94-2.06 2.06-.94-2.06-.94-.94-2.06-.94 2.06-2.06.94z\"/><path d=\"M17.41 7.96l-1.37-1.37c-.4-.4-.92-.59-1.43-.59-.52 0-1.04.2-1.43.59L10.3 9.45l-7.72 7.72c-.78.78-.78 2.05 0 2.83L4 21.41c.39.39.9.59 1.41.59.51 0 1.02-.2 1.41-.59l7.78-7.78 2.81-2.81c.8-.78.8-2.07 0-2.86zM5.41 20L4 18.59l7.72-7.72 1.47 1.35L5.41 20z\"/>\n",
              "  </svg>\n",
              "      </button>\n",
              "      \n",
              "  <style>\n",
              "    .colab-df-container {\n",
              "      display:flex;\n",
              "      flex-wrap:wrap;\n",
              "      gap: 12px;\n",
              "    }\n",
              "\n",
              "    .colab-df-convert {\n",
              "      background-color: #E8F0FE;\n",
              "      border: none;\n",
              "      border-radius: 50%;\n",
              "      cursor: pointer;\n",
              "      display: none;\n",
              "      fill: #1967D2;\n",
              "      height: 32px;\n",
              "      padding: 0 0 0 0;\n",
              "      width: 32px;\n",
              "    }\n",
              "\n",
              "    .colab-df-convert:hover {\n",
              "      background-color: #E2EBFA;\n",
              "      box-shadow: 0px 1px 2px rgba(60, 64, 67, 0.3), 0px 1px 3px 1px rgba(60, 64, 67, 0.15);\n",
              "      fill: #174EA6;\n",
              "    }\n",
              "\n",
              "    [theme=dark] .colab-df-convert {\n",
              "      background-color: #3B4455;\n",
              "      fill: #D2E3FC;\n",
              "    }\n",
              "\n",
              "    [theme=dark] .colab-df-convert:hover {\n",
              "      background-color: #434B5C;\n",
              "      box-shadow: 0px 1px 3px 1px rgba(0, 0, 0, 0.15);\n",
              "      filter: drop-shadow(0px 1px 2px rgba(0, 0, 0, 0.3));\n",
              "      fill: #FFFFFF;\n",
              "    }\n",
              "  </style>\n",
              "\n",
              "      <script>\n",
              "        const buttonEl =\n",
              "          document.querySelector('#df-bb4649ae-9680-4a98-9739-6e6a1482f6b5 button.colab-df-convert');\n",
              "        buttonEl.style.display =\n",
              "          google.colab.kernel.accessAllowed ? 'block' : 'none';\n",
              "\n",
              "        async function convertToInteractive(key) {\n",
              "          const element = document.querySelector('#df-bb4649ae-9680-4a98-9739-6e6a1482f6b5');\n",
              "          const dataTable =\n",
              "            await google.colab.kernel.invokeFunction('convertToInteractive',\n",
              "                                                     [key], {});\n",
              "          if (!dataTable) return;\n",
              "\n",
              "          const docLinkHtml = 'Like what you see? Visit the ' +\n",
              "            '<a target=\"_blank\" href=https://colab.research.google.com/notebooks/data_table.ipynb>data table notebook</a>'\n",
              "            + ' to learn more about interactive tables.';\n",
              "          element.innerHTML = '';\n",
              "          dataTable['output_type'] = 'display_data';\n",
              "          await google.colab.output.renderOutput(dataTable, element);\n",
              "          const docLink = document.createElement('div');\n",
              "          docLink.innerHTML = docLinkHtml;\n",
              "          element.appendChild(docLink);\n",
              "        }\n",
              "      </script>\n",
              "    </div>\n",
              "  </div>\n",
              "  "
            ]
          },
          "metadata": {},
          "execution_count": 20
        }
      ]
    },
    {
      "cell_type": "markdown",
      "source": [
        "The `artistname` column contains the artist’s name extracted from the tweets with minimal pre-processing. Therefore, we should validate the column by checking if the values correspond to a single or multiple artists since a song can be performed by a single artist, multiple artists, or groups. \n",
        "\n",
        "We start with computing a set with all values of the `artistname`."
      ],
      "metadata": {
        "id": "A28nN0ZGbtfg"
      }
    },
    {
      "cell_type": "code",
      "source": [
        "# generate initial artists set\n",
        "artists_set = set(map(lambda artist: str(artist).lower(), spotify_df.artistname))\n",
        "len(artists_set)"
      ],
      "metadata": {
        "colab": {
          "base_uri": "https://localhost:8080/"
        },
        "id": "7CfbwxdZbs1n",
        "outputId": "9026bbab-242d-4632-a2b9-965f790c0cf5"
      },
      "execution_count": 21,
      "outputs": [
        {
          "output_type": "execute_result",
          "data": {
            "text/plain": [
              "282520"
            ]
          },
          "metadata": {},
          "execution_count": 21
        }
      ]
    },
    {
      "cell_type": "markdown",
      "source": [
        "The dataset contains 282520 unique values for the `artistname`. Now, we want to check how many of these values correspond to a single artist or collaborations.\n",
        "\n",
        "One problem with the dataset is how the names of artists who collaborated on the same song are delimited. Since there is no standard delimitation, we split the `artistname` using multiple delimiters: \"&\", \",\",  \"/\", \"and\", \"feat.\", \"ft.\", \"featuring\", \"with\" and check if it is a true collaboration and not the name of an artistic group. This isn't perfect, but we try to separate out as many artists as possible.\n",
        "\n",
        "In short, if there was a collaboration, we split the artist names into individual elements of a list. If it wasn't a collaboration, we simply return the original artist."
      ],
      "metadata": {
        "id": "VCCEcQluc_A1"
      }
    },
    {
      "cell_type": "code",
      "source": [
        "def get_true_artists():\n",
        "  i = 0\n",
        "  for idx, entry in spotify_df.iterrows():\n",
        "    # check the progress of the function\n",
        "    if i % 100000 == 0:\n",
        "        print(i, \"/\", len(spotify_df))\n",
        "    i += 1\n",
        "\n",
        "    names = re.split('( and | & |, | \\/ | feat. | feat | ft. | f. | featuring | with | - |; )', str(entry.artistname).lower())\n",
        "    # check if it is a collaboration:\n",
        "    if (set(names) & (artists_set)):\n",
        "        # update the entry\n",
        "        entry.artistname = list((set(names) & (artists_set)))\n",
        "    else:\n",
        "        entry.artistname = [str(entry.artistname).lower()]"
      ],
      "metadata": {
        "id": "9VqAGhFCc-YI"
      },
      "execution_count": 22,
      "outputs": []
    },
    {
      "cell_type": "code",
      "source": [
        "get_true_artists()"
      ],
      "metadata": {
        "colab": {
          "base_uri": "https://localhost:8080/"
        },
        "id": "1TjBRxrgd6Iu",
        "outputId": "3247ab90-5437-42b9-bbd7-3bb8e92b29ae"
      },
      "execution_count": 23,
      "outputs": [
        {
          "output_type": "stream",
          "name": "stdout",
          "text": [
            "0 / 12867130\n",
            "100000 / 12867130\n",
            "200000 / 12867130\n",
            "300000 / 12867130\n",
            "400000 / 12867130\n",
            "500000 / 12867130\n",
            "600000 / 12867130\n",
            "700000 / 12867130\n",
            "800000 / 12867130\n",
            "900000 / 12867130\n",
            "1000000 / 12867130\n",
            "1100000 / 12867130\n",
            "1200000 / 12867130\n",
            "1300000 / 12867130\n",
            "1400000 / 12867130\n",
            "1500000 / 12867130\n",
            "1600000 / 12867130\n",
            "1700000 / 12867130\n",
            "1800000 / 12867130\n",
            "1900000 / 12867130\n",
            "2000000 / 12867130\n",
            "2100000 / 12867130\n",
            "2200000 / 12867130\n",
            "2300000 / 12867130\n",
            "2400000 / 12867130\n",
            "2500000 / 12867130\n",
            "2600000 / 12867130\n",
            "2700000 / 12867130\n",
            "2800000 / 12867130\n",
            "2900000 / 12867130\n",
            "3000000 / 12867130\n",
            "3100000 / 12867130\n",
            "3200000 / 12867130\n",
            "3300000 / 12867130\n",
            "3400000 / 12867130\n",
            "3500000 / 12867130\n",
            "3600000 / 12867130\n",
            "3700000 / 12867130\n",
            "3800000 / 12867130\n",
            "3900000 / 12867130\n",
            "4000000 / 12867130\n",
            "4100000 / 12867130\n",
            "4200000 / 12867130\n",
            "4300000 / 12867130\n",
            "4400000 / 12867130\n",
            "4500000 / 12867130\n",
            "4600000 / 12867130\n",
            "4700000 / 12867130\n",
            "4800000 / 12867130\n",
            "4900000 / 12867130\n",
            "5000000 / 12867130\n",
            "5100000 / 12867130\n",
            "5200000 / 12867130\n",
            "5300000 / 12867130\n",
            "5400000 / 12867130\n",
            "5500000 / 12867130\n",
            "5600000 / 12867130\n",
            "5700000 / 12867130\n",
            "5800000 / 12867130\n",
            "5900000 / 12867130\n",
            "6000000 / 12867130\n",
            "6100000 / 12867130\n",
            "6200000 / 12867130\n",
            "6300000 / 12867130\n",
            "6400000 / 12867130\n",
            "6500000 / 12867130\n",
            "6600000 / 12867130\n",
            "6700000 / 12867130\n",
            "6800000 / 12867130\n",
            "6900000 / 12867130\n",
            "7000000 / 12867130\n",
            "7100000 / 12867130\n",
            "7200000 / 12867130\n",
            "7300000 / 12867130\n",
            "7400000 / 12867130\n",
            "7500000 / 12867130\n",
            "7600000 / 12867130\n",
            "7700000 / 12867130\n",
            "7800000 / 12867130\n",
            "7900000 / 12867130\n",
            "8000000 / 12867130\n",
            "8100000 / 12867130\n",
            "8200000 / 12867130\n",
            "8300000 / 12867130\n",
            "8400000 / 12867130\n",
            "8500000 / 12867130\n",
            "8600000 / 12867130\n",
            "8700000 / 12867130\n",
            "8800000 / 12867130\n",
            "8900000 / 12867130\n",
            "9000000 / 12867130\n",
            "9100000 / 12867130\n",
            "9200000 / 12867130\n",
            "9300000 / 12867130\n",
            "9400000 / 12867130\n",
            "9500000 / 12867130\n",
            "9600000 / 12867130\n",
            "9700000 / 12867130\n",
            "9800000 / 12867130\n",
            "9900000 / 12867130\n",
            "10000000 / 12867130\n",
            "10100000 / 12867130\n",
            "10200000 / 12867130\n",
            "10300000 / 12867130\n",
            "10400000 / 12867130\n",
            "10500000 / 12867130\n",
            "10600000 / 12867130\n",
            "10700000 / 12867130\n",
            "10800000 / 12867130\n",
            "10900000 / 12867130\n",
            "11000000 / 12867130\n",
            "11100000 / 12867130\n",
            "11200000 / 12867130\n",
            "11300000 / 12867130\n",
            "11400000 / 12867130\n",
            "11500000 / 12867130\n",
            "11600000 / 12867130\n",
            "11700000 / 12867130\n",
            "11800000 / 12867130\n",
            "11900000 / 12867130\n",
            "12000000 / 12867130\n",
            "12100000 / 12867130\n",
            "12200000 / 12867130\n",
            "12300000 / 12867130\n",
            "12400000 / 12867130\n",
            "12500000 / 12867130\n",
            "12600000 / 12867130\n",
            "12700000 / 12867130\n",
            "12800000 / 12867130\n"
          ]
        }
      ]
    },
    {
      "cell_type": "markdown",
      "source": [
        "Pickle this new dataframe"
      ],
      "metadata": {
        "id": "jhXw1Vjmq5J4"
      }
    },
    {
      "cell_type": "code",
      "source": [
        "spotify_df.to_pickle(r'/content/drive/MyDrive/University Materials/Business Analytics/Y3S1/02805 Social graphs & interactions/Data/Spotify Network/spotify_dataset.pickle') "
      ],
      "metadata": {
        "id": "2FQG_-EYq8Hs"
      },
      "execution_count": 28,
      "outputs": []
    },
    {
      "cell_type": "markdown",
      "source": [
        "Examine the new dataframe"
      ],
      "metadata": {
        "id": "E0Z5nOqweMFI"
      }
    },
    {
      "cell_type": "code",
      "source": [
        "spotify_df = pd.read_pickle('/content/drive/MyDrive/University Materials/Business Analytics/Y3S1/02805 Social graphs & interactions/Data/Spotify Network/spotify_dataset.pickle') "
      ],
      "metadata": {
        "id": "VhfnDVu7wNJn"
      },
      "execution_count": 7,
      "outputs": []
    },
    {
      "cell_type": "code",
      "source": [
        "spotify_df.head()"
      ],
      "metadata": {
        "colab": {
          "base_uri": "https://localhost:8080/",
          "height": 206
        },
        "id": "ZdZNs9mceJRd",
        "outputId": "03d773cc-b056-4043-af7b-4d2e96689df7"
      },
      "execution_count": 8,
      "outputs": [
        {
          "output_type": "execute_result",
          "data": {
            "text/plain": [
              "                            user_id        artistname  \\\n",
              "0  9cc0cfd4d7d7885102480dd99e7a90d6  [elvis costello]   \n",
              "1  9cc0cfd4d7d7885102480dd99e7a90d6  [elvis costello]   \n",
              "2  9cc0cfd4d7d7885102480dd99e7a90d6    [tiffany page]   \n",
              "3  9cc0cfd4d7d7885102480dd99e7a90d6  [elvis costello]   \n",
              "4  9cc0cfd4d7d7885102480dd99e7a90d6  [elvis costello]   \n",
              "\n",
              "                                           trackname    playlistname  \n",
              "0               (The Angels Wanna Wear My) Red Shoes  HARD ROCK 2010  \n",
              "1  (What's So Funny 'Bout) Peace, Love And Unders...  HARD ROCK 2010  \n",
              "2                                   7 Years Too Late  HARD ROCK 2010  \n",
              "3                              Accidents Will Happen  HARD ROCK 2010  \n",
              "4                                             Alison  HARD ROCK 2010  "
            ],
            "text/html": [
              "\n",
              "  <div id=\"df-6b4c29ac-4b94-4095-a21f-8cd8d15c2f4e\">\n",
              "    <div class=\"colab-df-container\">\n",
              "      <div>\n",
              "<style scoped>\n",
              "    .dataframe tbody tr th:only-of-type {\n",
              "        vertical-align: middle;\n",
              "    }\n",
              "\n",
              "    .dataframe tbody tr th {\n",
              "        vertical-align: top;\n",
              "    }\n",
              "\n",
              "    .dataframe thead th {\n",
              "        text-align: right;\n",
              "    }\n",
              "</style>\n",
              "<table border=\"1\" class=\"dataframe\">\n",
              "  <thead>\n",
              "    <tr style=\"text-align: right;\">\n",
              "      <th></th>\n",
              "      <th>user_id</th>\n",
              "      <th>artistname</th>\n",
              "      <th>trackname</th>\n",
              "      <th>playlistname</th>\n",
              "    </tr>\n",
              "  </thead>\n",
              "  <tbody>\n",
              "    <tr>\n",
              "      <th>0</th>\n",
              "      <td>9cc0cfd4d7d7885102480dd99e7a90d6</td>\n",
              "      <td>[elvis costello]</td>\n",
              "      <td>(The Angels Wanna Wear My) Red Shoes</td>\n",
              "      <td>HARD ROCK 2010</td>\n",
              "    </tr>\n",
              "    <tr>\n",
              "      <th>1</th>\n",
              "      <td>9cc0cfd4d7d7885102480dd99e7a90d6</td>\n",
              "      <td>[elvis costello]</td>\n",
              "      <td>(What's So Funny 'Bout) Peace, Love And Unders...</td>\n",
              "      <td>HARD ROCK 2010</td>\n",
              "    </tr>\n",
              "    <tr>\n",
              "      <th>2</th>\n",
              "      <td>9cc0cfd4d7d7885102480dd99e7a90d6</td>\n",
              "      <td>[tiffany page]</td>\n",
              "      <td>7 Years Too Late</td>\n",
              "      <td>HARD ROCK 2010</td>\n",
              "    </tr>\n",
              "    <tr>\n",
              "      <th>3</th>\n",
              "      <td>9cc0cfd4d7d7885102480dd99e7a90d6</td>\n",
              "      <td>[elvis costello]</td>\n",
              "      <td>Accidents Will Happen</td>\n",
              "      <td>HARD ROCK 2010</td>\n",
              "    </tr>\n",
              "    <tr>\n",
              "      <th>4</th>\n",
              "      <td>9cc0cfd4d7d7885102480dd99e7a90d6</td>\n",
              "      <td>[elvis costello]</td>\n",
              "      <td>Alison</td>\n",
              "      <td>HARD ROCK 2010</td>\n",
              "    </tr>\n",
              "  </tbody>\n",
              "</table>\n",
              "</div>\n",
              "      <button class=\"colab-df-convert\" onclick=\"convertToInteractive('df-6b4c29ac-4b94-4095-a21f-8cd8d15c2f4e')\"\n",
              "              title=\"Convert this dataframe to an interactive table.\"\n",
              "              style=\"display:none;\">\n",
              "        \n",
              "  <svg xmlns=\"http://www.w3.org/2000/svg\" height=\"24px\"viewBox=\"0 0 24 24\"\n",
              "       width=\"24px\">\n",
              "    <path d=\"M0 0h24v24H0V0z\" fill=\"none\"/>\n",
              "    <path d=\"M18.56 5.44l.94 2.06.94-2.06 2.06-.94-2.06-.94-.94-2.06-.94 2.06-2.06.94zm-11 1L8.5 8.5l.94-2.06 2.06-.94-2.06-.94L8.5 2.5l-.94 2.06-2.06.94zm10 10l.94 2.06.94-2.06 2.06-.94-2.06-.94-.94-2.06-.94 2.06-2.06.94z\"/><path d=\"M17.41 7.96l-1.37-1.37c-.4-.4-.92-.59-1.43-.59-.52 0-1.04.2-1.43.59L10.3 9.45l-7.72 7.72c-.78.78-.78 2.05 0 2.83L4 21.41c.39.39.9.59 1.41.59.51 0 1.02-.2 1.41-.59l7.78-7.78 2.81-2.81c.8-.78.8-2.07 0-2.86zM5.41 20L4 18.59l7.72-7.72 1.47 1.35L5.41 20z\"/>\n",
              "  </svg>\n",
              "      </button>\n",
              "      \n",
              "  <style>\n",
              "    .colab-df-container {\n",
              "      display:flex;\n",
              "      flex-wrap:wrap;\n",
              "      gap: 12px;\n",
              "    }\n",
              "\n",
              "    .colab-df-convert {\n",
              "      background-color: #E8F0FE;\n",
              "      border: none;\n",
              "      border-radius: 50%;\n",
              "      cursor: pointer;\n",
              "      display: none;\n",
              "      fill: #1967D2;\n",
              "      height: 32px;\n",
              "      padding: 0 0 0 0;\n",
              "      width: 32px;\n",
              "    }\n",
              "\n",
              "    .colab-df-convert:hover {\n",
              "      background-color: #E2EBFA;\n",
              "      box-shadow: 0px 1px 2px rgba(60, 64, 67, 0.3), 0px 1px 3px 1px rgba(60, 64, 67, 0.15);\n",
              "      fill: #174EA6;\n",
              "    }\n",
              "\n",
              "    [theme=dark] .colab-df-convert {\n",
              "      background-color: #3B4455;\n",
              "      fill: #D2E3FC;\n",
              "    }\n",
              "\n",
              "    [theme=dark] .colab-df-convert:hover {\n",
              "      background-color: #434B5C;\n",
              "      box-shadow: 0px 1px 3px 1px rgba(0, 0, 0, 0.15);\n",
              "      filter: drop-shadow(0px 1px 2px rgba(0, 0, 0, 0.3));\n",
              "      fill: #FFFFFF;\n",
              "    }\n",
              "  </style>\n",
              "\n",
              "      <script>\n",
              "        const buttonEl =\n",
              "          document.querySelector('#df-6b4c29ac-4b94-4095-a21f-8cd8d15c2f4e button.colab-df-convert');\n",
              "        buttonEl.style.display =\n",
              "          google.colab.kernel.accessAllowed ? 'block' : 'none';\n",
              "\n",
              "        async function convertToInteractive(key) {\n",
              "          const element = document.querySelector('#df-6b4c29ac-4b94-4095-a21f-8cd8d15c2f4e');\n",
              "          const dataTable =\n",
              "            await google.colab.kernel.invokeFunction('convertToInteractive',\n",
              "                                                     [key], {});\n",
              "          if (!dataTable) return;\n",
              "\n",
              "          const docLinkHtml = 'Like what you see? Visit the ' +\n",
              "            '<a target=\"_blank\" href=https://colab.research.google.com/notebooks/data_table.ipynb>data table notebook</a>'\n",
              "            + ' to learn more about interactive tables.';\n",
              "          element.innerHTML = '';\n",
              "          dataTable['output_type'] = 'display_data';\n",
              "          await google.colab.output.renderOutput(dataTable, element);\n",
              "          const docLink = document.createElement('div');\n",
              "          docLink.innerHTML = docLinkHtml;\n",
              "          element.appendChild(docLink);\n",
              "        }\n",
              "      </script>\n",
              "    </div>\n",
              "  </div>\n",
              "  "
            ]
          },
          "metadata": {},
          "execution_count": 8
        }
      ]
    },
    {
      "cell_type": "markdown",
      "source": [
        "Now, we should have lesser artists because we got rid of some artist names that were essentially extensions of an artist.\n",
        "\n",
        "Eg. 'Elvis Costello' and 'Elvis Costello and the Attractions' are both now Elvis Costello."
      ],
      "metadata": {
        "id": "HPFq9N9ueYYZ"
      }
    },
    {
      "cell_type": "code",
      "source": [
        "# update artists set; this is the new set of artists after doing some pre-processing to obtain each unique artist\n",
        "artists_set = set([artist for artists in spotify_df.artistname for artist in artists])\n",
        "len(artists_set)"
      ],
      "metadata": {
        "colab": {
          "base_uri": "https://localhost:8080/"
        },
        "id": "z1iOLE7reX0u",
        "outputId": "7ffc8062-a2cf-44ea-e5c5-36cd08053c61"
      },
      "execution_count": 13,
      "outputs": [
        {
          "output_type": "execute_result",
          "data": {
            "text/plain": [
              "241267"
            ]
          },
          "metadata": {},
          "execution_count": 13
        }
      ]
    },
    {
      "cell_type": "markdown",
      "source": [
        "We want to know the popularity of each artist, based on the user sample. We compute the popularity as frequency of artist appearing over all the rows."
      ],
      "metadata": {
        "id": "jyc_YWj9e2DD"
      }
    },
    {
      "cell_type": "code",
      "source": [
        "# compute number of occurrences\n",
        "popularity = Counter(x for xs in spotify_df.artistname for x in set(xs))\n",
        "popularity.most_common(5)"
      ],
      "metadata": {
        "colab": {
          "base_uri": "https://localhost:8080/"
        },
        "id": "Z5wuDmvme_Af",
        "outputId": "4df4f5a5-222f-4472-81d8-9295608b46df"
      },
      "execution_count": 14,
      "outputs": [
        {
          "output_type": "execute_result",
          "data": {
            "text/plain": [
              "[('daft punk', 36309),\n",
              " ('coldplay', 35626),\n",
              " ('radiohead', 31467),\n",
              " ('the rolling stones', 30826),\n",
              " ('kanye west', 30035)]"
            ]
          },
          "metadata": {},
          "execution_count": 14
        }
      ]
    },
    {
      "cell_type": "markdown",
      "source": [
        "Display popularity distribution"
      ],
      "metadata": {
        "id": "h1uaUXMWfDr3"
      }
    },
    {
      "cell_type": "code",
      "source": [
        "values = list(popularity.values())\n",
        "# return an array with histogram values and the bin edges \n",
        "hist, bin = np.histogram(values, bins=100)\n",
        "\n",
        "plt.figure(figsize=(15, 5))\n",
        "plt.title('Artists popularity distribution')\n",
        "plt.bar(bin[:-1], hist, width=bin[1]-bin[0], ec='k', lw=1)\n",
        "plt.xlabel(\"Popularity\")\n",
        "plt.ylabel(\"Frequency\")\n",
        "\n",
        "plt.show()"
      ],
      "metadata": {
        "colab": {
          "base_uri": "https://localhost:8080/",
          "height": 350
        },
        "id": "nE-M1oGRfC9-",
        "outputId": "eb206e2f-e604-442d-9d8c-263b30103bb9"
      },
      "execution_count": 15,
      "outputs": [
        {
          "output_type": "display_data",
          "data": {
            "text/plain": [
              "<Figure size 1080x360 with 1 Axes>"
            ],
            "image/png": "[encoded data removed]"
          },
          "metadata": {
            "needs_background": "light"
          }
        }
      ]
    },
    {
      "cell_type": "markdown",
      "source": [
        "We notice that the distribution is tail-heavy, ie. there are a lot of artists that don't appear very frequently in the dataset. To counteract this skewness, we have opted to remove artists that appear in the dataset 50 times or less."
      ],
      "metadata": {
        "id": "ojtKcQpXfKLW"
      }
    },
    {
      "cell_type": "code",
      "source": [
        "# update artists set; this is the new set of artists that occur more than 50 times in the dataset\n",
        "artists_set = set([key for key, val in popularity.items() if val > 50])"
      ],
      "metadata": {
        "id": "y_lh3gz0fsVP"
      },
      "execution_count": 16,
      "outputs": []
    },
    {
      "cell_type": "code",
      "source": [
        "remove_idx = []\n",
        "i = 0\n",
        "for idx, entry in spotify_df.iterrows():\n",
        "    # check the progress of the function\n",
        "    if i % 100000 == 0:\n",
        "        print(i, \"/\", len(spotify_df))\n",
        "    i += 1\n",
        "    if not set(entry.artistname).issubset(artists_set):\n",
        "        remove_idx.append(idx)"
      ],
      "metadata": {
        "colab": {
          "base_uri": "https://localhost:8080/"
        },
        "id": "kPCIgh8kfTGr",
        "outputId": "f5a5c5ea-e9eb-4348-b4a4-e4d1659a981f"
      },
      "execution_count": 19,
      "outputs": [
        {
          "output_type": "stream",
          "name": "stdout",
          "text": [
            "0 / 12867130\n",
            "100000 / 12867130\n",
            "200000 / 12867130\n",
            "300000 / 12867130\n",
            "400000 / 12867130\n",
            "500000 / 12867130\n",
            "600000 / 12867130\n",
            "700000 / 12867130\n",
            "800000 / 12867130\n",
            "900000 / 12867130\n",
            "1000000 / 12867130\n",
            "1100000 / 12867130\n",
            "1200000 / 12867130\n",
            "1300000 / 12867130\n",
            "1400000 / 12867130\n",
            "1500000 / 12867130\n",
            "1600000 / 12867130\n",
            "1700000 / 12867130\n",
            "1800000 / 12867130\n",
            "1900000 / 12867130\n",
            "2000000 / 12867130\n",
            "2100000 / 12867130\n",
            "2200000 / 12867130\n",
            "2300000 / 12867130\n",
            "2400000 / 12867130\n",
            "2500000 / 12867130\n",
            "2600000 / 12867130\n",
            "2700000 / 12867130\n",
            "2800000 / 12867130\n",
            "2900000 / 12867130\n",
            "3000000 / 12867130\n",
            "3100000 / 12867130\n",
            "3200000 / 12867130\n",
            "3300000 / 12867130\n",
            "3400000 / 12867130\n",
            "3500000 / 12867130\n",
            "3600000 / 12867130\n",
            "3700000 / 12867130\n",
            "3800000 / 12867130\n",
            "3900000 / 12867130\n",
            "4000000 / 12867130\n",
            "4100000 / 12867130\n",
            "4200000 / 12867130\n",
            "4300000 / 12867130\n",
            "4400000 / 12867130\n",
            "4500000 / 12867130\n",
            "4600000 / 12867130\n",
            "4700000 / 12867130\n",
            "4800000 / 12867130\n",
            "4900000 / 12867130\n",
            "5000000 / 12867130\n",
            "5100000 / 12867130\n",
            "5200000 / 12867130\n",
            "5300000 / 12867130\n",
            "5400000 / 12867130\n",
            "5500000 / 12867130\n",
            "5600000 / 12867130\n",
            "5700000 / 12867130\n",
            "5800000 / 12867130\n",
            "5900000 / 12867130\n",
            "6000000 / 12867130\n",
            "6100000 / 12867130\n",
            "6200000 / 12867130\n",
            "6300000 / 12867130\n",
            "6400000 / 12867130\n",
            "6500000 / 12867130\n",
            "6600000 / 12867130\n",
            "6700000 / 12867130\n",
            "6800000 / 12867130\n",
            "6900000 / 12867130\n",
            "7000000 / 12867130\n",
            "7100000 / 12867130\n",
            "7200000 / 12867130\n",
            "7300000 / 12867130\n",
            "7400000 / 12867130\n",
            "7500000 / 12867130\n",
            "7600000 / 12867130\n",
            "7700000 / 12867130\n",
            "7800000 / 12867130\n",
            "7900000 / 12867130\n",
            "8000000 / 12867130\n",
            "8100000 / 12867130\n",
            "8200000 / 12867130\n",
            "8300000 / 12867130\n",
            "8400000 / 12867130\n",
            "8500000 / 12867130\n",
            "8600000 / 12867130\n",
            "8700000 / 12867130\n",
            "8800000 / 12867130\n",
            "8900000 / 12867130\n",
            "9000000 / 12867130\n",
            "9100000 / 12867130\n",
            "9200000 / 12867130\n",
            "9300000 / 12867130\n",
            "9400000 / 12867130\n",
            "9500000 / 12867130\n",
            "9600000 / 12867130\n",
            "9700000 / 12867130\n",
            "9800000 / 12867130\n",
            "9900000 / 12867130\n",
            "10000000 / 12867130\n",
            "10100000 / 12867130\n",
            "10200000 / 12867130\n",
            "10300000 / 12867130\n",
            "10400000 / 12867130\n",
            "10500000 / 12867130\n",
            "10600000 / 12867130\n",
            "10700000 / 12867130\n",
            "10800000 / 12867130\n",
            "10900000 / 12867130\n",
            "11000000 / 12867130\n",
            "11100000 / 12867130\n",
            "11200000 / 12867130\n",
            "11300000 / 12867130\n",
            "11400000 / 12867130\n",
            "11500000 / 12867130\n",
            "11600000 / 12867130\n",
            "11700000 / 12867130\n",
            "11800000 / 12867130\n",
            "11900000 / 12867130\n",
            "12000000 / 12867130\n",
            "12100000 / 12867130\n",
            "12200000 / 12867130\n",
            "12300000 / 12867130\n",
            "12400000 / 12867130\n",
            "12500000 / 12867130\n",
            "12600000 / 12867130\n",
            "12700000 / 12867130\n",
            "12800000 / 12867130\n"
          ]
        }
      ]
    },
    {
      "cell_type": "code",
      "source": [
        "spotify_df.drop(remove_idx, axis=0, inplace=True)"
      ],
      "metadata": {
        "id": "gAzMRXrjx56y"
      },
      "execution_count": null,
      "outputs": []
    },
    {
      "cell_type": "code",
      "source": [
        "len(spotify_df)"
      ],
      "metadata": {
        "colab": {
          "base_uri": "https://localhost:8080/"
        },
        "id": "kU5EBdBT1ZUT",
        "outputId": "33658cff-85c5-4872-dc4a-526493f6e5c0"
      },
      "execution_count": 31,
      "outputs": [
        {
          "output_type": "execute_result",
          "data": {
            "text/plain": [
              "11445393"
            ]
          },
          "metadata": {},
          "execution_count": 31
        }
      ]
    },
    {
      "cell_type": "code",
      "source": [
        "# examine the first 5 rows\n",
        "spotify_df.head()"
      ],
      "metadata": {
        "colab": {
          "base_uri": "https://localhost:8080/",
          "height": 206
        },
        "id": "qRYH5Y6EjIUJ",
        "outputId": "947c88bb-6148-4f9a-e976-519794cf4b7b"
      },
      "execution_count": 32,
      "outputs": [
        {
          "output_type": "execute_result",
          "data": {
            "text/plain": [
              "                            user_id        artistname  \\\n",
              "0  9cc0cfd4d7d7885102480dd99e7a90d6  [elvis costello]   \n",
              "1  9cc0cfd4d7d7885102480dd99e7a90d6  [elvis costello]   \n",
              "3  9cc0cfd4d7d7885102480dd99e7a90d6  [elvis costello]   \n",
              "4  9cc0cfd4d7d7885102480dd99e7a90d6  [elvis costello]   \n",
              "5  9cc0cfd4d7d7885102480dd99e7a90d6          [lissie]   \n",
              "\n",
              "                                           trackname    playlistname  \n",
              "0               (The Angels Wanna Wear My) Red Shoes  HARD ROCK 2010  \n",
              "1  (What's So Funny 'Bout) Peace, Love And Unders...  HARD ROCK 2010  \n",
              "3                              Accidents Will Happen  HARD ROCK 2010  \n",
              "4                                             Alison  HARD ROCK 2010  \n",
              "5                                        All Be Okay  HARD ROCK 2010  "
            ],
            "text/html": [
              "\n",
              "  <div id=\"df-0300e913-be66-4f6d-8f61-c890aa368c78\">\n",
              "    <div class=\"colab-df-container\">\n",
              "      <div>\n",
              "<style scoped>\n",
              "    .dataframe tbody tr th:only-of-type {\n",
              "        vertical-align: middle;\n",
              "    }\n",
              "\n",
              "    .dataframe tbody tr th {\n",
              "        vertical-align: top;\n",
              "    }\n",
              "\n",
              "    .dataframe thead th {\n",
              "        text-align: right;\n",
              "    }\n",
              "</style>\n",
              "<table border=\"1\" class=\"dataframe\">\n",
              "  <thead>\n",
              "    <tr style=\"text-align: right;\">\n",
              "      <th></th>\n",
              "      <th>user_id</th>\n",
              "      <th>artistname</th>\n",
              "      <th>trackname</th>\n",
              "      <th>playlistname</th>\n",
              "    </tr>\n",
              "  </thead>\n",
              "  <tbody>\n",
              "    <tr>\n",
              "      <th>0</th>\n",
              "      <td>9cc0cfd4d7d7885102480dd99e7a90d6</td>\n",
              "      <td>[elvis costello]</td>\n",
              "      <td>(The Angels Wanna Wear My) Red Shoes</td>\n",
              "      <td>HARD ROCK 2010</td>\n",
              "    </tr>\n",
              "    <tr>\n",
              "      <th>1</th>\n",
              "      <td>9cc0cfd4d7d7885102480dd99e7a90d6</td>\n",
              "      <td>[elvis costello]</td>\n",
              "      <td>(What's So Funny 'Bout) Peace, Love And Unders...</td>\n",
              "      <td>HARD ROCK 2010</td>\n",
              "    </tr>\n",
              "    <tr>\n",
              "      <th>3</th>\n",
              "      <td>9cc0cfd4d7d7885102480dd99e7a90d6</td>\n",
              "      <td>[elvis costello]</td>\n",
              "      <td>Accidents Will Happen</td>\n",
              "      <td>HARD ROCK 2010</td>\n",
              "    </tr>\n",
              "    <tr>\n",
              "      <th>4</th>\n",
              "      <td>9cc0cfd4d7d7885102480dd99e7a90d6</td>\n",
              "      <td>[elvis costello]</td>\n",
              "      <td>Alison</td>\n",
              "      <td>HARD ROCK 2010</td>\n",
              "    </tr>\n",
              "    <tr>\n",
              "      <th>5</th>\n",
              "      <td>9cc0cfd4d7d7885102480dd99e7a90d6</td>\n",
              "      <td>[lissie]</td>\n",
              "      <td>All Be Okay</td>\n",
              "      <td>HARD ROCK 2010</td>\n",
              "    </tr>\n",
              "  </tbody>\n",
              "</table>\n",
              "</div>\n",
              "      <button class=\"colab-df-convert\" onclick=\"convertToInteractive('df-0300e913-be66-4f6d-8f61-c890aa368c78')\"\n",
              "              title=\"Convert this dataframe to an interactive table.\"\n",
              "              style=\"display:none;\">\n",
              "        \n",
              "  <svg xmlns=\"http://www.w3.org/2000/svg\" height=\"24px\"viewBox=\"0 0 24 24\"\n",
              "       width=\"24px\">\n",
              "    <path d=\"M0 0h24v24H0V0z\" fill=\"none\"/>\n",
              "    <path d=\"M18.56 5.44l.94 2.06.94-2.06 2.06-.94-2.06-.94-.94-2.06-.94 2.06-2.06.94zm-11 1L8.5 8.5l.94-2.06 2.06-.94-2.06-.94L8.5 2.5l-.94 2.06-2.06.94zm10 10l.94 2.06.94-2.06 2.06-.94-2.06-.94-.94-2.06-.94 2.06-2.06.94z\"/><path d=\"M17.41 7.96l-1.37-1.37c-.4-.4-.92-.59-1.43-.59-.52 0-1.04.2-1.43.59L10.3 9.45l-7.72 7.72c-.78.78-.78 2.05 0 2.83L4 21.41c.39.39.9.59 1.41.59.51 0 1.02-.2 1.41-.59l7.78-7.78 2.81-2.81c.8-.78.8-2.07 0-2.86zM5.41 20L4 18.59l7.72-7.72 1.47 1.35L5.41 20z\"/>\n",
              "  </svg>\n",
              "      </button>\n",
              "      \n",
              "  <style>\n",
              "    .colab-df-container {\n",
              "      display:flex;\n",
              "      flex-wrap:wrap;\n",
              "      gap: 12px;\n",
              "    }\n",
              "\n",
              "    .colab-df-convert {\n",
              "      background-color: #E8F0FE;\n",
              "      border: none;\n",
              "      border-radius: 50%;\n",
              "      cursor: pointer;\n",
              "      display: none;\n",
              "      fill: #1967D2;\n",
              "      height: 32px;\n",
              "      padding: 0 0 0 0;\n",
              "      width: 32px;\n",
              "    }\n",
              "\n",
              "    .colab-df-convert:hover {\n",
              "      background-color: #E2EBFA;\n",
              "      box-shadow: 0px 1px 2px rgba(60, 64, 67, 0.3), 0px 1px 3px 1px rgba(60, 64, 67, 0.15);\n",
              "      fill: #174EA6;\n",
              "    }\n",
              "\n",
              "    [theme=dark] .colab-df-convert {\n",
              "      background-color: #3B4455;\n",
              "      fill: #D2E3FC;\n",
              "    }\n",
              "\n",
              "    [theme=dark] .colab-df-convert:hover {\n",
              "      background-color: #434B5C;\n",
              "      box-shadow: 0px 1px 3px 1px rgba(0, 0, 0, 0.15);\n",
              "      filter: drop-shadow(0px 1px 2px rgba(0, 0, 0, 0.3));\n",
              "      fill: #FFFFFF;\n",
              "    }\n",
              "  </style>\n",
              "\n",
              "      <script>\n",
              "        const buttonEl =\n",
              "          document.querySelector('#df-0300e913-be66-4f6d-8f61-c890aa368c78 button.colab-df-convert');\n",
              "        buttonEl.style.display =\n",
              "          google.colab.kernel.accessAllowed ? 'block' : 'none';\n",
              "\n",
              "        async function convertToInteractive(key) {\n",
              "          const element = document.querySelector('#df-0300e913-be66-4f6d-8f61-c890aa368c78');\n",
              "          const dataTable =\n",
              "            await google.colab.kernel.invokeFunction('convertToInteractive',\n",
              "                                                     [key], {});\n",
              "          if (!dataTable) return;\n",
              "\n",
              "          const docLinkHtml = 'Like what you see? Visit the ' +\n",
              "            '<a target=\"_blank\" href=https://colab.research.google.com/notebooks/data_table.ipynb>data table notebook</a>'\n",
              "            + ' to learn more about interactive tables.';\n",
              "          element.innerHTML = '';\n",
              "          dataTable['output_type'] = 'display_data';\n",
              "          await google.colab.output.renderOutput(dataTable, element);\n",
              "          const docLink = document.createElement('div');\n",
              "          docLink.innerHTML = docLinkHtml;\n",
              "          element.appendChild(docLink);\n",
              "        }\n",
              "      </script>\n",
              "    </div>\n",
              "  </div>\n",
              "  "
            ]
          },
          "metadata": {},
          "execution_count": 32
        }
      ]
    },
    {
      "cell_type": "markdown",
      "source": [
        "We now pickle this dataframe so in future runs of the notebook, we can simply load this in."
      ],
      "metadata": {
        "id": "5jdPMdD_hQ9c"
      }
    },
    {
      "cell_type": "code",
      "source": [
        "spotify_df.to_pickle(r'/content/drive/MyDrive/University Materials/Business Analytics/Y3S1/02805 Social graphs & interactions/Data/Spotify Network/spotify_dataset.pickle') "
      ],
      "metadata": {
        "id": "4zJR6JzshQIq"
      },
      "execution_count": 44,
      "outputs": []
    },
    {
      "cell_type": "markdown",
      "source": [
        "## Create Spotify Artist Network \n",
        "based off collaborations found from subset of #nowplaying dataset"
      ],
      "metadata": {
        "id": "5YDbUDykhzUh"
      }
    },
    {
      "cell_type": "code",
      "source": [
        "# load in the pickled dataframe\n",
        "spotify_df = pd.read_pickle('/content/drive/MyDrive/University Materials/Business Analytics/Y3S1/02805 Social graphs & interactions/Data/Spotify Network/spotify_dataset.pickle') "
      ],
      "metadata": {
        "id": "NKalG7JJh5Uc"
      },
      "execution_count": 49,
      "outputs": []
    },
    {
      "cell_type": "code",
      "source": [
        "# examine the first 5 rows\n",
        "spotify_df.head()"
      ],
      "metadata": {
        "colab": {
          "base_uri": "https://localhost:8080/",
          "height": 206
        },
        "id": "LGqEjBZDicuj",
        "outputId": "bb9f43cd-df50-4afb-e74c-9ea72460815b"
      },
      "execution_count": 50,
      "outputs": [
        {
          "output_type": "execute_result",
          "data": {
            "text/plain": [
              "                            user_id        artistname  \\\n",
              "0  9cc0cfd4d7d7885102480dd99e7a90d6  [elvis costello]   \n",
              "1  9cc0cfd4d7d7885102480dd99e7a90d6  [elvis costello]   \n",
              "3  9cc0cfd4d7d7885102480dd99e7a90d6  [elvis costello]   \n",
              "4  9cc0cfd4d7d7885102480dd99e7a90d6  [elvis costello]   \n",
              "5  9cc0cfd4d7d7885102480dd99e7a90d6          [lissie]   \n",
              "\n",
              "                                           trackname    playlistname  \n",
              "0               (The Angels Wanna Wear My) Red Shoes  HARD ROCK 2010  \n",
              "1  (What's So Funny 'Bout) Peace, Love And Unders...  HARD ROCK 2010  \n",
              "3                              Accidents Will Happen  HARD ROCK 2010  \n",
              "4                                             Alison  HARD ROCK 2010  \n",
              "5                                        All Be Okay  HARD ROCK 2010  "
            ],
            "text/html": [
              "\n",
              "  <div id=\"df-25e3f238-9b60-4bc4-9df4-b0e1e4bc6ff6\">\n",
              "    <div class=\"colab-df-container\">\n",
              "      <div>\n",
              "<style scoped>\n",
              "    .dataframe tbody tr th:only-of-type {\n",
              "        vertical-align: middle;\n",
              "    }\n",
              "\n",
              "    .dataframe tbody tr th {\n",
              "        vertical-align: top;\n",
              "    }\n",
              "\n",
              "    .dataframe thead th {\n",
              "        text-align: right;\n",
              "    }\n",
              "</style>\n",
              "<table border=\"1\" class=\"dataframe\">\n",
              "  <thead>\n",
              "    <tr style=\"text-align: right;\">\n",
              "      <th></th>\n",
              "      <th>user_id</th>\n",
              "      <th>artistname</th>\n",
              "      <th>trackname</th>\n",
              "      <th>playlistname</th>\n",
              "    </tr>\n",
              "  </thead>\n",
              "  <tbody>\n",
              "    <tr>\n",
              "      <th>0</th>\n",
              "      <td>9cc0cfd4d7d7885102480dd99e7a90d6</td>\n",
              "      <td>[elvis costello]</td>\n",
              "      <td>(The Angels Wanna Wear My) Red Shoes</td>\n",
              "      <td>HARD ROCK 2010</td>\n",
              "    </tr>\n",
              "    <tr>\n",
              "      <th>1</th>\n",
              "      <td>9cc0cfd4d7d7885102480dd99e7a90d6</td>\n",
              "      <td>[elvis costello]</td>\n",
              "      <td>(What's So Funny 'Bout) Peace, Love And Unders...</td>\n",
              "      <td>HARD ROCK 2010</td>\n",
              "    </tr>\n",
              "    <tr>\n",
              "      <th>3</th>\n",
              "      <td>9cc0cfd4d7d7885102480dd99e7a90d6</td>\n",
              "      <td>[elvis costello]</td>\n",
              "      <td>Accidents Will Happen</td>\n",
              "      <td>HARD ROCK 2010</td>\n",
              "    </tr>\n",
              "    <tr>\n",
              "      <th>4</th>\n",
              "      <td>9cc0cfd4d7d7885102480dd99e7a90d6</td>\n",
              "      <td>[elvis costello]</td>\n",
              "      <td>Alison</td>\n",
              "      <td>HARD ROCK 2010</td>\n",
              "    </tr>\n",
              "    <tr>\n",
              "      <th>5</th>\n",
              "      <td>9cc0cfd4d7d7885102480dd99e7a90d6</td>\n",
              "      <td>[lissie]</td>\n",
              "      <td>All Be Okay</td>\n",
              "      <td>HARD ROCK 2010</td>\n",
              "    </tr>\n",
              "  </tbody>\n",
              "</table>\n",
              "</div>\n",
              "      <button class=\"colab-df-convert\" onclick=\"convertToInteractive('df-25e3f238-9b60-4bc4-9df4-b0e1e4bc6ff6')\"\n",
              "              title=\"Convert this dataframe to an interactive table.\"\n",
              "              style=\"display:none;\">\n",
              "        \n",
              "  <svg xmlns=\"http://www.w3.org/2000/svg\" height=\"24px\"viewBox=\"0 0 24 24\"\n",
              "       width=\"24px\">\n",
              "    <path d=\"M0 0h24v24H0V0z\" fill=\"none\"/>\n",
              "    <path d=\"M18.56 5.44l.94 2.06.94-2.06 2.06-.94-2.06-.94-.94-2.06-.94 2.06-2.06.94zm-11 1L8.5 8.5l.94-2.06 2.06-.94-2.06-.94L8.5 2.5l-.94 2.06-2.06.94zm10 10l.94 2.06.94-2.06 2.06-.94-2.06-.94-.94-2.06-.94 2.06-2.06.94z\"/><path d=\"M17.41 7.96l-1.37-1.37c-.4-.4-.92-.59-1.43-.59-.52 0-1.04.2-1.43.59L10.3 9.45l-7.72 7.72c-.78.78-.78 2.05 0 2.83L4 21.41c.39.39.9.59 1.41.59.51 0 1.02-.2 1.41-.59l7.78-7.78 2.81-2.81c.8-.78.8-2.07 0-2.86zM5.41 20L4 18.59l7.72-7.72 1.47 1.35L5.41 20z\"/>\n",
              "  </svg>\n",
              "      </button>\n",
              "      \n",
              "  <style>\n",
              "    .colab-df-container {\n",
              "      display:flex;\n",
              "      flex-wrap:wrap;\n",
              "      gap: 12px;\n",
              "    }\n",
              "\n",
              "    .colab-df-convert {\n",
              "      background-color: #E8F0FE;\n",
              "      border: none;\n",
              "      border-radius: 50%;\n",
              "      cursor: pointer;\n",
              "      display: none;\n",
              "      fill: #1967D2;\n",
              "      height: 32px;\n",
              "      padding: 0 0 0 0;\n",
              "      width: 32px;\n",
              "    }\n",
              "\n",
              "    .colab-df-convert:hover {\n",
              "      background-color: #E2EBFA;\n",
              "      box-shadow: 0px 1px 2px rgba(60, 64, 67, 0.3), 0px 1px 3px 1px rgba(60, 64, 67, 0.15);\n",
              "      fill: #174EA6;\n",
              "    }\n",
              "\n",
              "    [theme=dark] .colab-df-convert {\n",
              "      background-color: #3B4455;\n",
              "      fill: #D2E3FC;\n",
              "    }\n",
              "\n",
              "    [theme=dark] .colab-df-convert:hover {\n",
              "      background-color: #434B5C;\n",
              "      box-shadow: 0px 1px 3px 1px rgba(0, 0, 0, 0.15);\n",
              "      filter: drop-shadow(0px 1px 2px rgba(0, 0, 0, 0.3));\n",
              "      fill: #FFFFFF;\n",
              "    }\n",
              "  </style>\n",
              "\n",
              "      <script>\n",
              "        const buttonEl =\n",
              "          document.querySelector('#df-25e3f238-9b60-4bc4-9df4-b0e1e4bc6ff6 button.colab-df-convert');\n",
              "        buttonEl.style.display =\n",
              "          google.colab.kernel.accessAllowed ? 'block' : 'none';\n",
              "\n",
              "        async function convertToInteractive(key) {\n",
              "          const element = document.querySelector('#df-25e3f238-9b60-4bc4-9df4-b0e1e4bc6ff6');\n",
              "          const dataTable =\n",
              "            await google.colab.kernel.invokeFunction('convertToInteractive',\n",
              "                                                     [key], {});\n",
              "          if (!dataTable) return;\n",
              "\n",
              "          const docLinkHtml = 'Like what you see? Visit the ' +\n",
              "            '<a target=\"_blank\" href=https://colab.research.google.com/notebooks/data_table.ipynb>data table notebook</a>'\n",
              "            + ' to learn more about interactive tables.';\n",
              "          element.innerHTML = '';\n",
              "          dataTable['output_type'] = 'display_data';\n",
              "          await google.colab.output.renderOutput(dataTable, element);\n",
              "          const docLink = document.createElement('div');\n",
              "          docLink.innerHTML = docLinkHtml;\n",
              "          element.appendChild(docLink);\n",
              "        }\n",
              "      </script>\n",
              "    </div>\n",
              "  </div>\n",
              "  "
            ]
          },
          "metadata": {},
          "execution_count": 50
        }
      ]
    },
    {
      "cell_type": "code",
      "source": [
        "artists_set = set([artist for artists in spotify_df.artistname for artist in artists])"
      ],
      "metadata": {
        "colab": {
          "base_uri": "https://localhost:8080/"
        },
        "id": "UwHyuuYC5ZIJ",
        "outputId": "b99ce9f6-4b7a-4843-852f-c56cc152dd0e"
      },
      "execution_count": 54,
      "outputs": [
        {
          "output_type": "execute_result",
          "data": {
            "text/plain": [
              "23682"
            ]
          },
          "metadata": {},
          "execution_count": 54
        }
      ]
    },
    {
      "cell_type": "code",
      "source": [
        "len(artists_set)"
      ],
      "metadata": {
        "colab": {
          "base_uri": "https://localhost:8080/"
        },
        "id": "zT68pvjx3a6P",
        "outputId": "7cd34d0f-986e-4445-82c9-a8aabfe12c3d"
      },
      "execution_count": 51,
      "outputs": [
        {
          "output_type": "execute_result",
          "data": {
            "text/plain": [
              "23682"
            ]
          },
          "metadata": {},
          "execution_count": 51
        }
      ]
    },
    {
      "cell_type": "code",
      "source": [
        "import networkx as nx\n",
        "# construct artist network\n",
        "artists_graph = nx.Graph()\n",
        "artists_graph.add_nodes_from(artists_set)"
      ],
      "metadata": {
        "id": "DqFdH-YwzwJZ"
      },
      "execution_count": null,
      "outputs": []
    },
    {
      "cell_type": "markdown",
      "source": [
        "We extract the collaborations from the spotify dataset, where we have a collaboration only if there are multiple entries in the list of artists associated with each track."
      ],
      "metadata": {
        "id": "qCfP9zOLzy0n"
      }
    },
    {
      "cell_type": "code",
      "source": [
        "collaborations = spotify_df.loc[map(lambda artists: len(artists) > 1, spotify_df.artistname)]\n",
        "len(collaborations)"
      ],
      "metadata": {
        "id": "d-HNr42nzyA0"
      },
      "execution_count": null,
      "outputs": []
    },
    {
      "cell_type": "markdown",
      "source": [
        "Each artist is connected by their collaborations."
      ],
      "metadata": {
        "id": "56qWAXYT0jtZ"
      }
    },
    {
      "cell_type": "code",
      "source": [
        "i = 0\n",
        "for _, entry in collaborations.iterrows():\n",
        "    # check progress of the function\n",
        "    if i % 100000 == 0:\n",
        "        print(i, \"/\", len(collaborations))\n",
        "    i+=1\n",
        "    for a in range(len(entry.artistname) - 1):\n",
        "        for b in range(a+1, len(entry.artistname)):\n",
        "            artists_graph.add_edge(list(entry.artistname)[a], list(entry.artistname)[b])"
      ],
      "metadata": {
        "id": "7WsokOQs0Aom"
      },
      "execution_count": null,
      "outputs": []
    },
    {
      "cell_type": "markdown",
      "source": [
        "## Spotify Artist Network\n",
        "Now that we have created the initial network of artists connected via their collaborations, we do further pre-processing of the graph.\n",
        "\n",
        "We decided to:\n",
        "- Remove the isolated nodes (artists without collaborations)\n",
        "- Extract the largest component and use it as our artist network"
      ],
      "metadata": {
        "id": "7N-Tlarx0s9-"
      }
    },
    {
      "cell_type": "code",
      "source": [
        "artists_graph.remove_nodes_from(list(nx.isolates(artists_graph)))\n",
        "Gcc = sorted(nx.connected_components(artists_graph), key=len, reverse=True)\n",
        "artists_graph = artists_graph.subgraph(Gcc[0])\n",
        "\n",
        "print(\"number of nodes:\", artists_graph.number_of_nodes())\n",
        "print(\"number of edges:\", artists_graph.number_of_edges())"
      ],
      "metadata": {
        "id": "Xp2Kz26G5-vE"
      },
      "execution_count": null,
      "outputs": []
    },
    {
      "cell_type": "markdown",
      "source": [
        "## Getting additional information from Spotify API about each song\n",
        "In this section, we get more information about each artist. Namely, we obtain the Spotify ID (which can be used to check if the artist is on Spotify), popularity, genres and related artists.\n",
        "\n",
        "We remove the artists that are not found on Spotify (by the ID)."
      ],
      "metadata": {
        "id": "Io24b9Lh6CbM"
      }
    },
    {
      "cell_type": "code",
      "source": [
        "artists_set = set(artists_graph.nodes())\n",
        "data = {'artistname': list(artists_set),\n",
        "        'id': [None] * len(artists_set),\n",
        "        'popularity': [None] * len(artists_set),\n",
        "        'genres': [None] * len(artists_set),\n",
        "        'related_artists': [None] * len(artists_set)}\n",
        "artists_df = pd.DataFrame(data)"
      ],
      "metadata": {
        "id": "g2_sRyGp6ATT"
      },
      "execution_count": null,
      "outputs": []
    },
    {
      "cell_type": "code",
      "source": [
        "# load credentials\n",
        "credentials = json.load(open('authorization.json'))\n",
        "client_id = credentials['client_id']\n",
        "client_secret = credentials['client_secret']"
      ],
      "metadata": {
        "id": "Yc4CEsP36hAa"
      },
      "execution_count": null,
      "outputs": []
    },
    {
      "cell_type": "code",
      "source": [
        "def search_artist_spotify(artist):\n",
        "    results = sp.search(q=artist.artistname, type='artist')\n",
        "\n",
        "    for result in results['artists']['items']:\n",
        "        # check if artist was found\n",
        "        if result['name'].lower() == artist.artistname:\n",
        "            artist.id = result[\"id\"]\n",
        "            artist.popularity = result[\"popularity\"]\n",
        "            artist.genres = result[\"genres\"]\n",
        "    \n",
        "    return artist"
      ],
      "metadata": {
        "id": "EvxgW4uO6j0V"
      },
      "execution_count": null,
      "outputs": []
    },
    {
      "cell_type": "code",
      "source": [
        "def get_related_artists_spotify(artist):\n",
        "    results = sp.artist_related_artists(artist.id)\n",
        "\n",
        "    related_artists=list()\n",
        "    for result in results['artists']:\n",
        "        if result['name'].lower() in set(artists_df.artistname):\n",
        "            related_artists.append(result['name'].lower())\n",
        "    artist.related_artists = related_artists"
      ],
      "metadata": {
        "id": "ttkMV-bw6nRQ"
      },
      "execution_count": null,
      "outputs": []
    },
    {
      "cell_type": "code",
      "source": [
        "sp = spotipy.Spotify(client_credentials_manager=SpotifyClientCredentials(\n",
        "    client_id=client_id,\n",
        "    client_secret=client_secret,\n",
        "    ))\n",
        "\n",
        "i = 0\n",
        "for _, artist in artists_df.iterrows():\n",
        "    if i % 100 == 0:\n",
        "        print(i, \"/\", len(artists_df))\n",
        "    i += 1\n",
        "    artist = search_artist_spotify(artist)"
      ],
      "metadata": {
        "id": "ny8OIL2N6qSg"
      },
      "execution_count": null,
      "outputs": []
    },
    {
      "cell_type": "code",
      "source": [
        "sp = spotipy.Spotify(client_credentials_manager=SpotifyClientCredentials(\n",
        "    client_id=client_id,\n",
        "    client_secret=client_secret,\n",
        "    ), requests_timeout=10, retries=10)\n",
        "\n",
        "i = 0\n",
        "for _, artist in artists_df.iterrows():\n",
        "    if i % 100 == 0:\n",
        "        # os.system('clear')\n",
        "        clear_output()\n",
        "        print(i, \"/\", len(artists_df))\n",
        "    i += 1\n",
        "    if artist.id != None:\n",
        "        get_related_artists_spotify(artist)"
      ],
      "metadata": {
        "id": "KbUDPOJl6ur2"
      },
      "execution_count": null,
      "outputs": []
    },
    {
      "cell_type": "code",
      "source": [
        "# these are the artists that are not on Spotify\n",
        "no_info = (list(artists_df[artists_df.id.isnull()].artistname) + list(artists_df[artists_df.genres.isnull()].artistname))"
      ],
      "metadata": {
        "id": "gjxXR-c66wnB"
      },
      "execution_count": null,
      "outputs": []
    },
    {
      "cell_type": "code",
      "source": [
        "# remove the nodes (artists) that are not on Spotify\n",
        "artists_graph = nx.Graph(artists_graph) # unfreeze the graph\n",
        "artists_graph.remove_nodes_from(list(no_info))\n",
        "Gcc = sorted(nx.connected_components(artists_graph), key=len, reverse=True)\n",
        "artists_graph = artists_graph.subgraph(Gcc[0])\n",
        "\n",
        "print(\"number of nodes:\", artists_graph.number_of_nodes())\n",
        "print(\"number of edges:\", artists_graph.number_of_edges())"
      ],
      "metadata": {
        "id": "3JnY69TP62Qg"
      },
      "execution_count": null,
      "outputs": []
    },
    {
      "cell_type": "markdown",
      "source": [
        "Plot the network"
      ],
      "metadata": {
        "id": "tx_r3qFU7KNH"
      }
    },
    {
      "cell_type": "code",
      "source": [
        "nx.draw(artists_graph, node_size=list(dict(artists_graph.degree()).values()))"
      ],
      "metadata": {
        "id": "9r9jJcT37LeF"
      },
      "execution_count": null,
      "outputs": []
    },
    {
      "cell_type": "markdown",
      "source": [
        "Degree distribution"
      ],
      "metadata": {
        "id": "sWjtkF257NpN"
      }
    },
    {
      "cell_type": "code",
      "source": [
        "# Plot degree distribution\n",
        "degree = list(dict(artists_graph.degree()).values())\n",
        "hist, bin = np.histogram(degree, bins=range(min(degree), max(degree))) # return an array with histogram values and the bin edges \n",
        "\n",
        "# f, ax = plt.subplots(1,2, figsize=(15,5))\n",
        "plt.title('Degree distribution')\n",
        "plt.bar(bin[:-1], hist)\n",
        "plt.xlabel(\"Degree\")\n",
        "plt.ylabel(\"Frequency\")\n",
        "\n",
        "plt.show()"
      ],
      "metadata": {
        "id": "pcHz6Zw47OWT"
      },
      "execution_count": null,
      "outputs": []
    },
    {
      "cell_type": "markdown",
      "source": [
        "Check if distribution obeys a power law"
      ],
      "metadata": {
        "id": "icTKlaZZ7Nul"
      }
    },
    {
      "cell_type": "code",
      "source": [
        "from math import exp\n",
        "import matplotlib.pyplot as plt\n",
        "from collections import Counter\n",
        "import numpy as np\n",
        "import powerlaw\n",
        "\n",
        "degree_sequence = sorted(list(dict(artists_graph.degree()).values()), reverse=True)\n",
        "alpha_in = powerlaw.Fit(degree_sequence).alpha\n",
        "print(\"The slope of the incoming degree distribution\", alpha_in)\n",
        "degree_freq = Counter(degree_sequence)\n",
        "\n",
        "x = np.log(np.array(list(degree_freq.keys())))\n",
        "y = np.log(np.array(list(degree_freq.values())))\n",
        "\n",
        "ymin, ymax = ([0, y.max()])\n",
        "ymid = (ymin + ymax) / 2\n",
        "xmin, xmax = ([0, x.max()])\n",
        "xmid = (xmin + xmax) / 2\n",
        "\n",
        "y1 = -alpha_in * (xmin - xmid) + ymid\n",
        "y2 = -alpha_in * (xmax - xmid) + ymid\n",
        "\n",
        "fig = plt.figure()\n",
        "ax = plt.gca()\n",
        "plt.scatter(degree_freq.keys(), degree_freq.values() , alpha=0.65)\n",
        "ax.plot(np.exp([xmin, xmax]), np.exp([y1, y2]), 'r', label=\"alpha_in\")\n",
        "\n",
        "plt.title(\"in-degree distribution\")\n",
        "plt.xlabel('Degree')\n",
        "plt.ylabel('Frequency')\n",
        "plt.loglog()\n",
        "plt.legend()"
      ],
      "metadata": {
        "id": "9P2CjvDd7Zl9"
      },
      "execution_count": null,
      "outputs": []
    },
    {
      "cell_type": "markdown",
      "source": [
        "Find the modularity of the best paritition, and inspect the communities"
      ],
      "metadata": {
        "id": "rCug3Cwt7cOo"
      }
    },
    {
      "cell_type": "code",
      "source": [
        "from community import community_louvain\n",
        "# compute the best partition\n",
        "communities = community_louvain.best_partition(artists_graph, random_state=0) \n",
        "# we used random_state parameter so that the results can be reproduced\n",
        "mod = community_louvain.modularity(communities, artists_graph)\n",
        "print(\"modularity is\", mod)\n",
        "\n",
        "no_communities = len(Counter(communities.values()))\n",
        "print(\"The Louvain algorithm had found\", no_communities, \"communities\")\n",
        "\n",
        "for community, count in Counter(communities.values()).most_common():\n",
        "    print(\"The community\", community, \"has\", count, \"nodes\")"
      ],
      "metadata": {
        "id": "EjjzTZhb7jag"
      },
      "execution_count": null,
      "outputs": []
    },
    {
      "cell_type": "markdown",
      "source": [
        "## Plot the network\n",
        "- We color the different communities differently to show the modularity of the network.\n",
        "- We also display each node differently depending on the degree of each node."
      ],
      "metadata": {
        "id": "gfYk3Xxy7qn-"
      }
    },
    {
      "cell_type": "code",
      "source": [
        "forceatlas2 = fa2.ForceAtlas2(\n",
        "                        # Behavior alternatives\n",
        "                        outboundAttractionDistribution=False,  # Dissuade hubs\n",
        "                        edgeWeightInfluence=0,\n",
        "\n",
        "                        # Performance\n",
        "                        jitterTolerance=0.9,  # Tolerance\n",
        "                        barnesHutOptimize=True,\n",
        "                        barnesHutTheta=1.2,\n",
        "\n",
        "                        # Tuning\n",
        "                        scalingRatio=0.1,\n",
        "                        strongGravityMode=True,\n",
        "                        gravity=0.6,\n",
        "\n",
        "                        # Log\n",
        "                        verbose=True)\n",
        "positions = forceatlas2.forceatlas2_networkx_layout(artists_graph, pos=None, iterations=2000)\n",
        "        \n",
        "plt.figure(figsize=(12, 10), dpi=80)\n",
        "communities_color = {} # keep a dict with colors for each community\n",
        "nodelist_dc = []\n",
        "\n",
        "for community in  Counter(communities.values()):\n",
        "    communities_color[community] = np.array([random.uniform(0, 1), random.uniform(0, 1), random.uniform(0, 1)])\n",
        "    nodelist = []\n",
        "    \n",
        "    for node in artists_graph:\n",
        "        if node not in communities:\n",
        "            nodelist_dc.append(node)\n",
        "        elif communities[node] == community:\n",
        "            nodelist.append(node)\n",
        "    # display nodes from current Marvel's community       \n",
        "    nx.draw_networkx_nodes(artists_graph,\n",
        "                           pos=positions,\n",
        "                           nodelist=nodelist,\n",
        "                           node_size=list(dict(artists_graph.degree(nodelist)).values()),\n",
        "                           node_color=communities_color[community].reshape(1,-1), label=community)\n",
        "nx.draw_networkx_edges(artists_graph, pos=positions, alpha=0.05)\n",
        "plt.legend()"
      ],
      "metadata": {
        "id": "Xvi-m5s07rtj"
      },
      "execution_count": null,
      "outputs": []
    }
  ]
}