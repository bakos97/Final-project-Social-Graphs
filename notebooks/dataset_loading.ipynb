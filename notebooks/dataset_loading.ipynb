{
 "cells": [
  {
   "cell_type": "code",
   "execution_count": 67,
   "metadata": {},
   "outputs": [],
   "source": [
    "# imports\n",
    "import pandas as pd\n",
    "import itertools\n",
    "import re\n",
    "import numpy as np\n",
    "from bs4 import BeautifulSoup\n",
    "import requests"
   ]
  },
  {
   "cell_type": "code",
   "execution_count": 2,
   "metadata": {},
   "outputs": [
    {
     "data": {
      "text/html": [
       "<div>\n",
       "<style scoped>\n",
       "    .dataframe tbody tr th:only-of-type {\n",
       "        vertical-align: middle;\n",
       "    }\n",
       "\n",
       "    .dataframe tbody tr th {\n",
       "        vertical-align: top;\n",
       "    }\n",
       "\n",
       "    .dataframe thead th {\n",
       "        text-align: right;\n",
       "    }\n",
       "</style>\n",
       "<table border=\"1\" class=\"dataframe\">\n",
       "  <thead>\n",
       "    <tr style=\"text-align: right;\">\n",
       "      <th></th>\n",
       "      <th>user_id</th>\n",
       "      <th>artistname</th>\n",
       "      <th>trackname</th>\n",
       "      <th>playlistname</th>\n",
       "    </tr>\n",
       "  </thead>\n",
       "  <tbody>\n",
       "    <tr>\n",
       "      <th>0</th>\n",
       "      <td>9cc0cfd4d7d7885102480dd99e7a90d6</td>\n",
       "      <td>Elvis Costello</td>\n",
       "      <td>(The Angels Wanna Wear My) Red Shoes</td>\n",
       "      <td>HARD ROCK 2010</td>\n",
       "    </tr>\n",
       "    <tr>\n",
       "      <th>1</th>\n",
       "      <td>9cc0cfd4d7d7885102480dd99e7a90d6</td>\n",
       "      <td>Elvis Costello &amp; The Attractions</td>\n",
       "      <td>(What's So Funny 'Bout) Peace, Love And Unders...</td>\n",
       "      <td>HARD ROCK 2010</td>\n",
       "    </tr>\n",
       "    <tr>\n",
       "      <th>2</th>\n",
       "      <td>9cc0cfd4d7d7885102480dd99e7a90d6</td>\n",
       "      <td>Tiffany Page</td>\n",
       "      <td>7 Years Too Late</td>\n",
       "      <td>HARD ROCK 2010</td>\n",
       "    </tr>\n",
       "    <tr>\n",
       "      <th>3</th>\n",
       "      <td>9cc0cfd4d7d7885102480dd99e7a90d6</td>\n",
       "      <td>Elvis Costello &amp; The Attractions</td>\n",
       "      <td>Accidents Will Happen</td>\n",
       "      <td>HARD ROCK 2010</td>\n",
       "    </tr>\n",
       "    <tr>\n",
       "      <th>4</th>\n",
       "      <td>9cc0cfd4d7d7885102480dd99e7a90d6</td>\n",
       "      <td>Elvis Costello</td>\n",
       "      <td>Alison</td>\n",
       "      <td>HARD ROCK 2010</td>\n",
       "    </tr>\n",
       "  </tbody>\n",
       "</table>\n",
       "</div>"
      ],
      "text/plain": [
       "                            user_id                        artistname  \\\n",
       "0  9cc0cfd4d7d7885102480dd99e7a90d6                    Elvis Costello   \n",
       "1  9cc0cfd4d7d7885102480dd99e7a90d6  Elvis Costello & The Attractions   \n",
       "2  9cc0cfd4d7d7885102480dd99e7a90d6                      Tiffany Page   \n",
       "3  9cc0cfd4d7d7885102480dd99e7a90d6  Elvis Costello & The Attractions   \n",
       "4  9cc0cfd4d7d7885102480dd99e7a90d6                    Elvis Costello   \n",
       "\n",
       "                                           trackname    playlistname  \n",
       "0               (The Angels Wanna Wear My) Red Shoes  HARD ROCK 2010  \n",
       "1  (What's So Funny 'Bout) Peace, Love And Unders...  HARD ROCK 2010  \n",
       "2                                   7 Years Too Late  HARD ROCK 2010  \n",
       "3                              Accidents Will Happen  HARD ROCK 2010  \n",
       "4                                             Alison  HARD ROCK 2010  "
      ]
     },
     "execution_count": 2,
     "metadata": {},
     "output_type": "execute_result"
    }
   ],
   "source": [
    "df = pd.read_csv('../datasets/spotify_dataset.csv', \n",
    "                         skiprows=1,\n",
    "                         names=['user_id', 'artistname', 'trackname', 'playlistname'],\n",
    "                         on_bad_lines='skip')\n",
    "\n",
    "df.head()"
   ]
  },
  {
   "cell_type": "code",
   "execution_count": 3,
   "metadata": {},
   "outputs": [
    {
     "data": {
      "text/html": [
       "<div>\n",
       "<style scoped>\n",
       "    .dataframe tbody tr th:only-of-type {\n",
       "        vertical-align: middle;\n",
       "    }\n",
       "\n",
       "    .dataframe tbody tr th {\n",
       "        vertical-align: top;\n",
       "    }\n",
       "\n",
       "    .dataframe thead th {\n",
       "        text-align: right;\n",
       "    }\n",
       "</style>\n",
       "<table border=\"1\" class=\"dataframe\">\n",
       "  <thead>\n",
       "    <tr style=\"text-align: right;\">\n",
       "      <th></th>\n",
       "      <th>user_id</th>\n",
       "      <th>artistname</th>\n",
       "      <th>trackname</th>\n",
       "      <th>playlistname</th>\n",
       "    </tr>\n",
       "  </thead>\n",
       "  <tbody>\n",
       "    <tr>\n",
       "      <th>4361268</th>\n",
       "      <td>a846230a656e4f5181357ba60c2ed74d</td>\n",
       "      <td>Quiet Riot</td>\n",
       "      <td>Cum On Feel The Noize</td>\n",
       "      <td>music</td>\n",
       "    </tr>\n",
       "    <tr>\n",
       "      <th>8872077</th>\n",
       "      <td>8b77e77b5699d948cb7bd415b55f94e9</td>\n",
       "      <td>Bunbury</td>\n",
       "      <td>Bujías Para El Dolor</td>\n",
       "      <td>NisuViajes</td>\n",
       "    </tr>\n",
       "    <tr>\n",
       "      <th>12406318</th>\n",
       "      <td>e0a70ea54d3d19aa0eb3888914b9e90f</td>\n",
       "      <td>Alan Jackson</td>\n",
       "      <td>Where I Come From</td>\n",
       "      <td>Country</td>\n",
       "    </tr>\n",
       "    <tr>\n",
       "      <th>10202558</th>\n",
       "      <td>551f7a4022e603e092d48fc816dce2d6</td>\n",
       "      <td>Fionn Regan</td>\n",
       "      <td>List Of Distractions</td>\n",
       "      <td>Indie Fux Influx..</td>\n",
       "    </tr>\n",
       "    <tr>\n",
       "      <th>11402409</th>\n",
       "      <td>014e695cc6df96011b90a5beb3206012</td>\n",
       "      <td>Ilaiyaraaja</td>\n",
       "      <td>Ilan Cholai Poothatho</td>\n",
       "      <td>SPB Mothership</td>\n",
       "    </tr>\n",
       "  </tbody>\n",
       "</table>\n",
       "</div>"
      ],
      "text/plain": [
       "                                   user_id    artistname  \\\n",
       "4361268   a846230a656e4f5181357ba60c2ed74d    Quiet Riot   \n",
       "8872077   8b77e77b5699d948cb7bd415b55f94e9       Bunbury   \n",
       "12406318  e0a70ea54d3d19aa0eb3888914b9e90f  Alan Jackson   \n",
       "10202558  551f7a4022e603e092d48fc816dce2d6   Fionn Regan   \n",
       "11402409  014e695cc6df96011b90a5beb3206012   Ilaiyaraaja   \n",
       "\n",
       "                      trackname        playlistname  \n",
       "4361268   Cum On Feel The Noize               music  \n",
       "8872077    Bujías Para El Dolor          NisuViajes  \n",
       "12406318      Where I Come From             Country  \n",
       "10202558   List Of Distractions  Indie Fux Influx..  \n",
       "11402409  Ilan Cholai Poothatho      SPB Mothership  "
      ]
     },
     "execution_count": 3,
     "metadata": {},
     "output_type": "execute_result"
    }
   ],
   "source": [
    "# keep only 5% of the data\n",
    "spotify_df = df.sample(frac=0.01, random_state=1)\n",
    "spotify_df.head()"
   ]
  },
  {
   "cell_type": "code",
   "execution_count": 59,
   "metadata": {},
   "outputs": [
    {
     "data": {
      "text/plain": [
       "31823"
      ]
     },
     "execution_count": 59,
     "metadata": {},
     "output_type": "execute_result"
    }
   ],
   "source": [
    "artists_set = set(itertools.chain(*[re.split(' [&\\/] ', str(artist)) for artist in spotify_df.artistname]))\n",
    "len(artists_set)"
   ]
  },
  {
   "cell_type": "code",
   "execution_count": 60,
   "metadata": {},
   "outputs": [],
   "source": [
    "# construct artists data set, where each artist have a list with associated tracks\n",
    "artists_dict =dict((k, set()) for k in artists_set)\n",
    "for _, row in spotify_df.iterrows():\n",
    "    for artist in re.split(' [&\\/] ', str(row.artistname)):\n",
    "        artists_dict[artist].add(row.trackname)\n",
    "\n",
    "    "
   ]
  },
  {
   "cell_type": "code",
   "execution_count": 62,
   "metadata": {},
   "outputs": [
    {
     "name": "stderr",
     "output_type": "stream",
     "text": [
      "C:\\Users\\lazar\\AppData\\Local\\Temp/ipykernel_34880/30032528.py:13: VisibleDeprecationWarning: Creating an ndarray from ragged nested sequences (which is a list-or-tuple of lists-or-tuples-or ndarrays with different lengths or shapes) is deprecated. If you meant to do this, you must specify 'dtype=object' when creating the ndarray.\n",
      "  song_df = pd.DataFrame(np.array(songs_list), columns=['song_name', 'song_performers'])\n"
     ]
    }
   ],
   "source": [
    "# construct data frame with song\n",
    "songs_list = []\n",
    "for _, row in spotify_df.iterrows():\n",
    "    song_entry = []\n",
    "\n",
    "    # first column - song name\n",
    "    song_entry.append(row.trackname)\n",
    "    # second column - artists\n",
    "    song_entry.append(re.split(' [&\\/] ', str(row.artistname)))\n",
    "\n",
    "    songs_list.append(song_entry)\n",
    "\n",
    "song_df = pd.DataFrame(np.array(songs_list), columns=['song_name', 'song_performers'])"
   ]
  },
  {
   "cell_type": "code",
   "execution_count": 63,
   "metadata": {},
   "outputs": [
    {
     "data": {
      "text/html": [
       "<div>\n",
       "<style scoped>\n",
       "    .dataframe tbody tr th:only-of-type {\n",
       "        vertical-align: middle;\n",
       "    }\n",
       "\n",
       "    .dataframe tbody tr th {\n",
       "        vertical-align: top;\n",
       "    }\n",
       "\n",
       "    .dataframe thead th {\n",
       "        text-align: right;\n",
       "    }\n",
       "</style>\n",
       "<table border=\"1\" class=\"dataframe\">\n",
       "  <thead>\n",
       "    <tr style=\"text-align: right;\">\n",
       "      <th></th>\n",
       "      <th>song_name</th>\n",
       "      <th>song_performers</th>\n",
       "    </tr>\n",
       "  </thead>\n",
       "  <tbody>\n",
       "    <tr>\n",
       "      <th>0</th>\n",
       "      <td>Cum On Feel The Noize</td>\n",
       "      <td>[Quiet Riot]</td>\n",
       "    </tr>\n",
       "    <tr>\n",
       "      <th>1</th>\n",
       "      <td>Bujías Para El Dolor</td>\n",
       "      <td>[Bunbury]</td>\n",
       "    </tr>\n",
       "    <tr>\n",
       "      <th>2</th>\n",
       "      <td>Where I Come From</td>\n",
       "      <td>[Alan Jackson]</td>\n",
       "    </tr>\n",
       "    <tr>\n",
       "      <th>3</th>\n",
       "      <td>List Of Distractions</td>\n",
       "      <td>[Fionn Regan]</td>\n",
       "    </tr>\n",
       "    <tr>\n",
       "      <th>4</th>\n",
       "      <td>Ilan Cholai Poothatho</td>\n",
       "      <td>[Ilaiyaraaja]</td>\n",
       "    </tr>\n",
       "  </tbody>\n",
       "</table>\n",
       "</div>"
      ],
      "text/plain": [
       "               song_name song_performers\n",
       "0  Cum On Feel The Noize    [Quiet Riot]\n",
       "1   Bujías Para El Dolor       [Bunbury]\n",
       "2      Where I Come From  [Alan Jackson]\n",
       "3   List Of Distractions   [Fionn Regan]\n",
       "4  Ilan Cholai Poothatho   [Ilaiyaraaja]"
      ]
     },
     "execution_count": 63,
     "metadata": {},
     "output_type": "execute_result"
    }
   ],
   "source": [
    "song_df.head()"
   ]
  },
  {
   "cell_type": "code",
   "execution_count": 71,
   "metadata": {},
   "outputs": [],
   "source": [
    "#function to scrape lyrics from genius\n",
    "def scrape_lyrics(artistname, songname):\n",
    "    artistname2 = str(artistname.replace(' ','-')) if ' ' in artistname else str(artistname)\n",
    "    songname2 = str(songname.replace(' ','-')) if ' ' in songname else str(songname)\n",
    "    return 'https://genius.com/'+ artistname2 + '-' + songname2 + '-' + 'lyrics'\n",
    "    # page = requests.get('https://genius.com/'+ artistname2 + '-' + songname2 + '-' + 'lyrics')\n",
    "    # html = BeautifulSoup(page.text, 'html.parser')\n",
    "    # lyrics1 = html.find(\"div\", class_=\"lyrics\")\n",
    "    # lyrics2 = html.find(\"div\", class_=\"Lyrics__Container-sc-1ynbvzw-2 jgQsqn\")\n",
    "    # if lyrics1:\n",
    "    #     lyrics = lyrics1.get_text()\n",
    "    # elif lyrics2:\n",
    "    #     lyrics = lyrics2.get_text()\n",
    "    # elif lyrics1 == lyrics2 == None:\n",
    "    #     lyrics = None\n",
    "    # return lyrics\n"
   ]
  },
  {
   "cell_type": "code",
   "execution_count": 73,
   "metadata": {},
   "outputs": [
    {
     "data": {
      "text/plain": [
       "<Response [200]>"
      ]
     },
     "execution_count": 73,
     "metadata": {},
     "output_type": "execute_result"
    }
   ],
   "source": [
    "requests.get(scrape_lyrics(\"Quiet Riot\", \"Cum On Feel The Noize\"))"
   ]
  },
  {
   "cell_type": "code",
   "execution_count": 70,
   "metadata": {},
   "outputs": [
    {
     "name": "stdout",
     "output_type": "stream",
     "text": [
      "None\n"
     ]
    }
   ],
   "source": [
    "print(l)"
   ]
  },
  {
   "cell_type": "code",
   "execution_count": null,
   "metadata": {},
   "outputs": [],
   "source": []
  }
 ],
 "metadata": {
  "kernelspec": {
   "display_name": "Python 3.9.13 64-bit (microsoft store)",
   "language": "python",
   "name": "python3"
  },
  "language_info": {
   "codemirror_mode": {
    "name": "ipython",
    "version": 3
   },
   "file_extension": ".py",
   "mimetype": "text/x-python",
   "name": "python",
   "nbconvert_exporter": "python",
   "pygments_lexer": "ipython3",
   "version": "3.9.13"
  },
  "orig_nbformat": 4,
  "vscode": {
   "interpreter": {
    "hash": "4e12b95feb72a2bcb1940fe7fb8289dcc3975b1b83ca4e8ecd400d3b43db31fa"
   }
  }
 },
 "nbformat": 4,
 "nbformat_minor": 2
}
