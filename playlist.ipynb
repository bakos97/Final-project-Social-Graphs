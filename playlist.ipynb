{
 "cells": [
  {
   "cell_type": "code",
   "execution_count": 8,
   "metadata": {},
   "outputs": [],
   "source": [
    "import spotipy\n",
    "from spotipy.oauth2 import SpotifyClientCredentials\n",
    "import json\n",
    "import numpy as np\n",
    "import pandas as pd\n",
    "import matplotlib.pyplot as plt\n",
    "import csv\n"
   ]
  },
  {
   "cell_type": "code",
   "execution_count": 9,
   "metadata": {},
   "outputs": [],
   "source": [
    "import networkx as nx\n",
    "G = nx.DiGraph()\n",
    "G.clear()\n"
   ]
  },
  {
   "cell_type": "code",
   "execution_count": 18,
   "metadata": {},
   "outputs": [],
   "source": [
    "credentials = json.load(open('Auth.json'))\n",
    "client_id = credentials['client_id']\n",
    "client_secret = credentials['client_secret']\n",
    "\n",
    "playlist_index = 0\n",
    "\n",
    "playlists = json.load(open('playlists_like_dislike.json'))\n",
    "playlist_uri = playlists['uri']\n",
    "like = playlists['like']\n",
    "\n",
    "client_credentials_manager = SpotifyClientCredentials(\n",
    "    client_id=client_id, client_secret=client_secret)\n",
    "\n",
    "sp = spotipy.Spotify(client_credentials_manager=client_credentials_manager)\n",
    "uri = playlist_uri    # the URI is split by ':' to get the username and playlist ID\n",
    "# username = uri.split(':')[2]\n",
    "# playlist_id = uri.split(':')[4]\n",
    "username = '118419143'\n",
    "playlist_id = '1A5TpVm7uJy9REzIhBLTWG'\n",
    "results = sp.user_playlist(username, playlist_id, 'tracks')\n",
    "# results = sp.playlist_tracks(playlist_id, 'tracks')\n",
    "playlist_tracks_data = results['tracks']\n",
    "# print(playlist_tracks_data)\n",
    "# playlist_tracks_id = []\n",
    "# playlist_tracks_titles = []\n",
    "# playlist_tracks_artists = []\n",
    "# playlist_tracks_first_artists = []\n",
    "\n",
    "header = ['id', 'title', 'first_artist', 'all_artists',\n",
    "          'danceability', 'energy', 'key', 'loudness',\n",
    "          'mode', 'acousticness', 'instrumentalness',\n",
    "          'liveness', 'valence', 'tempo',\n",
    "          'duration_ms', 'time_signature']\n",
    "\n",
    "\n",
    "with open('songs.csv', 'w', encoding='UTF8') as f:\n",
    "    writer = csv.writer(f)\n",
    "\n",
    "    # write the header\n",
    "    writer.writerow(header)\n",
    "\n",
    "    # write the data\n",
    "\n",
    "    for track in playlist_tracks_data['items']:\n",
    "        # playlist_tracks_id.append(track['track']['id'])\n",
    "        # playlist_tracks_titles.append(track['track']['name'])\n",
    "        artist_list = []\n",
    "        for artist in track['track']['artists']:\n",
    "            artist_list.append(artist['name'])\n",
    "        # playlist_tracks_artists.append(artist_list)\n",
    "        # playlist_tracks_first_artists.append(artist_list[0])\n",
    "        # features = sp.audio_features(track['track']['id'])\n",
    "        # print(features)\n",
    "        data = [track['track']['id'], track['track']\n",
    "                ['name'], artist_list[0], artist_list]\n",
    "        # data = [track['track']['id'], track['track']['name'], artist_list[0], artist_list, features['danceability'],\n",
    "        #         features['energy'], features['key'], features['loudness'], features['mode'], features['acousticness'], features['instrumentalness'], features['liveness'], features['valence'], features['tempo'], features['duration_ms'], features['time_signature']]\n",
    "        writer.writerow(data)\n"
   ]
  },
  {
   "cell_type": "code",
   "execution_count": 31,
   "metadata": {},
   "outputs": [],
   "source": [
    "def check_artist(artist):\n",
    "\n",
    "    filename = 'songs.csv'\n",
    "    df = pd.read_csv(filename)\n",
    "    songs = []\n",
    "    for index, row in df.iterrows():\n",
    "        if artist == row[2]:\n",
    "            songs.append(row[1])\n",
    "        else:\n",
    "            for artists in row[3]:\n",
    "                if artist == artists:\n",
    "                    songs.append(row[1])\n",
    "    return songs\n"
   ]
  },
  {
   "cell_type": "code",
   "execution_count": 35,
   "metadata": {},
   "outputs": [],
   "source": [
    "\n",
    "filename = 'songs.csv'\n",
    "df = pd.read_csv(filename)\n",
    "\n",
    "for index, row in df.iterrows():\n",
    "    G.add_node(row[1])\n",
    "    songs = check_artist(row[2])\n",
    "    for song in songs:\n",
    "        if song != row[1]:\n",
    "            G.add_edge(row[1], song)\n",
    "            # nx.set_node_attributes(G, {i : {'comic' : 'marvel'}} )\n"
   ]
  },
  {
   "cell_type": "code",
   "execution_count": 36,
   "metadata": {},
   "outputs": [
    {
     "name": "stdout",
     "output_type": "stream",
     "text": [
      "Nr of nodes:100\n",
      "Nr of edges:122\n",
      "Nr of edges:122\n"
     ]
    }
   ],
   "source": [
    "print('Nr of nodes:' + str(G.number_of_nodes()))\n",
    "print('Nr of edges:' + str(G.number_of_edges()))\n",
    "print('Nr of edges:' + str(G.size()))\n"
   ]
  },
  {
   "cell_type": "code",
   "execution_count": 37,
   "metadata": {},
   "outputs": [],
   "source": [
    "from fa2 import ForceAtlas2\n"
   ]
  },
  {
   "cell_type": "code",
   "execution_count": 40,
   "metadata": {},
   "outputs": [],
   "source": [
    "d = dict(G.degree)\n"
   ]
  },
  {
   "cell_type": "code",
   "execution_count": 42,
   "metadata": {},
   "outputs": [
    {
     "name": "stderr",
     "output_type": "stream",
     "text": [
      "100%|██████████| 20/20 [00:00<00:00, 596.86it/s]\n"
     ]
    },
    {
     "name": "stdout",
     "output_type": "stream",
     "text": [
      "BarnesHut Approximation  took  0.01  seconds\n",
      "Repulsion forces  took  0.02  seconds\n",
      "Gravitational forces  took  0.00  seconds\n",
      "Attraction forces  took  0.00  seconds\n",
      "AdjustSpeedAndApplyForces step  took  0.00  seconds\n"
     ]
    },
    {
     "data": {
      "image/png": "[encoded data removed]",
      "text/plain": [
       "<Figure size 640x480 with 1 Axes>"
      ]
     },
     "metadata": {},
     "output_type": "display_data"
    }
   ],
   "source": [
    "import matplotlib.pyplot as plt\n",
    "\n",
    "\n",
    "forceatlas2 = ForceAtlas2()\n",
    "\n",
    "positions = forceatlas2.forceatlas2_networkx_layout(G, pos=None, iterations=20)\n",
    "# nx.draw(G1, node_color=color_map, pos=positions, )\n",
    "nx.draw_networkx_nodes(G, positions, node_size=[\n",
    "                       v * 2 for v in d.values()], alpha=0.5)\n",
    "nx.draw_networkx_edges(G, positions, edge_color=\"green\", alpha=0.5)\n",
    "plt.axis('off')\n",
    "plt.show()\n"
   ]
  }
 ],
 "metadata": {
  "kernelspec": {
   "display_name": "Python 3.9.12 ('base')",
   "language": "python",
   "name": "python3"
  },
  "language_info": {
   "codemirror_mode": {
    "name": "ipython",
    "version": 3
   },
   "file_extension": ".py",
   "mimetype": "text/x-python",
   "name": "python",
   "nbconvert_exporter": "python",
   "pygments_lexer": "ipython3",
   "version": "3.9.12"
  },
  "orig_nbformat": 4,
  "vscode": {
   "interpreter": {
    "hash": "fb833273add3e7c60eb33c0608260b79a61e072ade6f02cc8d07b0a26eef8ab8"
   }
  }
 },
 "nbformat": 4,
 "nbformat_minor": 2
}
